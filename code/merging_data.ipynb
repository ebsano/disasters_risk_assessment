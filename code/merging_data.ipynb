{
 "cells": [
  {
   "cell_type": "code",
   "execution_count": 1,
   "metadata": {},
   "outputs": [],
   "source": [
    "import pandas as pd\n",
    "import numpy as np\n",
    "import matplotlib.pyplot as plt\n",
    "from uszipcode import Zipcode, SearchEngine"
   ]
  },
  {
   "cell_type": "code",
   "execution_count": 2,
   "metadata": {},
   "outputs": [],
   "source": [
    "covid = pd.read_csv('../data/california_covid.csv')\n",
    "earthquake = pd.read_csv('../data/earthquakes_CA.csv')\n",
    "fire = pd.read_csv('../data/fire_data.csv')"
   ]
  },
  {
   "cell_type": "code",
   "execution_count": 3,
   "metadata": {},
   "outputs": [
    {
     "data": {
      "text/html": [
       "<div>\n",
       "<style scoped>\n",
       "    .dataframe tbody tr th:only-of-type {\n",
       "        vertical-align: middle;\n",
       "    }\n",
       "\n",
       "    .dataframe tbody tr th {\n",
       "        vertical-align: top;\n",
       "    }\n",
       "\n",
       "    .dataframe thead th {\n",
       "        text-align: right;\n",
       "    }\n",
       "</style>\n",
       "<table border=\"1\" class=\"dataframe\">\n",
       "  <thead>\n",
       "    <tr style=\"text-align: right;\">\n",
       "      <th></th>\n",
       "      <th>FIPS</th>\n",
       "      <th>Admin2</th>\n",
       "      <th>Province_State</th>\n",
       "      <th>Country_Region</th>\n",
       "      <th>Last_Update</th>\n",
       "      <th>Lat</th>\n",
       "      <th>Long_</th>\n",
       "      <th>Confirmed</th>\n",
       "      <th>Deaths</th>\n",
       "      <th>Recovered</th>\n",
       "      <th>Active</th>\n",
       "      <th>Combined_Key</th>\n",
       "      <th>Incidence_Rate</th>\n",
       "      <th>Case-Fatality_Ratio</th>\n",
       "    </tr>\n",
       "  </thead>\n",
       "  <tbody>\n",
       "    <tr>\n",
       "      <th>0</th>\n",
       "      <td>6001.0</td>\n",
       "      <td>Alameda</td>\n",
       "      <td>California</td>\n",
       "      <td>US</td>\n",
       "      <td>2020-10-17 04:24:12</td>\n",
       "      <td>37.646294</td>\n",
       "      <td>-121.892927</td>\n",
       "      <td>22408</td>\n",
       "      <td>439</td>\n",
       "      <td>0</td>\n",
       "      <td>21969.0</td>\n",
       "      <td>Alameda, California, US</td>\n",
       "      <td>1340.729443</td>\n",
       "      <td>1.959122</td>\n",
       "    </tr>\n",
       "    <tr>\n",
       "      <th>1</th>\n",
       "      <td>6003.0</td>\n",
       "      <td>Alpine</td>\n",
       "      <td>California</td>\n",
       "      <td>US</td>\n",
       "      <td>2020-10-17 04:24:12</td>\n",
       "      <td>38.596786</td>\n",
       "      <td>-119.822359</td>\n",
       "      <td>3</td>\n",
       "      <td>0</td>\n",
       "      <td>0</td>\n",
       "      <td>3.0</td>\n",
       "      <td>Alpine, California, US</td>\n",
       "      <td>265.721878</td>\n",
       "      <td>0.000000</td>\n",
       "    </tr>\n",
       "  </tbody>\n",
       "</table>\n",
       "</div>"
      ],
      "text/plain": [
       "     FIPS   Admin2 Province_State Country_Region          Last_Update  \\\n",
       "0  6001.0  Alameda     California             US  2020-10-17 04:24:12   \n",
       "1  6003.0   Alpine     California             US  2020-10-17 04:24:12   \n",
       "\n",
       "         Lat       Long_  Confirmed  Deaths  Recovered   Active  \\\n",
       "0  37.646294 -121.892927      22408     439          0  21969.0   \n",
       "1  38.596786 -119.822359          3       0          0      3.0   \n",
       "\n",
       "              Combined_Key  Incidence_Rate  Case-Fatality_Ratio  \n",
       "0  Alameda, California, US     1340.729443             1.959122  \n",
       "1   Alpine, California, US      265.721878             0.000000  "
      ]
     },
     "execution_count": 3,
     "metadata": {},
     "output_type": "execute_result"
    }
   ],
   "source": [
    "covid.head(2)"
   ]
  },
  {
   "cell_type": "code",
   "execution_count": 4,
   "metadata": {},
   "outputs": [],
   "source": [
    "# bringing in county population data as a column to the covid dataframe\n",
    "population = pd.read_html('https://www.california-demographics.com/counties_by_population')[0]"
   ]
  },
  {
   "cell_type": "code",
   "execution_count": 5,
   "metadata": {},
   "outputs": [
    {
     "data": {
      "text/html": [
       "<div>\n",
       "<style scoped>\n",
       "    .dataframe tbody tr th:only-of-type {\n",
       "        vertical-align: middle;\n",
       "    }\n",
       "\n",
       "    .dataframe tbody tr th {\n",
       "        vertical-align: top;\n",
       "    }\n",
       "\n",
       "    .dataframe thead th {\n",
       "        text-align: right;\n",
       "    }\n",
       "</style>\n",
       "<table border=\"1\" class=\"dataframe\">\n",
       "  <thead>\n",
       "    <tr style=\"text-align: right;\">\n",
       "      <th></th>\n",
       "      <th>Rank</th>\n",
       "      <th>County</th>\n",
       "      <th>Population</th>\n",
       "    </tr>\n",
       "  </thead>\n",
       "  <tbody>\n",
       "    <tr>\n",
       "      <th>0</th>\n",
       "      <td>1</td>\n",
       "      <td>Los Angeles County</td>\n",
       "      <td>10039107</td>\n",
       "    </tr>\n",
       "    <tr>\n",
       "      <th>1</th>\n",
       "      <td>2</td>\n",
       "      <td>San Diego County</td>\n",
       "      <td>3338330</td>\n",
       "    </tr>\n",
       "  </tbody>\n",
       "</table>\n",
       "</div>"
      ],
      "text/plain": [
       "  Rank              County Population\n",
       "0    1  Los Angeles County   10039107\n",
       "1    2    San Diego County    3338330"
      ]
     },
     "execution_count": 5,
     "metadata": {},
     "output_type": "execute_result"
    }
   ],
   "source": [
    "population.head(2)"
   ]
  },
  {
   "cell_type": "code",
   "execution_count": 6,
   "metadata": {},
   "outputs": [
    {
     "data": {
      "text/html": [
       "<div>\n",
       "<style scoped>\n",
       "    .dataframe tbody tr th:only-of-type {\n",
       "        vertical-align: middle;\n",
       "    }\n",
       "\n",
       "    .dataframe tbody tr th {\n",
       "        vertical-align: top;\n",
       "    }\n",
       "\n",
       "    .dataframe thead th {\n",
       "        text-align: right;\n",
       "    }\n",
       "</style>\n",
       "<table border=\"1\" class=\"dataframe\">\n",
       "  <thead>\n",
       "    <tr style=\"text-align: right;\">\n",
       "      <th></th>\n",
       "      <th>Event ID</th>\n",
       "      <th>Name/Epicenter</th>\n",
       "      <th>Date</th>\n",
       "      <th>Lat</th>\n",
       "      <th>Lon</th>\n",
       "      <th>Mag</th>\n",
       "    </tr>\n",
       "  </thead>\n",
       "  <tbody>\n",
       "    <tr>\n",
       "      <th>0</th>\n",
       "      <td>73472891</td>\n",
       "      <td>10 km (6.25 mi) ESE of Willits, CA</td>\n",
       "      <td>2020-10-19</td>\n",
       "      <td>39.36</td>\n",
       "      <td>-123.25</td>\n",
       "      <td>3.4</td>\n",
       "    </tr>\n",
       "    <tr>\n",
       "      <th>1</th>\n",
       "      <td>73472896</td>\n",
       "      <td>11 km (6.875 mi) ESE of Willits, CA</td>\n",
       "      <td>2020-10-19</td>\n",
       "      <td>39.37</td>\n",
       "      <td>-123.24</td>\n",
       "      <td>3.8</td>\n",
       "    </tr>\n",
       "  </tbody>\n",
       "</table>\n",
       "</div>"
      ],
      "text/plain": [
       "   Event ID                       Name/Epicenter        Date    Lat     Lon  \\\n",
       "0  73472891   10 km (6.25 mi) ESE of Willits, CA  2020-10-19  39.36 -123.25   \n",
       "1  73472896  11 km (6.875 mi) ESE of Willits, CA  2020-10-19  39.37 -123.24   \n",
       "\n",
       "   Mag  \n",
       "0  3.4  \n",
       "1  3.8  "
      ]
     },
     "execution_count": 6,
     "metadata": {},
     "output_type": "execute_result"
    }
   ],
   "source": [
    "earthquake.head(2)"
   ]
  },
  {
   "cell_type": "code",
   "execution_count": 7,
   "metadata": {},
   "outputs": [
    {
     "data": {
      "text/html": [
       "<div>\n",
       "<style scoped>\n",
       "    .dataframe tbody tr th:only-of-type {\n",
       "        vertical-align: middle;\n",
       "    }\n",
       "\n",
       "    .dataframe tbody tr th {\n",
       "        vertical-align: top;\n",
       "    }\n",
       "\n",
       "    .dataframe thead th {\n",
       "        text-align: right;\n",
       "    }\n",
       "</style>\n",
       "<table border=\"1\" class=\"dataframe\">\n",
       "  <thead>\n",
       "    <tr style=\"text-align: right;\">\n",
       "      <th></th>\n",
       "      <th>Name</th>\n",
       "      <th>Final</th>\n",
       "      <th>Started</th>\n",
       "      <th>County</th>\n",
       "      <th>AcresBurned</th>\n",
       "      <th>PercentContained</th>\n",
       "      <th>Longitude</th>\n",
       "      <th>Latitude</th>\n",
       "      <th>Type</th>\n",
       "      <th>IsActive</th>\n",
       "      <th>CalFireIncident</th>\n",
       "      <th>Location</th>\n",
       "    </tr>\n",
       "  </thead>\n",
       "  <tbody>\n",
       "    <tr>\n",
       "      <th>0</th>\n",
       "      <td>Apple Fire</td>\n",
       "      <td>False</td>\n",
       "      <td>2020-07-31T18:08:39Z</td>\n",
       "      <td>Riverside</td>\n",
       "      <td>0</td>\n",
       "      <td>0</td>\n",
       "      <td>-116.9617</td>\n",
       "      <td>33.99139</td>\n",
       "      <td>Wildfire</td>\n",
       "      <td>True</td>\n",
       "      <td>False</td>\n",
       "      <td>off of Oak Glen Road and Apple Tree Lane, Nort...</td>\n",
       "    </tr>\n",
       "    <tr>\n",
       "      <th>1</th>\n",
       "      <td>August Complex (includes Doe Fire)</td>\n",
       "      <td>False</td>\n",
       "      <td>2020-08-16T20:37:26Z</td>\n",
       "      <td>Mendocino, Humboldt, Trinity, Tehama, Glenn, L...</td>\n",
       "      <td>1032209</td>\n",
       "      <td>80</td>\n",
       "      <td>-122.6730</td>\n",
       "      <td>39.77600</td>\n",
       "      <td>Wildfire</td>\n",
       "      <td>True</td>\n",
       "      <td>True</td>\n",
       "      <td>Mendocino, Humboldt, Trinity, Tehama, Glenn, ...</td>\n",
       "    </tr>\n",
       "  </tbody>\n",
       "</table>\n",
       "</div>"
      ],
      "text/plain": [
       "                                 Name  Final               Started  \\\n",
       "0                          Apple Fire  False  2020-07-31T18:08:39Z   \n",
       "1  August Complex (includes Doe Fire)  False  2020-08-16T20:37:26Z   \n",
       "\n",
       "                                              County  AcresBurned  \\\n",
       "0                                          Riverside            0   \n",
       "1  Mendocino, Humboldt, Trinity, Tehama, Glenn, L...      1032209   \n",
       "\n",
       "   PercentContained  Longitude  Latitude      Type  IsActive  CalFireIncident  \\\n",
       "0                 0  -116.9617  33.99139  Wildfire      True            False   \n",
       "1                80  -122.6730  39.77600  Wildfire      True             True   \n",
       "\n",
       "                                            Location  \n",
       "0  off of Oak Glen Road and Apple Tree Lane, Nort...  \n",
       "1   Mendocino, Humboldt, Trinity, Tehama, Glenn, ...  "
      ]
     },
     "execution_count": 7,
     "metadata": {},
     "output_type": "execute_result"
    }
   ],
   "source": [
    "fire.head(2)"
   ]
  },
  {
   "cell_type": "code",
   "execution_count": 8,
   "metadata": {},
   "outputs": [
    {
     "data": {
      "text/plain": [
       "(58, 14)"
      ]
     },
     "execution_count": 8,
     "metadata": {},
     "output_type": "execute_result"
    }
   ],
   "source": [
    "covid.shape"
   ]
  },
  {
   "cell_type": "code",
   "execution_count": 9,
   "metadata": {},
   "outputs": [
    {
     "data": {
      "text/plain": [
       "(59, 3)"
      ]
     },
     "execution_count": 9,
     "metadata": {},
     "output_type": "execute_result"
    }
   ],
   "source": [
    "population.shape"
   ]
  },
  {
   "cell_type": "code",
   "execution_count": 10,
   "metadata": {},
   "outputs": [
    {
     "data": {
      "text/plain": [
       "(59, 3)"
      ]
     },
     "execution_count": 10,
     "metadata": {},
     "output_type": "execute_result"
    }
   ],
   "source": [
    "population.shape"
   ]
  },
  {
   "cell_type": "code",
   "execution_count": 11,
   "metadata": {},
   "outputs": [],
   "source": [
    "population = population[population['County'].str.contains('County')]"
   ]
  },
  {
   "cell_type": "code",
   "execution_count": 12,
   "metadata": {},
   "outputs": [],
   "source": [
    "# fix county names so they don't contain 'County'\n",
    "population['county'] = population['County'].apply(lambda x: ' '.join(x.split()[:-1]))"
   ]
  },
  {
   "cell_type": "code",
   "execution_count": 13,
   "metadata": {},
   "outputs": [],
   "source": [
    "# drop 'Rank' and 'County' columns from population dataframe\n",
    "population.drop(columns=['Rank', 'County'], inplace=True)"
   ]
  },
  {
   "cell_type": "code",
   "execution_count": 14,
   "metadata": {},
   "outputs": [
    {
     "data": {
      "text/plain": [
       "(200, 6)"
      ]
     },
     "execution_count": 14,
     "metadata": {},
     "output_type": "execute_result"
    }
   ],
   "source": [
    "earthquake.shape"
   ]
  },
  {
   "cell_type": "code",
   "execution_count": 15,
   "metadata": {},
   "outputs": [
    {
     "data": {
      "text/plain": [
       "(202, 12)"
      ]
     },
     "execution_count": 15,
     "metadata": {},
     "output_type": "execute_result"
    }
   ],
   "source": [
    "fire.shape"
   ]
  },
  {
   "cell_type": "code",
   "execution_count": 16,
   "metadata": {},
   "outputs": [
    {
     "data": {
      "text/plain": [
       "Wildfire    202\n",
       "Name: Type, dtype: int64"
      ]
     },
     "execution_count": 16,
     "metadata": {},
     "output_type": "execute_result"
    }
   ],
   "source": [
    "fire['Type'].value_counts()"
   ]
  },
  {
   "cell_type": "code",
   "execution_count": 17,
   "metadata": {},
   "outputs": [],
   "source": [
    "# drop `Type` column because they are all wildfires\n",
    "fire.drop(columns = ['Type'], inplace = True)"
   ]
  },
  {
   "cell_type": "markdown",
   "metadata": {},
   "source": [
    "The goal here is to merge dataframes based on county column as a common key. Covid data is clean and ready to go. Some fires extend to multiple counties. We are going to base our analysis on the county level, so we need to preserve the fire information for each county. Here, we are going to separate the county to individual counties while copying the fire data where the fire spans to multiple counties."
   ]
  },
  {
   "cell_type": "code",
   "execution_count": 18,
   "metadata": {},
   "outputs": [],
   "source": [
    "# first change the `County` column from str to a list\n",
    "fire['County'] = fire['County'].apply(lambda x: x.split(', '))"
   ]
  },
  {
   "cell_type": "code",
   "execution_count": 19,
   "metadata": {},
   "outputs": [],
   "source": [
    "# modified from https://stackoverflow.com/questions/24029659/python-pandas-replicate-rows-in-dataframe\n",
    "# making copies of the rows with more than one county listed. The number of copies correspond to the number of counties\n",
    "reps = [len(county) if  len(county) > 1 else 1 for county in fire['County']]\n",
    "fire = fire.loc[np.repeat(fire.index.values, reps)]"
   ]
  },
  {
   "cell_type": "code",
   "execution_count": 20,
   "metadata": {},
   "outputs": [],
   "source": [
    "# reset index \n",
    "fire.reset_index(inplace=True, drop=True)"
   ]
  },
  {
   "cell_type": "code",
   "execution_count": 21,
   "metadata": {},
   "outputs": [],
   "source": [
    "# reassign single counties to the `County` column\n",
    "\n",
    "# index counter and an empty counties list\n",
    "index = 0\n",
    "counties = []\n",
    "\n",
    "# loop to have an index track to not go out of index range\n",
    "for indexer in range(len(fire)):\n",
    "    while index <= indexer:\n",
    "        \n",
    "        # if there is only a single county name, append that county name to the list\n",
    "        if len(fire.iloc[index, 3]) == 1:\n",
    "            counties.append(fire.iloc[index, 3][0])\n",
    "            index += 1\n",
    "            \n",
    "        # if there is more than one single county name, append each county name to the list\n",
    "        else:\n",
    "            for i in range(0, len(fire.iloc[index, 3])):\n",
    "                # append each indiviual county name of the multi-county list\n",
    "                counties.append(fire.iloc[index, 3][i])\n",
    "            # set the index, so that it goes to the next 'unique' item\n",
    "            index += len(fire.iloc[index, 3])\n",
    "\n",
    "# reassign `County` column to this new list\n",
    "fire['County'] = counties"
   ]
  },
  {
   "cell_type": "markdown",
   "metadata": {},
   "source": [
    "The earthquake dataset does not include county names, so we are making a new column with the county names assigned from latitude and longitude using the python `uszipcode` library."
   ]
  },
  {
   "cell_type": "code",
   "execution_count": 22,
   "metadata": {},
   "outputs": [],
   "source": [
    "# make a function to retrive the county name from lat and long \n",
    "def county_name(x):\n",
    "    '''Takes in latitude and longitude (as a literable) and returns the closest county name for the given coordinates'''\n",
    "    lat, long = x\n",
    "    search = SearchEngine()\n",
    "    result = search.by_coordinates(lat, long, radius=100)\n",
    "    # get the county name\n",
    "    try:\n",
    "        county = result[0].county\n",
    "        \n",
    "        # this is in 'XXXX County', so fix the format so that it's only the county name without 'County' at the end\n",
    "        county = county.split()\n",
    "        \n",
    "        # get everything but the last item (which is 'County')\n",
    "        county = county[:-1]\n",
    "        \n",
    "        # return a string\n",
    "        return ' '.join(county)\n",
    "        \n",
    "    except:\n",
    "        print(f'Something went wrong. Check your coordinates: {x}')    \n",
    "  "
   ]
  },
  {
   "cell_type": "code",
   "execution_count": 23,
   "metadata": {},
   "outputs": [],
   "source": [
    "counties = earthquake[['Lat', 'Lon']].apply(county_name, axis=1)"
   ]
  },
  {
   "cell_type": "code",
   "execution_count": 24,
   "metadata": {},
   "outputs": [],
   "source": [
    "# add a county column\n",
    "earthquake['county'] = counties"
   ]
  },
  {
   "cell_type": "code",
   "execution_count": 25,
   "metadata": {},
   "outputs": [],
   "source": [
    "# making dictionaries to change column names before merging\n",
    "\n",
    "covid_cols = {\n",
    "    'FIPS': 'fips',\n",
    "    'Admin2': 'county',\n",
    "    'Province_State': 'province_state',\n",
    "    'Country_Region': 'country',\n",
    "    'Last_Update': 'covid_last_update',\n",
    "    'Lat': 'covid_latitude',\n",
    "    'Long_': 'covid_longitudue',\n",
    "    'Confirmed': 'covid_confirmed',\n",
    "    'Deaths': 'covid_death',\n",
    "    'Recovered': 'covid_recoverd',\n",
    "    'Active': 'covid_active',\n",
    "    'Combined_Key': 'combined_key',\n",
    "    'Incidence_Rate': 'covid_indidence_rate',\n",
    "    'Case-Fatality_Ratio': 'covid_case_fatality_ratio',\n",
    "    'Population': 'county_population'\n",
    "}\n",
    "\n",
    "earthquake_cols = {\n",
    "    'Event ID': 'earthquake_id',\n",
    "    'Name/Epicenter': 'eipicenter',\n",
    "    'Date': 'earthquake_date',\n",
    "    'Lat': 'earthquake_latidute',\n",
    "    'Lon': 'earthquake_longitude',\n",
    "    'Mag': 'magnitude'\n",
    "}\n",
    "\n",
    "fire_cols = {\n",
    "    'Name': 'fire_name',\n",
    "    'Final': 'fire_is_final',\n",
    "    'Started': 'fire_started',\n",
    "    'County': 'county',\n",
    "    'AcresBurned': 'acres_burned',\n",
    "    'PercentContained': 'fire_percent_contained',\n",
    "    'Longitude': 'fire_longitude',\n",
    "    'Latitude': 'fire_latitude',\n",
    "    'IsActive': 'fire_is_active',\n",
    "    'CalFireIncident': 'is_calfireincident',\n",
    "    'Location': 'fire_location'\n",
    "}"
   ]
  },
  {
   "cell_type": "code",
   "execution_count": 26,
   "metadata": {},
   "outputs": [],
   "source": [
    "covid.rename(columns=covid_cols, inplace=True)"
   ]
  },
  {
   "cell_type": "code",
   "execution_count": 27,
   "metadata": {},
   "outputs": [],
   "source": [
    "earthquake.rename(columns=earthquake_cols, inplace=True)"
   ]
  },
  {
   "cell_type": "code",
   "execution_count": 28,
   "metadata": {},
   "outputs": [],
   "source": [
    "fire.rename(columns=fire_cols, inplace=True)"
   ]
  },
  {
   "cell_type": "markdown",
   "metadata": {},
   "source": [
    "Merge all three dataframes using `county` as the common key. In order to keep all information, we are using outer merge."
   ]
  },
  {
   "cell_type": "code",
   "execution_count": 30,
   "metadata": {},
   "outputs": [],
   "source": [
    "# first merge the population data to covid data. this will be done as left join\n",
    "covid = pd.merge(covid, population, on='county', how='left')"
   ]
  },
  {
   "cell_type": "code",
   "execution_count": 31,
   "metadata": {},
   "outputs": [],
   "source": [
    "covid_earthquake = pd.merge(covid, earthquake, how='outer', on='county')"
   ]
  },
  {
   "cell_type": "code",
   "execution_count": 32,
   "metadata": {},
   "outputs": [],
   "source": [
    "all_3 = pd.merge(covid_earthquake, fire, how='outer', on='county')"
   ]
  },
  {
   "cell_type": "code",
   "execution_count": 33,
   "metadata": {},
   "outputs": [],
   "source": [
    "all_3.to_csv('../data/covid_fire_earthquake.csv')"
   ]
  },
  {
   "cell_type": "code",
   "execution_count": 100,
   "metadata": {},
   "outputs": [
    {
     "data": {
      "text/html": [
       "<div>\n",
       "<style scoped>\n",
       "    .dataframe tbody tr th:only-of-type {\n",
       "        vertical-align: middle;\n",
       "    }\n",
       "\n",
       "    .dataframe tbody tr th {\n",
       "        vertical-align: top;\n",
       "    }\n",
       "\n",
       "    .dataframe thead th {\n",
       "        text-align: right;\n",
       "    }\n",
       "</style>\n",
       "<table border=\"1\" class=\"dataframe\">\n",
       "  <thead>\n",
       "    <tr style=\"text-align: right;\">\n",
       "      <th></th>\n",
       "      <th></th>\n",
       "      <th>is_final</th>\n",
       "      <th>acres_burned</th>\n",
       "      <th>percent_contained</th>\n",
       "      <th>fire_longitude</th>\n",
       "      <th>fire_latitude</th>\n",
       "      <th>is_active</th>\n",
       "      <th>is_calfireincident</th>\n",
       "    </tr>\n",
       "    <tr>\n",
       "      <th>county</th>\n",
       "      <th>name</th>\n",
       "      <th></th>\n",
       "      <th></th>\n",
       "      <th></th>\n",
       "      <th></th>\n",
       "      <th></th>\n",
       "      <th></th>\n",
       "      <th></th>\n",
       "    </tr>\n",
       "  </thead>\n",
       "  <tbody>\n",
       "    <tr>\n",
       "      <th rowspan=\"3\" valign=\"top\">Alameda</th>\n",
       "      <th>Hollow Fire</th>\n",
       "      <td>1</td>\n",
       "      <td>253</td>\n",
       "      <td>100</td>\n",
       "      <td>-121.593740</td>\n",
       "      <td>37.640440</td>\n",
       "      <td>0</td>\n",
       "      <td>1</td>\n",
       "    </tr>\n",
       "    <tr>\n",
       "      <th>SCU Lightning Complex</th>\n",
       "      <td>1</td>\n",
       "      <td>396624</td>\n",
       "      <td>100</td>\n",
       "      <td>-121.304350</td>\n",
       "      <td>37.439437</td>\n",
       "      <td>0</td>\n",
       "      <td>1</td>\n",
       "    </tr>\n",
       "    <tr>\n",
       "      <th>Sheridan Fire</th>\n",
       "      <td>1</td>\n",
       "      <td>108</td>\n",
       "      <td>100</td>\n",
       "      <td>-121.876277</td>\n",
       "      <td>37.536015</td>\n",
       "      <td>0</td>\n",
       "      <td>1</td>\n",
       "    </tr>\n",
       "    <tr>\n",
       "      <th rowspan=\"2\" valign=\"top\">Amador</th>\n",
       "      <th>Copper Fire</th>\n",
       "      <td>1</td>\n",
       "      <td>48</td>\n",
       "      <td>100</td>\n",
       "      <td>-121.003602</td>\n",
       "      <td>38.493750</td>\n",
       "      <td>0</td>\n",
       "      <td>1</td>\n",
       "    </tr>\n",
       "    <tr>\n",
       "      <th>Lambert Fire</th>\n",
       "      <td>1</td>\n",
       "      <td>21</td>\n",
       "      <td>100</td>\n",
       "      <td>-121.006635</td>\n",
       "      <td>38.424016</td>\n",
       "      <td>0</td>\n",
       "      <td>1</td>\n",
       "    </tr>\n",
       "    <tr>\n",
       "      <th>...</th>\n",
       "      <th>...</th>\n",
       "      <td>...</td>\n",
       "      <td>...</td>\n",
       "      <td>...</td>\n",
       "      <td>...</td>\n",
       "      <td>...</td>\n",
       "      <td>...</td>\n",
       "      <td>...</td>\n",
       "    </tr>\n",
       "    <tr>\n",
       "      <th>Yolo</th>\n",
       "      <th>LNU Lightning Complex (includes Hennessey, Gamble, 15-10, Spanish, Markley, 13-4, 11-16, Walbridge)</th>\n",
       "      <td>1</td>\n",
       "      <td>363220</td>\n",
       "      <td>100</td>\n",
       "      <td>-122.148640</td>\n",
       "      <td>38.481930</td>\n",
       "      <td>0</td>\n",
       "      <td>1</td>\n",
       "    </tr>\n",
       "    <tr>\n",
       "      <th rowspan=\"4\" valign=\"top\">Yuba</th>\n",
       "      <th>Beale Fire</th>\n",
       "      <td>1</td>\n",
       "      <td>600</td>\n",
       "      <td>100</td>\n",
       "      <td>-121.381780</td>\n",
       "      <td>39.113070</td>\n",
       "      <td>0</td>\n",
       "      <td>0</td>\n",
       "    </tr>\n",
       "    <tr>\n",
       "      <th>Fields Fire</th>\n",
       "      <td>1</td>\n",
       "      <td>56</td>\n",
       "      <td>100</td>\n",
       "      <td>-121.450982</td>\n",
       "      <td>39.181047</td>\n",
       "      <td>0</td>\n",
       "      <td>1</td>\n",
       "    </tr>\n",
       "    <tr>\n",
       "      <th>Valley Fire</th>\n",
       "      <td>1</td>\n",
       "      <td>500</td>\n",
       "      <td>100</td>\n",
       "      <td>-121.335890</td>\n",
       "      <td>39.101120</td>\n",
       "      <td>0</td>\n",
       "      <td>0</td>\n",
       "    </tr>\n",
       "    <tr>\n",
       "      <th>Willow Fire</th>\n",
       "      <td>1</td>\n",
       "      <td>1311</td>\n",
       "      <td>100</td>\n",
       "      <td>-121.323610</td>\n",
       "      <td>39.363700</td>\n",
       "      <td>0</td>\n",
       "      <td>1</td>\n",
       "    </tr>\n",
       "  </tbody>\n",
       "</table>\n",
       "<p>223 rows × 7 columns</p>\n",
       "</div>"
      ],
      "text/plain": [
       "                                                            is_final  \\\n",
       "county  name                                                           \n",
       "Alameda Hollow Fire                                                1   \n",
       "        SCU Lightning Complex                                      1   \n",
       "        Sheridan Fire                                              1   \n",
       "Amador  Copper Fire                                                1   \n",
       "        Lambert Fire                                               1   \n",
       "...                                                              ...   \n",
       "Yolo    LNU Lightning Complex (includes Hennessey, Gamb...         1   \n",
       "Yuba    Beale Fire                                                 1   \n",
       "        Fields Fire                                                1   \n",
       "        Valley Fire                                                1   \n",
       "        Willow Fire                                                1   \n",
       "\n",
       "                                                            acres_burned  \\\n",
       "county  name                                                               \n",
       "Alameda Hollow Fire                                                  253   \n",
       "        SCU Lightning Complex                                     396624   \n",
       "        Sheridan Fire                                                108   \n",
       "Amador  Copper Fire                                                   48   \n",
       "        Lambert Fire                                                  21   \n",
       "...                                                                  ...   \n",
       "Yolo    LNU Lightning Complex (includes Hennessey, Gamb...        363220   \n",
       "Yuba    Beale Fire                                                   600   \n",
       "        Fields Fire                                                   56   \n",
       "        Valley Fire                                                  500   \n",
       "        Willow Fire                                                 1311   \n",
       "\n",
       "                                                            percent_contained  \\\n",
       "county  name                                                                    \n",
       "Alameda Hollow Fire                                                       100   \n",
       "        SCU Lightning Complex                                             100   \n",
       "        Sheridan Fire                                                     100   \n",
       "Amador  Copper Fire                                                       100   \n",
       "        Lambert Fire                                                      100   \n",
       "...                                                                       ...   \n",
       "Yolo    LNU Lightning Complex (includes Hennessey, Gamb...                100   \n",
       "Yuba    Beale Fire                                                        100   \n",
       "        Fields Fire                                                       100   \n",
       "        Valley Fire                                                       100   \n",
       "        Willow Fire                                                       100   \n",
       "\n",
       "                                                            fire_longitude  \\\n",
       "county  name                                                                 \n",
       "Alameda Hollow Fire                                            -121.593740   \n",
       "        SCU Lightning Complex                                  -121.304350   \n",
       "        Sheridan Fire                                          -121.876277   \n",
       "Amador  Copper Fire                                            -121.003602   \n",
       "        Lambert Fire                                           -121.006635   \n",
       "...                                                                    ...   \n",
       "Yolo    LNU Lightning Complex (includes Hennessey, Gamb...     -122.148640   \n",
       "Yuba    Beale Fire                                             -121.381780   \n",
       "        Fields Fire                                            -121.450982   \n",
       "        Valley Fire                                            -121.335890   \n",
       "        Willow Fire                                            -121.323610   \n",
       "\n",
       "                                                            fire_latitude  \\\n",
       "county  name                                                                \n",
       "Alameda Hollow Fire                                             37.640440   \n",
       "        SCU Lightning Complex                                   37.439437   \n",
       "        Sheridan Fire                                           37.536015   \n",
       "Amador  Copper Fire                                             38.493750   \n",
       "        Lambert Fire                                            38.424016   \n",
       "...                                                                   ...   \n",
       "Yolo    LNU Lightning Complex (includes Hennessey, Gamb...      38.481930   \n",
       "Yuba    Beale Fire                                              39.113070   \n",
       "        Fields Fire                                             39.181047   \n",
       "        Valley Fire                                             39.101120   \n",
       "        Willow Fire                                             39.363700   \n",
       "\n",
       "                                                            is_active  \\\n",
       "county  name                                                            \n",
       "Alameda Hollow Fire                                                 0   \n",
       "        SCU Lightning Complex                                       0   \n",
       "        Sheridan Fire                                               0   \n",
       "Amador  Copper Fire                                                 0   \n",
       "        Lambert Fire                                                0   \n",
       "...                                                               ...   \n",
       "Yolo    LNU Lightning Complex (includes Hennessey, Gamb...          0   \n",
       "Yuba    Beale Fire                                                  0   \n",
       "        Fields Fire                                                 0   \n",
       "        Valley Fire                                                 0   \n",
       "        Willow Fire                                                 0   \n",
       "\n",
       "                                                            is_calfireincident  \n",
       "county  name                                                                    \n",
       "Alameda Hollow Fire                                                          1  \n",
       "        SCU Lightning Complex                                                1  \n",
       "        Sheridan Fire                                                        1  \n",
       "Amador  Copper Fire                                                          1  \n",
       "        Lambert Fire                                                         1  \n",
       "...                                                                        ...  \n",
       "Yolo    LNU Lightning Complex (includes Hennessey, Gamb...                   1  \n",
       "Yuba    Beale Fire                                                           0  \n",
       "        Fields Fire                                                          1  \n",
       "        Valley Fire                                                          0  \n",
       "        Willow Fire                                                          1  \n",
       "\n",
       "[223 rows x 7 columns]"
      ]
     },
     "execution_count": 100,
     "metadata": {},
     "output_type": "execute_result"
    }
   ],
   "source": [
    "fire.groupby(['county', 'name']).sum()"
   ]
  },
  {
   "cell_type": "code",
   "execution_count": 102,
   "metadata": {},
   "outputs": [
    {
     "data": {
      "text/plain": [
       "county           name                                                                                               \n",
       "Alameda          Hollow Fire                                                                                            1\n",
       "                 SCU Lightning Complex                                                                                  1\n",
       "                 Sheridan Fire                                                                                          1\n",
       "Amador           Copper Fire                                                                                            1\n",
       "                 Lambert Fire                                                                                           1\n",
       "Butte            Avacado Fire                                                                                           1\n",
       "                 Candy Fire                                                                                             1\n",
       "                 Clark Fire                                                                                             1\n",
       "                 Feather Fire                                                                                           1\n",
       "                 Honcut Fire                                                                                            1\n",
       "                 Nelson Fire                                                                                            1\n",
       "                 North Complex Fire                                                                                     1\n",
       "                 Robinson Fire                                                                                          1\n",
       "                 Teddy Fire                                                                                             1\n",
       "Calaveras        Diamond Fire                                                                                           1\n",
       "                 Flint Fire                                                                                             1\n",
       "                 Walker Fire                                                                                            1\n",
       "Colusa           August Complex (includes Doe Fire)                                                                     1\n",
       "                 Hill Fire                                                                                              1\n",
       "                 Nail Fire                                                                                              1\n",
       "                 Sites Fire                                                                                             1\n",
       "Contra Costa     Byron Fire                                                                                             1\n",
       "                 Holland Fire                                                                                           1\n",
       "                 Irvine Fire                                                                                            1\n",
       "                 SCU Lightning Complex                                                                                  1\n",
       "                 Willow Fire                                                                                            1\n",
       "El Dorado        Fork Fire                                                                                              1\n",
       "                 Murphy Fire                                                                                            1\n",
       "                 Sophia Fire                                                                                            1\n",
       "Fresno           Bullfrog Fire                                                                                          1\n",
       "                 Creek Fire                                                                                             1\n",
       "                 Hog Fire                                                                                               1\n",
       "                 Mineral Fire                                                                                           1\n",
       "                 Sycamore Fire                                                                                          1\n",
       "Glenn            4-8 Fire                                                                                               1\n",
       "                 August Complex (includes Doe Fire)                                                                     1\n",
       "                 Baseball Fire                                                                                          1\n",
       "                 Butte/Tehama/Glenn Lightning Complex (Tehama/Glenn Zone)                                               1\n",
       "                 Elk Fire                                                                                               1\n",
       "                 Grizzly Fire                                                                                           1\n",
       "Humboldt         August Complex (includes Doe Fire)                                                                     1\n",
       "                 Lincoln Fire                                                                                           1\n",
       "                 Milepost 21 Fire                                                                                       1\n",
       "                 Red Salmon Complex                                                                                     1\n",
       "Imperial         Carter Fire                                                                                            1\n",
       "Kern             Baker Fire                                                                                             1\n",
       "                 Bena Fire                                                                                              1\n",
       "                 Fort Fire                                                                                              1\n",
       "                 Sheep Fire                                                                                             1\n",
       "                 Soda Fire                                                                                              1\n",
       "                 Stagecoach Fire                                                                                        1\n",
       "Kings            Interstate 5 Fire                                                                                      1\n",
       "Lake             August Complex (includes Doe Fire)                                                                     1\n",
       "                 Catholic Fire                                                                                          1\n",
       "                 LNU Lightning Complex (includes Hennessey, Gamble, 15-10, Spanish, Markley, 13-4, 11-16, Walbridge)    1\n",
       "Lassen           Gold Fire                                                                                              1\n",
       "                 Hog Fire                                                                                               1\n",
       "                 Horn Fire                                                                                              1\n",
       "                 Muck Fire                                                                                              1\n",
       "                 North Fire                                                                                             1\n",
       "                 R-1 Fire                                                                                               1\n",
       "                 R-2 Fire                                                                                               1\n",
       "                 R-3 Fire                                                                                               1\n",
       "                 W-5 Cold Springs                                                                                       1\n",
       "                 Wood Fire                                                                                              1\n",
       "Los Angeles      Bobcat Fire                                                                                            1\n",
       "                 Elsmere Fire                                                                                           1\n",
       "                 Johnson Fire                                                                                           1\n",
       "                 Lake Fire                                                                                              1\n",
       "                 Martindale Fire                                                                                        1\n",
       "                 Post Fire                                                                                              1\n",
       "                 Ridge Fire                                                                                             1\n",
       "                 Rowher Fire                                                                                            1\n",
       "                 Soledad Fire                                                                                           1\n",
       "Madera           Bonadelle Fire                                                                                         1\n",
       "                 Creek Fire                                                                                             1\n",
       "                 Hensley Fire                                                                                           1\n",
       "                 Power Fire                                                                                             1\n",
       "                 Rabbit Fire                                                                                            1\n",
       "Marin            Woodward Fire                                                                                          1\n",
       "Mariposa         Ben Fire                                                                                               1\n",
       "                 Blue Jay Fire                                                                                          1\n",
       "                 Cornetts Fire                                                                                          1\n",
       "                 Hunters Fire                                                                                           1\n",
       "                 Wolf Fire                                                                                              1\n",
       "Mendocino        3-19 Fire                                                                                              1\n",
       "                 August Complex (includes Doe Fire)                                                                     1\n",
       "                 Baseball Fire                                                                                          1\n",
       "                 Creek Fire                                                                                             1\n",
       "                 Hopland Fire                                                                                           1\n",
       "                 Mina Fire                                                                                              1\n",
       "                 Oak Fire                                                                                               1\n",
       "                 Vineyard Fire                                                                                          1\n",
       "Merced           Pass Fire                                                                                              1\n",
       "Mono             Aurora Fire                                                                                            1\n",
       "                 Beach Fire                                                                                             1\n",
       "                 Iris Fire                                                                                              1\n",
       "                 Slink Fire                                                                                             1\n",
       "Monterey         Bradley Fire                                                                                           1\n",
       "                 Dolan Fire                                                                                             1\n",
       "                 Hunter Fire                                                                                            1\n",
       "                 Rico Fire                                                                                              1\n",
       "                 Ridge Fire                                                                                             1\n",
       "                 Stage Fire                                                                                             1\n",
       "Napa             Glass Fire                                                                                             1\n",
       "                 LNU Lightning Complex (includes Hennessey, Gamble, 15-10, Spanish, Markley, 13-4, 11-16, Walbridge)    1\n",
       "                 Spanish Fire                                                                                           1\n",
       "Nevada           Jones Fire                                                                                             1\n",
       "Placer           Duluth Fire                                                                                            1\n",
       "                 Karchner Fire                                                                                          1\n",
       "                 Nelson Fire                                                                                            1\n",
       "                 Watt Fire                                                                                              1\n",
       "Plumas           North Complex Fire                                                                                     1\n",
       "                 Sheep Fire                                                                                             1\n",
       "Riverside        58 Fire                                                                                                1\n",
       "                 Apple Fire                                                                                             1\n",
       "                 Candy Fire                                                                                             1\n",
       "                 Casino Fire                                                                                            1\n",
       "                 Dawson Fire                                                                                            1\n",
       "                 El Dorado Fire                                                                                         1\n",
       "                 Elliot Fire                                                                                            1\n",
       "                 Gilman Fire                                                                                            1\n",
       "                 Grand Fire                                                                                             1\n",
       "                 Harley Fire                                                                                            1\n",
       "                 Jack Fire                                                                                              1\n",
       "                 Karen Fire                                                                                             1\n",
       "                 Oak Fire                                                                                               1\n",
       "                 Rabbit Fire                                                                                            1\n",
       "                 Sierra Fire                                                                                            1\n",
       "                 Smoketree Fire                                                                                         1\n",
       "                 Tripp Fire                                                                                             1\n",
       "                 Water Fire                                                                                             1\n",
       "Sacramento       Clay Fire                                                                                              1\n",
       "                 Grant Fire                                                                                             1\n",
       "                 Ione Fire                                                                                              1\n",
       "                 Meiss Fire                                                                                             1\n",
       "                 Pony Fire                                                                                              1\n",
       "San Benito       Bitter Fire                                                                                            1\n",
       "                 Coyote Fire                                                                                            1\n",
       "San Bernardino   Brook Fire                                                                                             1\n",
       "                 Bruder Fire                                                                                            1\n",
       "                 Easton Fire                                                                                            1\n",
       "                 El Dorado Fire                                                                                         1\n",
       "                 Mount R Fire                                                                                           1\n",
       "                 Pitzer Fire                                                                                            1\n",
       "San Diego        Border 7 Fire                                                                                          1\n",
       "                 India Fire                                                                                             1\n",
       "                 Skyline Fire                                                                                           1\n",
       "                 Valley Fire                                                                                            1\n",
       "                 Volcano Fire                                                                                           1\n",
       "San Joaquin      Liberty Fire                                                                                           1\n",
       "                 Patterson Fire                                                                                         1\n",
       "                 SCU Lightning Complex                                                                                  1\n",
       "San Luis Obispo  3-2 Fire                                                                                               1\n",
       "                 Avila Fire                                                                                             1\n",
       "                 Bend Fire                                                                                              1\n",
       "                 Branch Fire                                                                                            1\n",
       "                 Carrizo Fire                                                                                           1\n",
       "                 Gage Fire                                                                                              1\n",
       "                 Pass Fire                                                                                              1\n",
       "                 Pond Fire                                                                                              1\n",
       "                 Range Fire                                                                                             1\n",
       "                 Riata Fire                                                                                             1\n",
       "                 River Fire                                                                                             1\n",
       "                 Soda Fire                                                                                              1\n",
       "                 Soda Fire                                                                                              1\n",
       "                 Whale Fire                                                                                             1\n",
       "San Mateo        CZU Lightning Complex (Including Warnella Fire)                                                        1\n",
       "Santa Barbara    Hollister Fire                                                                                         1\n",
       "                 San Antonio Fire                                                                                       1\n",
       "Santa Clara      Alum Fire                                                                                              1\n",
       "                 Colleen Fire                                                                                           1\n",
       "                 Coyote Fire                                                                                            1\n",
       "                 Crews Fire                                                                                             1\n",
       "                 Park Fire                                                                                              1\n",
       "                 SCU Lightning Complex                                                                                  1\n",
       "Santa Cruz       CZU Lightning Complex (Including Warnella Fire)                                                        1\n",
       "Shasta           Brock Fire                                                                                             1\n",
       "                 Platina Fire                                                                                           1\n",
       "                 Zogg Fire                                                                                              1\n",
       "Sierra           Antelope Fire                                                                                          1\n",
       "                 Loyalton Fire                                                                                          1\n",
       "Siskiyou         Badger Fire                                                                                            1\n",
       "                 Fox Fire                                                                                               1\n",
       "                 Schoolhouse Fire                                                                                       1\n",
       "                 Shackleford Fire                                                                                       1\n",
       "                 Slater Fire (includes Devil Fire)                                                                      1\n",
       "Solano           LNU Lightning Complex (includes Hennessey, Gamble, 15-10, Spanish, Markley, 13-4, 11-16, Walbridge)    1\n",
       "                 McGary Fire                                                                                            1\n",
       "                 Mountain Meadow Fire                                                                                   1\n",
       "                 Quail Fire                                                                                             1\n",
       "                 Wildlife Fire                                                                                          1\n",
       "Sonoma           Glass Fire                                                                                             1\n",
       "                 Gulch Fire                                                                                             1\n",
       "                 LNU Lightning Complex (includes Hennessey, Gamble, 15-10, Spanish, Markley, 13-4, 11-16, Walbridge)    1\n",
       "                 Lakeville Fire                                                                                         1\n",
       "Stanislaus       Sperry Fire                                                                                            2\n",
       "                 Diablo Fire                                                                                            1\n",
       "                 SCU Lightning Complex                                                                                  1\n",
       "State of Nevada  Poeville Fire                                                                                          1\n",
       "Tehama           August Complex (includes Doe Fire)                                                                     1\n",
       "                 Beegum Fire                                                                                            1\n",
       "                 Butte/Tehama/Glenn Lightning Complex (Tehama/Glenn Zone)                                               1\n",
       "                 Red Fire                                                                                               1\n",
       "                 Zogg Fire                                                                                              1\n",
       "Trinity          August Complex (includes Doe Fire)                                                                     1\n",
       "                 Flat Fire                                                                                              1\n",
       "                 Hobo Fire                                                                                              1\n",
       "Tulare           Fork Fire                                                                                              1\n",
       "                 Grade Fire                                                                                             1\n",
       "                 Moraine Fire                                                                                           1\n",
       "                 Rattlesnake Fire                                                                                       1\n",
       "                 SQF Complex Fire (Includes Castle Fire and Shotgun Fire)                                               1\n",
       "                 Springs Fire                                                                                           1\n",
       "Tuolumne         Moc Fire                                                                                               1\n",
       "                 Quarter Fire                                                                                           1\n",
       "Ventura          Elizabeth Fire                                                                                         1\n",
       "                 Lime Fire                                                                                              1\n",
       "Yolo             LNU Lightning Complex (includes Hennessey, Gamble, 15-10, Spanish, Markley, 13-4, 11-16, Walbridge)    1\n",
       "Yuba             Beale Fire                                                                                             1\n",
       "                 Fields Fire                                                                                            1\n",
       "                 Valley Fire                                                                                            1\n",
       "                 Willow Fire                                                                                            1\n",
       "Name: name, dtype: int64"
      ]
     },
     "execution_count": 102,
     "metadata": {},
     "output_type": "execute_result"
    }
   ],
   "source": [
    "pd.set_option('display.max_rows', 500)\n",
    "fire.groupby('county')['name'].value_counts()"
   ]
  },
  {
   "cell_type": "code",
   "execution_count": 62,
   "metadata": {},
   "outputs": [
    {
     "ename": "AttributeError",
     "evalue": "Can only use .str accessor with string values!",
     "output_type": "error",
     "traceback": [
      "\u001b[0;31m---------------------------------------------------------------------------\u001b[0m",
      "\u001b[0;31mAttributeError\u001b[0m                            Traceback (most recent call last)",
      "\u001b[0;32m<ipython-input-62-31525e4ed967>\u001b[0m in \u001b[0;36m<module>\u001b[0;34m\u001b[0m\n\u001b[0;32m----> 1\u001b[0;31m \u001b[0mfires_per_county\u001b[0m\u001b[0;34m[\u001b[0m\u001b[0;34m'name'\u001b[0m\u001b[0;34m]\u001b[0m\u001b[0;34m.\u001b[0m\u001b[0mstr\u001b[0m\u001b[0;34m.\u001b[0m\u001b[0msplit\u001b[0m\u001b[0;34m(\u001b[0m\u001b[0;34m\" \"\u001b[0m\u001b[0;34m,\u001b[0m \u001b[0mexpand\u001b[0m\u001b[0;34m=\u001b[0m\u001b[0;32mTrue\u001b[0m\u001b[0;34m)\u001b[0m\u001b[0;34m\u001b[0m\u001b[0;34m\u001b[0m\u001b[0m\n\u001b[0m",
      "\u001b[0;32m~/anaconda3/lib/python3.7/site-packages/pandas/core/generic.py\u001b[0m in \u001b[0;36m__getattr__\u001b[0;34m(self, name)\u001b[0m\n\u001b[1;32m   5124\u001b[0m             \u001b[0;32mor\u001b[0m \u001b[0mname\u001b[0m \u001b[0;32min\u001b[0m \u001b[0mself\u001b[0m\u001b[0;34m.\u001b[0m\u001b[0m_accessors\u001b[0m\u001b[0;34m\u001b[0m\u001b[0;34m\u001b[0m\u001b[0m\n\u001b[1;32m   5125\u001b[0m         ):\n\u001b[0;32m-> 5126\u001b[0;31m             \u001b[0;32mreturn\u001b[0m \u001b[0mobject\u001b[0m\u001b[0;34m.\u001b[0m\u001b[0m__getattribute__\u001b[0m\u001b[0;34m(\u001b[0m\u001b[0mself\u001b[0m\u001b[0;34m,\u001b[0m \u001b[0mname\u001b[0m\u001b[0;34m)\u001b[0m\u001b[0;34m\u001b[0m\u001b[0;34m\u001b[0m\u001b[0m\n\u001b[0m\u001b[1;32m   5127\u001b[0m         \u001b[0;32melse\u001b[0m\u001b[0;34m:\u001b[0m\u001b[0;34m\u001b[0m\u001b[0;34m\u001b[0m\u001b[0m\n\u001b[1;32m   5128\u001b[0m             \u001b[0;32mif\u001b[0m \u001b[0mself\u001b[0m\u001b[0;34m.\u001b[0m\u001b[0m_info_axis\u001b[0m\u001b[0;34m.\u001b[0m\u001b[0m_can_hold_identifiers_and_holds_name\u001b[0m\u001b[0;34m(\u001b[0m\u001b[0mname\u001b[0m\u001b[0;34m)\u001b[0m\u001b[0;34m:\u001b[0m\u001b[0;34m\u001b[0m\u001b[0;34m\u001b[0m\u001b[0m\n",
      "\u001b[0;32m~/anaconda3/lib/python3.7/site-packages/pandas/core/accessor.py\u001b[0m in \u001b[0;36m__get__\u001b[0;34m(self, obj, cls)\u001b[0m\n\u001b[1;32m    185\u001b[0m             \u001b[0;31m# we're accessing the attribute of the class, i.e., Dataset.geo\u001b[0m\u001b[0;34m\u001b[0m\u001b[0;34m\u001b[0m\u001b[0;34m\u001b[0m\u001b[0m\n\u001b[1;32m    186\u001b[0m             \u001b[0;32mreturn\u001b[0m \u001b[0mself\u001b[0m\u001b[0;34m.\u001b[0m\u001b[0m_accessor\u001b[0m\u001b[0;34m\u001b[0m\u001b[0;34m\u001b[0m\u001b[0m\n\u001b[0;32m--> 187\u001b[0;31m         \u001b[0maccessor_obj\u001b[0m \u001b[0;34m=\u001b[0m \u001b[0mself\u001b[0m\u001b[0;34m.\u001b[0m\u001b[0m_accessor\u001b[0m\u001b[0;34m(\u001b[0m\u001b[0mobj\u001b[0m\u001b[0;34m)\u001b[0m\u001b[0;34m\u001b[0m\u001b[0;34m\u001b[0m\u001b[0m\n\u001b[0m\u001b[1;32m    188\u001b[0m         \u001b[0;31m# Replace the property with the accessor object. Inspired by:\u001b[0m\u001b[0;34m\u001b[0m\u001b[0;34m\u001b[0m\u001b[0;34m\u001b[0m\u001b[0m\n\u001b[1;32m    189\u001b[0m         \u001b[0;31m# https://www.pydanny.com/cached-property.html\u001b[0m\u001b[0;34m\u001b[0m\u001b[0;34m\u001b[0m\u001b[0;34m\u001b[0m\u001b[0m\n",
      "\u001b[0;32m~/anaconda3/lib/python3.7/site-packages/pandas/core/strings.py\u001b[0m in \u001b[0;36m__init__\u001b[0;34m(self, data)\u001b[0m\n\u001b[1;32m   2098\u001b[0m \u001b[0;34m\u001b[0m\u001b[0m\n\u001b[1;32m   2099\u001b[0m     \u001b[0;32mdef\u001b[0m \u001b[0m__init__\u001b[0m\u001b[0;34m(\u001b[0m\u001b[0mself\u001b[0m\u001b[0;34m,\u001b[0m \u001b[0mdata\u001b[0m\u001b[0;34m)\u001b[0m\u001b[0;34m:\u001b[0m\u001b[0;34m\u001b[0m\u001b[0;34m\u001b[0m\u001b[0m\n\u001b[0;32m-> 2100\u001b[0;31m         \u001b[0mself\u001b[0m\u001b[0;34m.\u001b[0m\u001b[0m_inferred_dtype\u001b[0m \u001b[0;34m=\u001b[0m \u001b[0mself\u001b[0m\u001b[0;34m.\u001b[0m\u001b[0m_validate\u001b[0m\u001b[0;34m(\u001b[0m\u001b[0mdata\u001b[0m\u001b[0;34m)\u001b[0m\u001b[0;34m\u001b[0m\u001b[0;34m\u001b[0m\u001b[0m\n\u001b[0m\u001b[1;32m   2101\u001b[0m         \u001b[0mself\u001b[0m\u001b[0;34m.\u001b[0m\u001b[0m_is_categorical\u001b[0m \u001b[0;34m=\u001b[0m \u001b[0mis_categorical_dtype\u001b[0m\u001b[0;34m(\u001b[0m\u001b[0mdata\u001b[0m\u001b[0;34m.\u001b[0m\u001b[0mdtype\u001b[0m\u001b[0;34m)\u001b[0m\u001b[0;34m\u001b[0m\u001b[0;34m\u001b[0m\u001b[0m\n\u001b[1;32m   2102\u001b[0m         \u001b[0mself\u001b[0m\u001b[0;34m.\u001b[0m\u001b[0m_is_string\u001b[0m \u001b[0;34m=\u001b[0m \u001b[0mdata\u001b[0m\u001b[0;34m.\u001b[0m\u001b[0mdtype\u001b[0m\u001b[0;34m.\u001b[0m\u001b[0mname\u001b[0m \u001b[0;34m==\u001b[0m \u001b[0;34m\"string\"\u001b[0m\u001b[0;34m\u001b[0m\u001b[0;34m\u001b[0m\u001b[0m\n",
      "\u001b[0;32m~/anaconda3/lib/python3.7/site-packages/pandas/core/strings.py\u001b[0m in \u001b[0;36m_validate\u001b[0;34m(data)\u001b[0m\n\u001b[1;32m   2155\u001b[0m \u001b[0;34m\u001b[0m\u001b[0m\n\u001b[1;32m   2156\u001b[0m         \u001b[0;32mif\u001b[0m \u001b[0minferred_dtype\u001b[0m \u001b[0;32mnot\u001b[0m \u001b[0;32min\u001b[0m \u001b[0mallowed_types\u001b[0m\u001b[0;34m:\u001b[0m\u001b[0;34m\u001b[0m\u001b[0;34m\u001b[0m\u001b[0m\n\u001b[0;32m-> 2157\u001b[0;31m             \u001b[0;32mraise\u001b[0m \u001b[0mAttributeError\u001b[0m\u001b[0;34m(\u001b[0m\u001b[0;34m\"Can only use .str accessor with string values!\"\u001b[0m\u001b[0;34m)\u001b[0m\u001b[0;34m\u001b[0m\u001b[0;34m\u001b[0m\u001b[0m\n\u001b[0m\u001b[1;32m   2158\u001b[0m         \u001b[0;32mreturn\u001b[0m \u001b[0minferred_dtype\u001b[0m\u001b[0;34m\u001b[0m\u001b[0;34m\u001b[0m\u001b[0m\n\u001b[1;32m   2159\u001b[0m \u001b[0;34m\u001b[0m\u001b[0m\n",
      "\u001b[0;31mAttributeError\u001b[0m: Can only use .str accessor with string values!"
     ]
    }
   ],
   "source": [
    "fires_per_county['name'].str.split(\" \", expand=True)"
   ]
  },
  {
   "cell_type": "code",
   "execution_count": null,
   "metadata": {},
   "outputs": [],
   "source": []
  }
 ],
 "metadata": {
  "kernelspec": {
   "display_name": "Python 3",
   "language": "python",
   "name": "python3"
  },
  "language_info": {
   "codemirror_mode": {
    "name": "ipython",
    "version": 3
   },
   "file_extension": ".py",
   "mimetype": "text/x-python",
   "name": "python",
   "nbconvert_exporter": "python",
   "pygments_lexer": "ipython3",
   "version": "3.7.7"
  }
 },
 "nbformat": 4,
 "nbformat_minor": 4
}
