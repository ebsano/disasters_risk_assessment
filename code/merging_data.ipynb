{
 "cells": [
  {
   "cell_type": "code",
   "execution_count": 1,
   "metadata": {},
   "outputs": [],
   "source": [
    "import pandas as pd\n",
    "import numpy as np\n",
    "import matplotlib.pyplot as plt\n",
    "import seaborn as sns\n",
    "from uszipcode import Zipcode, SearchEngine\n",
    "from geopy.distance import distance\n",
    "\n",
    "covid = pd.read_csv('../data/california_covid.csv')\n",
    "earthquake = pd.read_csv('../data/earthquakes_CA.csv')\n",
    "fire = pd.read_csv('../data/fire_data.csv')"
   ]
  },
  {
   "cell_type": "code",
   "execution_count": 2,
   "metadata": {},
   "outputs": [
    {
     "data": {
      "text/html": [
       "<div>\n",
       "<style scoped>\n",
       "    .dataframe tbody tr th:only-of-type {\n",
       "        vertical-align: middle;\n",
       "    }\n",
       "\n",
       "    .dataframe tbody tr th {\n",
       "        vertical-align: top;\n",
       "    }\n",
       "\n",
       "    .dataframe thead th {\n",
       "        text-align: right;\n",
       "    }\n",
       "</style>\n",
       "<table border=\"1\" class=\"dataframe\">\n",
       "  <thead>\n",
       "    <tr style=\"text-align: right;\">\n",
       "      <th></th>\n",
       "      <th>FIPS</th>\n",
       "      <th>Admin2</th>\n",
       "      <th>Province_State</th>\n",
       "      <th>Country_Region</th>\n",
       "      <th>Last_Update</th>\n",
       "      <th>Lat</th>\n",
       "      <th>Long_</th>\n",
       "      <th>Confirmed</th>\n",
       "      <th>Deaths</th>\n",
       "      <th>Recovered</th>\n",
       "      <th>Active</th>\n",
       "      <th>Combined_Key</th>\n",
       "      <th>Incidence_Rate</th>\n",
       "      <th>Case-Fatality_Ratio</th>\n",
       "    </tr>\n",
       "  </thead>\n",
       "  <tbody>\n",
       "    <tr>\n",
       "      <th>0</th>\n",
       "      <td>6001.0</td>\n",
       "      <td>Alameda</td>\n",
       "      <td>California</td>\n",
       "      <td>US</td>\n",
       "      <td>2020-10-17 04:24:12</td>\n",
       "      <td>37.646294</td>\n",
       "      <td>-121.892927</td>\n",
       "      <td>22408</td>\n",
       "      <td>439</td>\n",
       "      <td>0</td>\n",
       "      <td>21969.0</td>\n",
       "      <td>Alameda, California, US</td>\n",
       "      <td>1340.729443</td>\n",
       "      <td>1.959122</td>\n",
       "    </tr>\n",
       "    <tr>\n",
       "      <th>1</th>\n",
       "      <td>6003.0</td>\n",
       "      <td>Alpine</td>\n",
       "      <td>California</td>\n",
       "      <td>US</td>\n",
       "      <td>2020-10-17 04:24:12</td>\n",
       "      <td>38.596786</td>\n",
       "      <td>-119.822359</td>\n",
       "      <td>3</td>\n",
       "      <td>0</td>\n",
       "      <td>0</td>\n",
       "      <td>3.0</td>\n",
       "      <td>Alpine, California, US</td>\n",
       "      <td>265.721878</td>\n",
       "      <td>0.000000</td>\n",
       "    </tr>\n",
       "  </tbody>\n",
       "</table>\n",
       "</div>"
      ],
      "text/plain": [
       "     FIPS   Admin2 Province_State Country_Region          Last_Update  \\\n",
       "0  6001.0  Alameda     California             US  2020-10-17 04:24:12   \n",
       "1  6003.0   Alpine     California             US  2020-10-17 04:24:12   \n",
       "\n",
       "         Lat       Long_  Confirmed  Deaths  Recovered   Active  \\\n",
       "0  37.646294 -121.892927      22408     439          0  21969.0   \n",
       "1  38.596786 -119.822359          3       0          0      3.0   \n",
       "\n",
       "              Combined_Key  Incidence_Rate  Case-Fatality_Ratio  \n",
       "0  Alameda, California, US     1340.729443             1.959122  \n",
       "1   Alpine, California, US      265.721878             0.000000  "
      ]
     },
     "execution_count": 2,
     "metadata": {},
     "output_type": "execute_result"
    }
   ],
   "source": [
    "covid.head(2)"
   ]
  },
  {
   "cell_type": "code",
   "execution_count": 3,
   "metadata": {},
   "outputs": [],
   "source": [
    "# bringing in county population data as a column to the covid dataframe\n",
    "population = pd.read_html('https://www.california-demographics.com/counties_by_population')[0]"
   ]
  },
  {
   "cell_type": "code",
   "execution_count": 4,
   "metadata": {},
   "outputs": [
    {
     "data": {
      "text/html": [
       "<div>\n",
       "<style scoped>\n",
       "    .dataframe tbody tr th:only-of-type {\n",
       "        vertical-align: middle;\n",
       "    }\n",
       "\n",
       "    .dataframe tbody tr th {\n",
       "        vertical-align: top;\n",
       "    }\n",
       "\n",
       "    .dataframe thead th {\n",
       "        text-align: right;\n",
       "    }\n",
       "</style>\n",
       "<table border=\"1\" class=\"dataframe\">\n",
       "  <thead>\n",
       "    <tr style=\"text-align: right;\">\n",
       "      <th></th>\n",
       "      <th>Rank</th>\n",
       "      <th>County</th>\n",
       "      <th>Population</th>\n",
       "    </tr>\n",
       "  </thead>\n",
       "  <tbody>\n",
       "    <tr>\n",
       "      <th>0</th>\n",
       "      <td>1</td>\n",
       "      <td>Los Angeles County</td>\n",
       "      <td>10039107</td>\n",
       "    </tr>\n",
       "    <tr>\n",
       "      <th>1</th>\n",
       "      <td>2</td>\n",
       "      <td>San Diego County</td>\n",
       "      <td>3338330</td>\n",
       "    </tr>\n",
       "  </tbody>\n",
       "</table>\n",
       "</div>"
      ],
      "text/plain": [
       "  Rank              County Population\n",
       "0    1  Los Angeles County   10039107\n",
       "1    2    San Diego County    3338330"
      ]
     },
     "execution_count": 4,
     "metadata": {},
     "output_type": "execute_result"
    }
   ],
   "source": [
    "population.head(2)"
   ]
  },
  {
   "cell_type": "code",
   "execution_count": 5,
   "metadata": {},
   "outputs": [
    {
     "data": {
      "text/html": [
       "<div>\n",
       "<style scoped>\n",
       "    .dataframe tbody tr th:only-of-type {\n",
       "        vertical-align: middle;\n",
       "    }\n",
       "\n",
       "    .dataframe tbody tr th {\n",
       "        vertical-align: top;\n",
       "    }\n",
       "\n",
       "    .dataframe thead th {\n",
       "        text-align: right;\n",
       "    }\n",
       "</style>\n",
       "<table border=\"1\" class=\"dataframe\">\n",
       "  <thead>\n",
       "    <tr style=\"text-align: right;\">\n",
       "      <th></th>\n",
       "      <th>Event ID</th>\n",
       "      <th>Name/Epicenter</th>\n",
       "      <th>Date</th>\n",
       "      <th>Lat</th>\n",
       "      <th>Lon</th>\n",
       "      <th>Mag</th>\n",
       "    </tr>\n",
       "  </thead>\n",
       "  <tbody>\n",
       "    <tr>\n",
       "      <th>0</th>\n",
       "      <td>73472891</td>\n",
       "      <td>10 km (6.25 mi) ESE of Willits, CA</td>\n",
       "      <td>2020-10-19</td>\n",
       "      <td>39.36</td>\n",
       "      <td>-123.25</td>\n",
       "      <td>3.4</td>\n",
       "    </tr>\n",
       "    <tr>\n",
       "      <th>1</th>\n",
       "      <td>73472896</td>\n",
       "      <td>11 km (6.875 mi) ESE of Willits, CA</td>\n",
       "      <td>2020-10-19</td>\n",
       "      <td>39.37</td>\n",
       "      <td>-123.24</td>\n",
       "      <td>3.8</td>\n",
       "    </tr>\n",
       "  </tbody>\n",
       "</table>\n",
       "</div>"
      ],
      "text/plain": [
       "   Event ID                       Name/Epicenter        Date    Lat     Lon  \\\n",
       "0  73472891   10 km (6.25 mi) ESE of Willits, CA  2020-10-19  39.36 -123.25   \n",
       "1  73472896  11 km (6.875 mi) ESE of Willits, CA  2020-10-19  39.37 -123.24   \n",
       "\n",
       "   Mag  \n",
       "0  3.4  \n",
       "1  3.8  "
      ]
     },
     "execution_count": 5,
     "metadata": {},
     "output_type": "execute_result"
    }
   ],
   "source": [
    "earthquake.head(2)"
   ]
  },
  {
   "cell_type": "markdown",
   "metadata": {},
   "source": [
    "Some fires need updated information for the acres burned. The inciweb has more updated information."
   ]
  },
  {
   "cell_type": "code",
   "execution_count": 6,
   "metadata": {},
   "outputs": [],
   "source": [
    "fyre = pd.read_html('https://inciweb.nwcg.gov/accessible-view/')[0]"
   ]
  },
  {
   "cell_type": "code",
   "execution_count": 7,
   "metadata": {},
   "outputs": [
    {
     "data": {
      "text/html": [
       "<div>\n",
       "<style scoped>\n",
       "    .dataframe tbody tr th:only-of-type {\n",
       "        vertical-align: middle;\n",
       "    }\n",
       "\n",
       "    .dataframe tbody tr th {\n",
       "        vertical-align: top;\n",
       "    }\n",
       "\n",
       "    .dataframe thead th {\n",
       "        text-align: right;\n",
       "    }\n",
       "</style>\n",
       "<table border=\"1\" class=\"dataframe\">\n",
       "  <thead>\n",
       "    <tr style=\"text-align: right;\">\n",
       "      <th></th>\n",
       "      <th>Incident</th>\n",
       "      <th>Type</th>\n",
       "      <th>State</th>\n",
       "      <th>Size</th>\n",
       "      <th>Updated</th>\n",
       "    </tr>\n",
       "  </thead>\n",
       "  <tbody>\n",
       "    <tr>\n",
       "      <th>0</th>\n",
       "      <td>North Whizz Dome Fire</td>\n",
       "      <td>Wildfire</td>\n",
       "      <td>California, USA</td>\n",
       "      <td>200 Acres</td>\n",
       "      <td>11 min. ago</td>\n",
       "    </tr>\n",
       "    <tr>\n",
       "      <th>1</th>\n",
       "      <td>Wolf Fire</td>\n",
       "      <td>Wildfire</td>\n",
       "      <td>California, USA</td>\n",
       "      <td>2040 Acres</td>\n",
       "      <td>30 min. ago</td>\n",
       "    </tr>\n",
       "    <tr>\n",
       "      <th>2</th>\n",
       "      <td>Blue Jay Fire</td>\n",
       "      <td>Wildfire</td>\n",
       "      <td>California, USA</td>\n",
       "      <td>6915 Acres</td>\n",
       "      <td>32 min. ago</td>\n",
       "    </tr>\n",
       "  </tbody>\n",
       "</table>\n",
       "</div>"
      ],
      "text/plain": [
       "                Incident      Type            State        Size      Updated\n",
       "0  North Whizz Dome Fire  Wildfire  California, USA   200 Acres  11 min. ago\n",
       "1              Wolf Fire  Wildfire  California, USA  2040 Acres  30 min. ago\n",
       "2          Blue Jay Fire  Wildfire  California, USA  6915 Acres  32 min. ago"
      ]
     },
     "execution_count": 7,
     "metadata": {},
     "output_type": "execute_result"
    }
   ],
   "source": [
    "fyre.head(3)"
   ]
  },
  {
   "cell_type": "code",
   "execution_count": 8,
   "metadata": {},
   "outputs": [],
   "source": [
    "fyre = fyre[fyre['State'].str.contains('California')]\n",
    "fyre = fyre[fyre['Type'] == 'Wildfire']\n",
    "fyre.reset_index(drop=True, inplace=True)"
   ]
  },
  {
   "cell_type": "code",
   "execution_count": 9,
   "metadata": {},
   "outputs": [
    {
     "data": {
      "text/html": [
       "<div>\n",
       "<style scoped>\n",
       "    .dataframe tbody tr th:only-of-type {\n",
       "        vertical-align: middle;\n",
       "    }\n",
       "\n",
       "    .dataframe tbody tr th {\n",
       "        vertical-align: top;\n",
       "    }\n",
       "\n",
       "    .dataframe thead th {\n",
       "        text-align: right;\n",
       "    }\n",
       "</style>\n",
       "<table border=\"1\" class=\"dataframe\">\n",
       "  <thead>\n",
       "    <tr style=\"text-align: right;\">\n",
       "      <th></th>\n",
       "      <th>Incident</th>\n",
       "      <th>Type</th>\n",
       "      <th>State</th>\n",
       "      <th>Size</th>\n",
       "      <th>Updated</th>\n",
       "    </tr>\n",
       "  </thead>\n",
       "  <tbody>\n",
       "    <tr>\n",
       "      <th>0</th>\n",
       "      <td>North Whizz Dome Fire</td>\n",
       "      <td>Wildfire</td>\n",
       "      <td>California, USA</td>\n",
       "      <td>200 Acres</td>\n",
       "      <td>11 min. ago</td>\n",
       "    </tr>\n",
       "    <tr>\n",
       "      <th>1</th>\n",
       "      <td>Wolf Fire</td>\n",
       "      <td>Wildfire</td>\n",
       "      <td>California, USA</td>\n",
       "      <td>2040 Acres</td>\n",
       "      <td>30 min. ago</td>\n",
       "    </tr>\n",
       "    <tr>\n",
       "      <th>2</th>\n",
       "      <td>Blue Jay Fire</td>\n",
       "      <td>Wildfire</td>\n",
       "      <td>California, USA</td>\n",
       "      <td>6915 Acres</td>\n",
       "      <td>32 min. ago</td>\n",
       "    </tr>\n",
       "    <tr>\n",
       "      <th>3</th>\n",
       "      <td>Slater/Devil Fires</td>\n",
       "      <td>Wildfire</td>\n",
       "      <td>California, USA</td>\n",
       "      <td>156832 Acres</td>\n",
       "      <td>1:10 hrs. ago</td>\n",
       "    </tr>\n",
       "    <tr>\n",
       "      <th>4</th>\n",
       "      <td>Horse Fire</td>\n",
       "      <td>Wildfire</td>\n",
       "      <td>California, USA</td>\n",
       "      <td>30 Acres</td>\n",
       "      <td>1:23 hrs. ago</td>\n",
       "    </tr>\n",
       "  </tbody>\n",
       "</table>\n",
       "</div>"
      ],
      "text/plain": [
       "                Incident      Type            State          Size  \\\n",
       "0  North Whizz Dome Fire  Wildfire  California, USA     200 Acres   \n",
       "1              Wolf Fire  Wildfire  California, USA    2040 Acres   \n",
       "2          Blue Jay Fire  Wildfire  California, USA    6915 Acres   \n",
       "3     Slater/Devil Fires  Wildfire  California, USA  156832 Acres   \n",
       "4             Horse Fire  Wildfire  California, USA      30 Acres   \n",
       "\n",
       "         Updated  \n",
       "0    11 min. ago  \n",
       "1    30 min. ago  \n",
       "2    32 min. ago  \n",
       "3  1:10 hrs. ago  \n",
       "4  1:23 hrs. ago  "
      ]
     },
     "execution_count": 9,
     "metadata": {},
     "output_type": "execute_result"
    }
   ],
   "source": [
    "fyre.head()"
   ]
  },
  {
   "cell_type": "code",
   "execution_count": 10,
   "metadata": {},
   "outputs": [
    {
     "data": {
      "text/plain": [
       "(29, 5)"
      ]
     },
     "execution_count": 10,
     "metadata": {},
     "output_type": "execute_result"
    }
   ],
   "source": [
    "fyre.shape"
   ]
  },
  {
   "cell_type": "code",
   "execution_count": 11,
   "metadata": {},
   "outputs": [
    {
     "data": {
      "text/html": [
       "<div>\n",
       "<style scoped>\n",
       "    .dataframe tbody tr th:only-of-type {\n",
       "        vertical-align: middle;\n",
       "    }\n",
       "\n",
       "    .dataframe tbody tr th {\n",
       "        vertical-align: top;\n",
       "    }\n",
       "\n",
       "    .dataframe thead th {\n",
       "        text-align: right;\n",
       "    }\n",
       "</style>\n",
       "<table border=\"1\" class=\"dataframe\">\n",
       "  <thead>\n",
       "    <tr style=\"text-align: right;\">\n",
       "      <th></th>\n",
       "      <th>Incident</th>\n",
       "      <th>Type</th>\n",
       "      <th>State</th>\n",
       "      <th>Size</th>\n",
       "      <th>Updated</th>\n",
       "    </tr>\n",
       "  </thead>\n",
       "  <tbody>\n",
       "    <tr>\n",
       "      <th>18</th>\n",
       "      <td>Apple Fire</td>\n",
       "      <td>Wildfire</td>\n",
       "      <td>California, USA</td>\n",
       "      <td>33424 Acres</td>\n",
       "      <td>10/14/2020</td>\n",
       "    </tr>\n",
       "  </tbody>\n",
       "</table>\n",
       "</div>"
      ],
      "text/plain": [
       "      Incident      Type            State         Size     Updated\n",
       "18  Apple Fire  Wildfire  California, USA  33424 Acres  10/14/2020"
      ]
     },
     "execution_count": 11,
     "metadata": {},
     "output_type": "execute_result"
    }
   ],
   "source": [
    "fyre[fyre['Incident'] == 'Apple Fire']"
   ]
  },
  {
   "cell_type": "code",
   "execution_count": 12,
   "metadata": {},
   "outputs": [
    {
     "data": {
      "text/plain": [
       "'988 Acres'"
      ]
     },
     "execution_count": 12,
     "metadata": {},
     "output_type": "execute_result"
    }
   ],
   "source": [
    "fyre.iloc[16, 3]"
   ]
  },
  {
   "cell_type": "code",
   "execution_count": 13,
   "metadata": {},
   "outputs": [
    {
     "data": {
      "text/html": [
       "<div>\n",
       "<style scoped>\n",
       "    .dataframe tbody tr th:only-of-type {\n",
       "        vertical-align: middle;\n",
       "    }\n",
       "\n",
       "    .dataframe tbody tr th {\n",
       "        vertical-align: top;\n",
       "    }\n",
       "\n",
       "    .dataframe thead th {\n",
       "        text-align: right;\n",
       "    }\n",
       "</style>\n",
       "<table border=\"1\" class=\"dataframe\">\n",
       "  <thead>\n",
       "    <tr style=\"text-align: right;\">\n",
       "      <th></th>\n",
       "      <th>Incident</th>\n",
       "      <th>Type</th>\n",
       "      <th>State</th>\n",
       "      <th>Size</th>\n",
       "      <th>Updated</th>\n",
       "    </tr>\n",
       "  </thead>\n",
       "  <tbody>\n",
       "    <tr>\n",
       "      <th>7</th>\n",
       "      <td>Red Salmon Complex</td>\n",
       "      <td>Wildfire</td>\n",
       "      <td>California, USA</td>\n",
       "      <td>143923 Acres</td>\n",
       "      <td>3 hrs. ago</td>\n",
       "    </tr>\n",
       "  </tbody>\n",
       "</table>\n",
       "</div>"
      ],
      "text/plain": [
       "             Incident      Type            State          Size     Updated\n",
       "7  Red Salmon Complex  Wildfire  California, USA  143923 Acres  3 hrs. ago"
      ]
     },
     "execution_count": 13,
     "metadata": {},
     "output_type": "execute_result"
    }
   ],
   "source": [
    "fyre[fyre['Incident'].str.contains('Red')]"
   ]
  },
  {
   "cell_type": "code",
   "execution_count": 14,
   "metadata": {},
   "outputs": [
    {
     "data": {
      "text/html": [
       "<div>\n",
       "<style scoped>\n",
       "    .dataframe tbody tr th:only-of-type {\n",
       "        vertical-align: middle;\n",
       "    }\n",
       "\n",
       "    .dataframe tbody tr th {\n",
       "        vertical-align: top;\n",
       "    }\n",
       "\n",
       "    .dataframe thead th {\n",
       "        text-align: right;\n",
       "    }\n",
       "</style>\n",
       "<table border=\"1\" class=\"dataframe\">\n",
       "  <thead>\n",
       "    <tr style=\"text-align: right;\">\n",
       "      <th></th>\n",
       "      <th>Name</th>\n",
       "      <th>Final</th>\n",
       "      <th>Started</th>\n",
       "      <th>County</th>\n",
       "      <th>AcresBurned</th>\n",
       "      <th>PercentContained</th>\n",
       "      <th>Longitude</th>\n",
       "      <th>Latitude</th>\n",
       "      <th>Type</th>\n",
       "      <th>IsActive</th>\n",
       "      <th>CalFireIncident</th>\n",
       "      <th>Location</th>\n",
       "    </tr>\n",
       "  </thead>\n",
       "  <tbody>\n",
       "    <tr>\n",
       "      <th>0</th>\n",
       "      <td>Apple Fire</td>\n",
       "      <td>False</td>\n",
       "      <td>2020-07-31T18:08:39Z</td>\n",
       "      <td>Riverside</td>\n",
       "      <td>0</td>\n",
       "      <td>0</td>\n",
       "      <td>-116.9617</td>\n",
       "      <td>33.99139</td>\n",
       "      <td>Wildfire</td>\n",
       "      <td>True</td>\n",
       "      <td>False</td>\n",
       "      <td>off of Oak Glen Road and Apple Tree Lane, Nort...</td>\n",
       "    </tr>\n",
       "    <tr>\n",
       "      <th>1</th>\n",
       "      <td>August Complex (includes Doe Fire)</td>\n",
       "      <td>False</td>\n",
       "      <td>2020-08-16T20:37:26Z</td>\n",
       "      <td>Mendocino, Humboldt, Trinity, Tehama, Glenn, L...</td>\n",
       "      <td>1032209</td>\n",
       "      <td>80</td>\n",
       "      <td>-122.6730</td>\n",
       "      <td>39.77600</td>\n",
       "      <td>Wildfire</td>\n",
       "      <td>True</td>\n",
       "      <td>True</td>\n",
       "      <td>Mendocino, Humboldt, Trinity, Tehama, Glenn, ...</td>\n",
       "    </tr>\n",
       "    <tr>\n",
       "      <th>2</th>\n",
       "      <td>Red Salmon Complex</td>\n",
       "      <td>False</td>\n",
       "      <td>2020-08-18T09:49:34.58Z</td>\n",
       "      <td>Humboldt</td>\n",
       "      <td>0</td>\n",
       "      <td>0</td>\n",
       "      <td>-123.4070</td>\n",
       "      <td>41.16800</td>\n",
       "      <td>Wildfire</td>\n",
       "      <td>True</td>\n",
       "      <td>False</td>\n",
       "      <td>near Salmon Mountain, Northeast of Willow Creek</td>\n",
       "    </tr>\n",
       "  </tbody>\n",
       "</table>\n",
       "</div>"
      ],
      "text/plain": [
       "                                 Name  Final                  Started  \\\n",
       "0                          Apple Fire  False     2020-07-31T18:08:39Z   \n",
       "1  August Complex (includes Doe Fire)  False     2020-08-16T20:37:26Z   \n",
       "2                  Red Salmon Complex  False  2020-08-18T09:49:34.58Z   \n",
       "\n",
       "                                              County  AcresBurned  \\\n",
       "0                                          Riverside            0   \n",
       "1  Mendocino, Humboldt, Trinity, Tehama, Glenn, L...      1032209   \n",
       "2                                           Humboldt            0   \n",
       "\n",
       "   PercentContained  Longitude  Latitude      Type  IsActive  CalFireIncident  \\\n",
       "0                 0  -116.9617  33.99139  Wildfire      True            False   \n",
       "1                80  -122.6730  39.77600  Wildfire      True             True   \n",
       "2                 0  -123.4070  41.16800  Wildfire      True            False   \n",
       "\n",
       "                                            Location  \n",
       "0  off of Oak Glen Road and Apple Tree Lane, Nort...  \n",
       "1   Mendocino, Humboldt, Trinity, Tehama, Glenn, ...  \n",
       "2    near Salmon Mountain, Northeast of Willow Creek  "
      ]
     },
     "execution_count": 14,
     "metadata": {},
     "output_type": "execute_result"
    }
   ],
   "source": [
    "fire.head(3)"
   ]
  },
  {
   "cell_type": "code",
   "execution_count": 15,
   "metadata": {},
   "outputs": [
    {
     "data": {
      "text/html": [
       "<div>\n",
       "<style scoped>\n",
       "    .dataframe tbody tr th:only-of-type {\n",
       "        vertical-align: middle;\n",
       "    }\n",
       "\n",
       "    .dataframe tbody tr th {\n",
       "        vertical-align: top;\n",
       "    }\n",
       "\n",
       "    .dataframe thead th {\n",
       "        text-align: right;\n",
       "    }\n",
       "</style>\n",
       "<table border=\"1\" class=\"dataframe\">\n",
       "  <thead>\n",
       "    <tr style=\"text-align: right;\">\n",
       "      <th></th>\n",
       "      <th>Name</th>\n",
       "      <th>Final</th>\n",
       "      <th>Started</th>\n",
       "      <th>County</th>\n",
       "      <th>AcresBurned</th>\n",
       "      <th>PercentContained</th>\n",
       "      <th>Longitude</th>\n",
       "      <th>Latitude</th>\n",
       "      <th>Type</th>\n",
       "      <th>IsActive</th>\n",
       "      <th>CalFireIncident</th>\n",
       "      <th>Location</th>\n",
       "    </tr>\n",
       "  </thead>\n",
       "  <tbody>\n",
       "    <tr>\n",
       "      <th>0</th>\n",
       "      <td>Apple Fire</td>\n",
       "      <td>False</td>\n",
       "      <td>2020-07-31T18:08:39Z</td>\n",
       "      <td>Riverside</td>\n",
       "      <td>0</td>\n",
       "      <td>0</td>\n",
       "      <td>-116.961700</td>\n",
       "      <td>33.991390</td>\n",
       "      <td>Wildfire</td>\n",
       "      <td>True</td>\n",
       "      <td>False</td>\n",
       "      <td>off of Oak Glen Road and Apple Tree Lane, Nort...</td>\n",
       "    </tr>\n",
       "    <tr>\n",
       "      <th>2</th>\n",
       "      <td>Red Salmon Complex</td>\n",
       "      <td>False</td>\n",
       "      <td>2020-08-18T09:49:34.58Z</td>\n",
       "      <td>Humboldt</td>\n",
       "      <td>0</td>\n",
       "      <td>0</td>\n",
       "      <td>-123.407000</td>\n",
       "      <td>41.168000</td>\n",
       "      <td>Wildfire</td>\n",
       "      <td>True</td>\n",
       "      <td>False</td>\n",
       "      <td>near Salmon Mountain, Northeast of Willow Creek</td>\n",
       "    </tr>\n",
       "    <tr>\n",
       "      <th>3</th>\n",
       "      <td>Blue Jay Fire</td>\n",
       "      <td>False</td>\n",
       "      <td>2020-08-18T10:16:11Z</td>\n",
       "      <td>Mariposa</td>\n",
       "      <td>0</td>\n",
       "      <td>0</td>\n",
       "      <td>-119.605810</td>\n",
       "      <td>37.844630</td>\n",
       "      <td>Wildfire</td>\n",
       "      <td>True</td>\n",
       "      <td>False</td>\n",
       "      <td>Near Tioga Road, North of Yosemite Valley</td>\n",
       "    </tr>\n",
       "    <tr>\n",
       "      <th>4</th>\n",
       "      <td>North Complex Fire</td>\n",
       "      <td>False</td>\n",
       "      <td>2020-08-18T21:21:53Z</td>\n",
       "      <td>Plumas, Butte</td>\n",
       "      <td>0</td>\n",
       "      <td>0</td>\n",
       "      <td>-121.227180</td>\n",
       "      <td>39.690720</td>\n",
       "      <td>Wildfire</td>\n",
       "      <td>True</td>\n",
       "      <td>False</td>\n",
       "      <td>Flemmings Sheep Camp</td>\n",
       "    </tr>\n",
       "    <tr>\n",
       "      <th>5</th>\n",
       "      <td>Dolan Fire</td>\n",
       "      <td>False</td>\n",
       "      <td>2020-08-19T09:23:03Z</td>\n",
       "      <td>Monterey</td>\n",
       "      <td>0</td>\n",
       "      <td>0</td>\n",
       "      <td>-121.602000</td>\n",
       "      <td>36.123000</td>\n",
       "      <td>Wildfire</td>\n",
       "      <td>True</td>\n",
       "      <td>False</td>\n",
       "      <td>Dolan Rd and Hwy 1, Ventana Wilderness</td>\n",
       "    </tr>\n",
       "    <tr>\n",
       "      <th>7</th>\n",
       "      <td>Slink Fire</td>\n",
       "      <td>False</td>\n",
       "      <td>2020-09-01T12:38:11Z</td>\n",
       "      <td>Mono</td>\n",
       "      <td>0</td>\n",
       "      <td>0</td>\n",
       "      <td>-119.568000</td>\n",
       "      <td>38.568000</td>\n",
       "      <td>Wildfire</td>\n",
       "      <td>True</td>\n",
       "      <td>False</td>\n",
       "      <td>Slinkard Valley, west of Coleville, California</td>\n",
       "    </tr>\n",
       "    <tr>\n",
       "      <th>8</th>\n",
       "      <td>Rattlesnake Fire</td>\n",
       "      <td>False</td>\n",
       "      <td>2020-09-03T12:36:39Z</td>\n",
       "      <td>Tulare</td>\n",
       "      <td>0</td>\n",
       "      <td>0</td>\n",
       "      <td>-118.448000</td>\n",
       "      <td>36.420000</td>\n",
       "      <td>Wildfire</td>\n",
       "      <td>True</td>\n",
       "      <td>False</td>\n",
       "      <td>The Rattlesnake fire is burning in Sequoia Kin...</td>\n",
       "    </tr>\n",
       "    <tr>\n",
       "      <th>9</th>\n",
       "      <td>Moraine Fire</td>\n",
       "      <td>False</td>\n",
       "      <td>2020-08-21T21:00:00Z</td>\n",
       "      <td>Tulare</td>\n",
       "      <td>0</td>\n",
       "      <td>0</td>\n",
       "      <td>-118.557000</td>\n",
       "      <td>36.718000</td>\n",
       "      <td>Wildfire</td>\n",
       "      <td>True</td>\n",
       "      <td>False</td>\n",
       "      <td>South of Palmer Peak , East of Avalanche Pass ...</td>\n",
       "    </tr>\n",
       "    <tr>\n",
       "      <th>11</th>\n",
       "      <td>El Dorado Fire</td>\n",
       "      <td>False</td>\n",
       "      <td>2020-09-05T12:51:00Z</td>\n",
       "      <td>San Bernardino, Riverside</td>\n",
       "      <td>0</td>\n",
       "      <td>0</td>\n",
       "      <td>-116.986690</td>\n",
       "      <td>34.080560</td>\n",
       "      <td>Wildfire</td>\n",
       "      <td>True</td>\n",
       "      <td>False</td>\n",
       "      <td>Oak Glen Rd Road and Potato Canyon Road, West ...</td>\n",
       "    </tr>\n",
       "    <tr>\n",
       "      <th>12</th>\n",
       "      <td>Bobcat Fire</td>\n",
       "      <td>False</td>\n",
       "      <td>2020-09-06T14:42:02Z</td>\n",
       "      <td>Los Angeles</td>\n",
       "      <td>0</td>\n",
       "      <td>0</td>\n",
       "      <td>-117.964838</td>\n",
       "      <td>34.244649</td>\n",
       "      <td>Wildfire</td>\n",
       "      <td>True</td>\n",
       "      <td>False</td>\n",
       "      <td>Northeast of Cogswell Reservoir, San Gabriel C...</td>\n",
       "    </tr>\n",
       "    <tr>\n",
       "      <th>13</th>\n",
       "      <td>Slater Fire (includes Devil Fire)</td>\n",
       "      <td>False</td>\n",
       "      <td>2020-09-08T06:43:00Z</td>\n",
       "      <td>Siskiyou</td>\n",
       "      <td>0</td>\n",
       "      <td>0</td>\n",
       "      <td>-123.449630</td>\n",
       "      <td>41.868890</td>\n",
       "      <td>Wildfire</td>\n",
       "      <td>True</td>\n",
       "      <td>False</td>\n",
       "      <td>99-97 Cutoff and Yellow Butte Road, North of M...</td>\n",
       "    </tr>\n",
       "    <tr>\n",
       "      <th>14</th>\n",
       "      <td>Fork Fire</td>\n",
       "      <td>False</td>\n",
       "      <td>2020-09-08T13:03:25Z</td>\n",
       "      <td>El Dorado</td>\n",
       "      <td>0</td>\n",
       "      <td>0</td>\n",
       "      <td>-120.394000</td>\n",
       "      <td>38.990000</td>\n",
       "      <td>Wildfire</td>\n",
       "      <td>True</td>\n",
       "      <td>False</td>\n",
       "      <td>South Fork Road and Trail View, northeast of P...</td>\n",
       "    </tr>\n",
       "    <tr>\n",
       "      <th>15</th>\n",
       "      <td>Bullfrog Fire</td>\n",
       "      <td>False</td>\n",
       "      <td>2020-09-12T13:57:57Z</td>\n",
       "      <td>Fresno</td>\n",
       "      <td>0</td>\n",
       "      <td>0</td>\n",
       "      <td>-119.027309</td>\n",
       "      <td>37.135474</td>\n",
       "      <td>Wildfire</td>\n",
       "      <td>True</td>\n",
       "      <td>False</td>\n",
       "      <td>Dinkey Lakes and Nelson Lake, SE of Bullfrog Lake</td>\n",
       "    </tr>\n",
       "    <tr>\n",
       "      <th>16</th>\n",
       "      <td>Wolf Fire</td>\n",
       "      <td>False</td>\n",
       "      <td>2020-09-22T11:28:09Z</td>\n",
       "      <td>Mariposa</td>\n",
       "      <td>0</td>\n",
       "      <td>0</td>\n",
       "      <td>-119.643000</td>\n",
       "      <td>37.882000</td>\n",
       "      <td>Wildfire</td>\n",
       "      <td>True</td>\n",
       "      <td>False</td>\n",
       "      <td>north side of Tioga Road and White Wolf campgr...</td>\n",
       "    </tr>\n",
       "    <tr>\n",
       "      <th>165</th>\n",
       "      <td>Beach Fire</td>\n",
       "      <td>True</td>\n",
       "      <td>2020-08-17T12:31:38Z</td>\n",
       "      <td>Mono</td>\n",
       "      <td>0</td>\n",
       "      <td>0</td>\n",
       "      <td>-119.010655</td>\n",
       "      <td>37.919382</td>\n",
       "      <td>Wildfire</td>\n",
       "      <td>False</td>\n",
       "      <td>False</td>\n",
       "      <td>Hwy 120 and Forest Road 1N23, south of Mono Lake</td>\n",
       "    </tr>\n",
       "    <tr>\n",
       "      <th>179</th>\n",
       "      <td>W-5 Cold Springs</td>\n",
       "      <td>True</td>\n",
       "      <td>2020-08-23T08:24:24Z</td>\n",
       "      <td>Lassen</td>\n",
       "      <td>0</td>\n",
       "      <td>0</td>\n",
       "      <td>-120.281389</td>\n",
       "      <td>41.028611</td>\n",
       "      <td>Wildfire</td>\n",
       "      <td>False</td>\n",
       "      <td>False</td>\n",
       "      <td>Cold Spring Road, West of Cold Spring Mountain</td>\n",
       "    </tr>\n",
       "    <tr>\n",
       "      <th>183</th>\n",
       "      <td>Hobo Fire</td>\n",
       "      <td>True</td>\n",
       "      <td>2020-09-01T09:37:58Z</td>\n",
       "      <td>Trinity</td>\n",
       "      <td>0</td>\n",
       "      <td>0</td>\n",
       "      <td>-123.124610</td>\n",
       "      <td>40.821260</td>\n",
       "      <td>Wildfire</td>\n",
       "      <td>False</td>\n",
       "      <td>False</td>\n",
       "      <td>East Fork Rd and Barney Gulch Rd, north of Helena</td>\n",
       "    </tr>\n",
       "  </tbody>\n",
       "</table>\n",
       "</div>"
      ],
      "text/plain": [
       "                                  Name  Final                  Started  \\\n",
       "0                           Apple Fire  False     2020-07-31T18:08:39Z   \n",
       "2                   Red Salmon Complex  False  2020-08-18T09:49:34.58Z   \n",
       "3                        Blue Jay Fire  False     2020-08-18T10:16:11Z   \n",
       "4                   North Complex Fire  False     2020-08-18T21:21:53Z   \n",
       "5                           Dolan Fire  False     2020-08-19T09:23:03Z   \n",
       "7                           Slink Fire  False     2020-09-01T12:38:11Z   \n",
       "8                     Rattlesnake Fire  False     2020-09-03T12:36:39Z   \n",
       "9                         Moraine Fire  False     2020-08-21T21:00:00Z   \n",
       "11                      El Dorado Fire  False     2020-09-05T12:51:00Z   \n",
       "12                        Bobcat Fire   False     2020-09-06T14:42:02Z   \n",
       "13   Slater Fire (includes Devil Fire)  False     2020-09-08T06:43:00Z   \n",
       "14                           Fork Fire  False     2020-09-08T13:03:25Z   \n",
       "15                       Bullfrog Fire  False     2020-09-12T13:57:57Z   \n",
       "16                           Wolf Fire  False     2020-09-22T11:28:09Z   \n",
       "165                        Beach Fire    True     2020-08-17T12:31:38Z   \n",
       "179                   W-5 Cold Springs   True     2020-08-23T08:24:24Z   \n",
       "183                         Hobo Fire    True     2020-09-01T09:37:58Z   \n",
       "\n",
       "                        County  AcresBurned  PercentContained   Longitude  \\\n",
       "0                    Riverside            0                 0 -116.961700   \n",
       "2                     Humboldt            0                 0 -123.407000   \n",
       "3                     Mariposa            0                 0 -119.605810   \n",
       "4                Plumas, Butte            0                 0 -121.227180   \n",
       "5                     Monterey            0                 0 -121.602000   \n",
       "7                         Mono            0                 0 -119.568000   \n",
       "8                       Tulare            0                 0 -118.448000   \n",
       "9                       Tulare            0                 0 -118.557000   \n",
       "11   San Bernardino, Riverside            0                 0 -116.986690   \n",
       "12                 Los Angeles            0                 0 -117.964838   \n",
       "13                    Siskiyou            0                 0 -123.449630   \n",
       "14                   El Dorado            0                 0 -120.394000   \n",
       "15                      Fresno            0                 0 -119.027309   \n",
       "16                    Mariposa            0                 0 -119.643000   \n",
       "165                       Mono            0                 0 -119.010655   \n",
       "179                     Lassen            0                 0 -120.281389   \n",
       "183                    Trinity            0                 0 -123.124610   \n",
       "\n",
       "      Latitude      Type  IsActive  CalFireIncident  \\\n",
       "0    33.991390  Wildfire      True            False   \n",
       "2    41.168000  Wildfire      True            False   \n",
       "3    37.844630  Wildfire      True            False   \n",
       "4    39.690720  Wildfire      True            False   \n",
       "5    36.123000  Wildfire      True            False   \n",
       "7    38.568000  Wildfire      True            False   \n",
       "8    36.420000  Wildfire      True            False   \n",
       "9    36.718000  Wildfire      True            False   \n",
       "11   34.080560  Wildfire      True            False   \n",
       "12   34.244649  Wildfire      True            False   \n",
       "13   41.868890  Wildfire      True            False   \n",
       "14   38.990000  Wildfire      True            False   \n",
       "15   37.135474  Wildfire      True            False   \n",
       "16   37.882000  Wildfire      True            False   \n",
       "165  37.919382  Wildfire     False            False   \n",
       "179  41.028611  Wildfire     False            False   \n",
       "183  40.821260  Wildfire     False            False   \n",
       "\n",
       "                                              Location  \n",
       "0    off of Oak Glen Road and Apple Tree Lane, Nort...  \n",
       "2      near Salmon Mountain, Northeast of Willow Creek  \n",
       "3           Near Tioga Road, North of Yosemite Valley   \n",
       "4                                 Flemmings Sheep Camp  \n",
       "5               Dolan Rd and Hwy 1, Ventana Wilderness  \n",
       "7       Slinkard Valley, west of Coleville, California  \n",
       "8    The Rattlesnake fire is burning in Sequoia Kin...  \n",
       "9    South of Palmer Peak , East of Avalanche Pass ...  \n",
       "11   Oak Glen Rd Road and Potato Canyon Road, West ...  \n",
       "12   Northeast of Cogswell Reservoir, San Gabriel C...  \n",
       "13   99-97 Cutoff and Yellow Butte Road, North of M...  \n",
       "14   South Fork Road and Trail View, northeast of P...  \n",
       "15   Dinkey Lakes and Nelson Lake, SE of Bullfrog Lake  \n",
       "16   north side of Tioga Road and White Wolf campgr...  \n",
       "165   Hwy 120 and Forest Road 1N23, south of Mono Lake  \n",
       "179    Cold Spring Road, West of Cold Spring Mountain   \n",
       "183  East Fork Rd and Barney Gulch Rd, north of Helena  "
      ]
     },
     "execution_count": 15,
     "metadata": {},
     "output_type": "execute_result"
    }
   ],
   "source": [
    "# subsetting rows that have 0 acres burned in the fire dataframe\n",
    "fire_0 = fire[fire['AcresBurned'] == 0]\n",
    "fire_0"
   ]
  },
  {
   "cell_type": "code",
   "execution_count": 16,
   "metadata": {},
   "outputs": [
    {
     "data": {
      "text/plain": [
       "17"
      ]
     },
     "execution_count": 16,
     "metadata": {},
     "output_type": "execute_result"
    }
   ],
   "source": [
    "len(fire_0)"
   ]
  },
  {
   "cell_type": "code",
   "execution_count": 17,
   "metadata": {},
   "outputs": [],
   "source": [
    "# updating the `fire` dataframe with acres burned from inciweb (fyre dataframe)\n",
    "for fire_name in fire_0['Name']:\n",
    "    # get the acres where the name matches\n",
    "    index1 = fyre[fyre['Incident'].str.contains(fire_name.split()[0])].index\n",
    "    # match only there is at least a match\n",
    "    if len(list(index1)) > 0:\n",
    "        acres = fyre.iloc[list(index1)[0], 3].split()[0]\n",
    "        index2 = fire[fire['Name'] == fire_name].index\n",
    "        \n",
    "        fire.iloc[list(index2)[0], 4] = acres  "
   ]
  },
  {
   "cell_type": "code",
   "execution_count": 18,
   "metadata": {},
   "outputs": [
    {
     "data": {
      "text/html": [
       "<div>\n",
       "<style scoped>\n",
       "    .dataframe tbody tr th:only-of-type {\n",
       "        vertical-align: middle;\n",
       "    }\n",
       "\n",
       "    .dataframe tbody tr th {\n",
       "        vertical-align: top;\n",
       "    }\n",
       "\n",
       "    .dataframe thead th {\n",
       "        text-align: right;\n",
       "    }\n",
       "</style>\n",
       "<table border=\"1\" class=\"dataframe\">\n",
       "  <thead>\n",
       "    <tr style=\"text-align: right;\">\n",
       "      <th></th>\n",
       "      <th>Name</th>\n",
       "      <th>Final</th>\n",
       "      <th>Started</th>\n",
       "      <th>County</th>\n",
       "      <th>AcresBurned</th>\n",
       "      <th>PercentContained</th>\n",
       "      <th>Longitude</th>\n",
       "      <th>Latitude</th>\n",
       "      <th>Type</th>\n",
       "      <th>IsActive</th>\n",
       "      <th>CalFireIncident</th>\n",
       "      <th>Location</th>\n",
       "    </tr>\n",
       "  </thead>\n",
       "  <tbody>\n",
       "    <tr>\n",
       "      <th>7</th>\n",
       "      <td>Slink Fire</td>\n",
       "      <td>False</td>\n",
       "      <td>2020-09-01T12:38:11Z</td>\n",
       "      <td>Mono</td>\n",
       "      <td>0</td>\n",
       "      <td>0</td>\n",
       "      <td>-119.568000</td>\n",
       "      <td>38.568000</td>\n",
       "      <td>Wildfire</td>\n",
       "      <td>True</td>\n",
       "      <td>False</td>\n",
       "      <td>Slinkard Valley, west of Coleville, California</td>\n",
       "    </tr>\n",
       "    <tr>\n",
       "      <th>12</th>\n",
       "      <td>Bobcat Fire</td>\n",
       "      <td>False</td>\n",
       "      <td>2020-09-06T14:42:02Z</td>\n",
       "      <td>Los Angeles</td>\n",
       "      <td>0</td>\n",
       "      <td>0</td>\n",
       "      <td>-117.964838</td>\n",
       "      <td>34.244649</td>\n",
       "      <td>Wildfire</td>\n",
       "      <td>True</td>\n",
       "      <td>False</td>\n",
       "      <td>Northeast of Cogswell Reservoir, San Gabriel C...</td>\n",
       "    </tr>\n",
       "    <tr>\n",
       "      <th>165</th>\n",
       "      <td>Beach Fire</td>\n",
       "      <td>True</td>\n",
       "      <td>2020-08-17T12:31:38Z</td>\n",
       "      <td>Mono</td>\n",
       "      <td>0</td>\n",
       "      <td>0</td>\n",
       "      <td>-119.010655</td>\n",
       "      <td>37.919382</td>\n",
       "      <td>Wildfire</td>\n",
       "      <td>False</td>\n",
       "      <td>False</td>\n",
       "      <td>Hwy 120 and Forest Road 1N23, south of Mono Lake</td>\n",
       "    </tr>\n",
       "    <tr>\n",
       "      <th>179</th>\n",
       "      <td>W-5 Cold Springs</td>\n",
       "      <td>True</td>\n",
       "      <td>2020-08-23T08:24:24Z</td>\n",
       "      <td>Lassen</td>\n",
       "      <td>0</td>\n",
       "      <td>0</td>\n",
       "      <td>-120.281389</td>\n",
       "      <td>41.028611</td>\n",
       "      <td>Wildfire</td>\n",
       "      <td>False</td>\n",
       "      <td>False</td>\n",
       "      <td>Cold Spring Road, West of Cold Spring Mountain</td>\n",
       "    </tr>\n",
       "  </tbody>\n",
       "</table>\n",
       "</div>"
      ],
      "text/plain": [
       "                 Name  Final               Started       County AcresBurned  \\\n",
       "7          Slink Fire  False  2020-09-01T12:38:11Z         Mono           0   \n",
       "12       Bobcat Fire   False  2020-09-06T14:42:02Z  Los Angeles           0   \n",
       "165       Beach Fire    True  2020-08-17T12:31:38Z         Mono           0   \n",
       "179  W-5 Cold Springs   True  2020-08-23T08:24:24Z       Lassen           0   \n",
       "\n",
       "     PercentContained   Longitude   Latitude      Type  IsActive  \\\n",
       "7                   0 -119.568000  38.568000  Wildfire      True   \n",
       "12                  0 -117.964838  34.244649  Wildfire      True   \n",
       "165                 0 -119.010655  37.919382  Wildfire     False   \n",
       "179                 0 -120.281389  41.028611  Wildfire     False   \n",
       "\n",
       "     CalFireIncident                                           Location  \n",
       "7              False     Slinkard Valley, west of Coleville, California  \n",
       "12             False  Northeast of Cogswell Reservoir, San Gabriel C...  \n",
       "165            False   Hwy 120 and Forest Road 1N23, south of Mono Lake  \n",
       "179            False    Cold Spring Road, West of Cold Spring Mountain   "
      ]
     },
     "execution_count": 18,
     "metadata": {},
     "output_type": "execute_result"
    }
   ],
   "source": [
    "# check whether it's updated\n",
    "fire_0 = fire[fire['AcresBurned'] == 0]\n",
    "fire_0"
   ]
  },
  {
   "cell_type": "code",
   "execution_count": 19,
   "metadata": {},
   "outputs": [
    {
     "data": {
      "text/html": [
       "<div>\n",
       "<style scoped>\n",
       "    .dataframe tbody tr th:only-of-type {\n",
       "        vertical-align: middle;\n",
       "    }\n",
       "\n",
       "    .dataframe tbody tr th {\n",
       "        vertical-align: top;\n",
       "    }\n",
       "\n",
       "    .dataframe thead th {\n",
       "        text-align: right;\n",
       "    }\n",
       "</style>\n",
       "<table border=\"1\" class=\"dataframe\">\n",
       "  <thead>\n",
       "    <tr style=\"text-align: right;\">\n",
       "      <th></th>\n",
       "      <th>Name</th>\n",
       "      <th>Final</th>\n",
       "      <th>Started</th>\n",
       "      <th>County</th>\n",
       "      <th>AcresBurned</th>\n",
       "      <th>PercentContained</th>\n",
       "      <th>Longitude</th>\n",
       "      <th>Latitude</th>\n",
       "      <th>Type</th>\n",
       "      <th>IsActive</th>\n",
       "      <th>CalFireIncident</th>\n",
       "      <th>Location</th>\n",
       "    </tr>\n",
       "  </thead>\n",
       "  <tbody>\n",
       "    <tr>\n",
       "      <th>0</th>\n",
       "      <td>Apple Fire</td>\n",
       "      <td>False</td>\n",
       "      <td>2020-07-31T18:08:39Z</td>\n",
       "      <td>Riverside</td>\n",
       "      <td>33424</td>\n",
       "      <td>0</td>\n",
       "      <td>-116.961700</td>\n",
       "      <td>33.991390</td>\n",
       "      <td>Wildfire</td>\n",
       "      <td>True</td>\n",
       "      <td>False</td>\n",
       "      <td>off of Oak Glen Road and Apple Tree Lane, Nort...</td>\n",
       "    </tr>\n",
       "    <tr>\n",
       "      <th>2</th>\n",
       "      <td>Red Salmon Complex</td>\n",
       "      <td>False</td>\n",
       "      <td>2020-08-18T09:49:34.58Z</td>\n",
       "      <td>Humboldt</td>\n",
       "      <td>143923</td>\n",
       "      <td>0</td>\n",
       "      <td>-123.407000</td>\n",
       "      <td>41.168000</td>\n",
       "      <td>Wildfire</td>\n",
       "      <td>True</td>\n",
       "      <td>False</td>\n",
       "      <td>near Salmon Mountain, Northeast of Willow Creek</td>\n",
       "    </tr>\n",
       "    <tr>\n",
       "      <th>3</th>\n",
       "      <td>Blue Jay Fire</td>\n",
       "      <td>False</td>\n",
       "      <td>2020-08-18T10:16:11Z</td>\n",
       "      <td>Mariposa</td>\n",
       "      <td>6915</td>\n",
       "      <td>0</td>\n",
       "      <td>-119.605810</td>\n",
       "      <td>37.844630</td>\n",
       "      <td>Wildfire</td>\n",
       "      <td>True</td>\n",
       "      <td>False</td>\n",
       "      <td>Near Tioga Road, North of Yosemite Valley</td>\n",
       "    </tr>\n",
       "    <tr>\n",
       "      <th>4</th>\n",
       "      <td>North Complex Fire</td>\n",
       "      <td>False</td>\n",
       "      <td>2020-08-18T21:21:53Z</td>\n",
       "      <td>Plumas, Butte</td>\n",
       "      <td>200</td>\n",
       "      <td>0</td>\n",
       "      <td>-121.227180</td>\n",
       "      <td>39.690720</td>\n",
       "      <td>Wildfire</td>\n",
       "      <td>True</td>\n",
       "      <td>False</td>\n",
       "      <td>Flemmings Sheep Camp</td>\n",
       "    </tr>\n",
       "    <tr>\n",
       "      <th>5</th>\n",
       "      <td>Dolan Fire</td>\n",
       "      <td>False</td>\n",
       "      <td>2020-08-19T09:23:03Z</td>\n",
       "      <td>Monterey</td>\n",
       "      <td>124924</td>\n",
       "      <td>0</td>\n",
       "      <td>-121.602000</td>\n",
       "      <td>36.123000</td>\n",
       "      <td>Wildfire</td>\n",
       "      <td>True</td>\n",
       "      <td>False</td>\n",
       "      <td>Dolan Rd and Hwy 1, Ventana Wilderness</td>\n",
       "    </tr>\n",
       "    <tr>\n",
       "      <th>7</th>\n",
       "      <td>Slink Fire</td>\n",
       "      <td>False</td>\n",
       "      <td>2020-09-01T12:38:11Z</td>\n",
       "      <td>Mono</td>\n",
       "      <td>0</td>\n",
       "      <td>0</td>\n",
       "      <td>-119.568000</td>\n",
       "      <td>38.568000</td>\n",
       "      <td>Wildfire</td>\n",
       "      <td>True</td>\n",
       "      <td>False</td>\n",
       "      <td>Slinkard Valley, west of Coleville, California</td>\n",
       "    </tr>\n",
       "    <tr>\n",
       "      <th>8</th>\n",
       "      <td>Rattlesnake Fire</td>\n",
       "      <td>False</td>\n",
       "      <td>2020-09-03T12:36:39Z</td>\n",
       "      <td>Tulare</td>\n",
       "      <td>7241</td>\n",
       "      <td>0</td>\n",
       "      <td>-118.448000</td>\n",
       "      <td>36.420000</td>\n",
       "      <td>Wildfire</td>\n",
       "      <td>True</td>\n",
       "      <td>False</td>\n",
       "      <td>The Rattlesnake fire is burning in Sequoia Kin...</td>\n",
       "    </tr>\n",
       "    <tr>\n",
       "      <th>9</th>\n",
       "      <td>Moraine Fire</td>\n",
       "      <td>False</td>\n",
       "      <td>2020-08-21T21:00:00Z</td>\n",
       "      <td>Tulare</td>\n",
       "      <td>988</td>\n",
       "      <td>0</td>\n",
       "      <td>-118.557000</td>\n",
       "      <td>36.718000</td>\n",
       "      <td>Wildfire</td>\n",
       "      <td>True</td>\n",
       "      <td>False</td>\n",
       "      <td>South of Palmer Peak , East of Avalanche Pass ...</td>\n",
       "    </tr>\n",
       "    <tr>\n",
       "      <th>11</th>\n",
       "      <td>El Dorado Fire</td>\n",
       "      <td>False</td>\n",
       "      <td>2020-09-05T12:51:00Z</td>\n",
       "      <td>San Bernardino, Riverside</td>\n",
       "      <td>22744</td>\n",
       "      <td>0</td>\n",
       "      <td>-116.986690</td>\n",
       "      <td>34.080560</td>\n",
       "      <td>Wildfire</td>\n",
       "      <td>True</td>\n",
       "      <td>False</td>\n",
       "      <td>Oak Glen Rd Road and Potato Canyon Road, West ...</td>\n",
       "    </tr>\n",
       "    <tr>\n",
       "      <th>12</th>\n",
       "      <td>Bobcat Fire</td>\n",
       "      <td>False</td>\n",
       "      <td>2020-09-06T14:42:02Z</td>\n",
       "      <td>Los Angeles</td>\n",
       "      <td>0</td>\n",
       "      <td>0</td>\n",
       "      <td>-117.964838</td>\n",
       "      <td>34.244649</td>\n",
       "      <td>Wildfire</td>\n",
       "      <td>True</td>\n",
       "      <td>False</td>\n",
       "      <td>Northeast of Cogswell Reservoir, San Gabriel C...</td>\n",
       "    </tr>\n",
       "    <tr>\n",
       "      <th>13</th>\n",
       "      <td>Slater Fire (includes Devil Fire)</td>\n",
       "      <td>False</td>\n",
       "      <td>2020-09-08T06:43:00Z</td>\n",
       "      <td>Siskiyou</td>\n",
       "      <td>156832</td>\n",
       "      <td>0</td>\n",
       "      <td>-123.449630</td>\n",
       "      <td>41.868890</td>\n",
       "      <td>Wildfire</td>\n",
       "      <td>True</td>\n",
       "      <td>False</td>\n",
       "      <td>99-97 Cutoff and Yellow Butte Road, North of M...</td>\n",
       "    </tr>\n",
       "    <tr>\n",
       "      <th>14</th>\n",
       "      <td>Fork Fire</td>\n",
       "      <td>False</td>\n",
       "      <td>2020-09-08T13:03:25Z</td>\n",
       "      <td>El Dorado</td>\n",
       "      <td>1673</td>\n",
       "      <td>0</td>\n",
       "      <td>-120.394000</td>\n",
       "      <td>38.990000</td>\n",
       "      <td>Wildfire</td>\n",
       "      <td>True</td>\n",
       "      <td>False</td>\n",
       "      <td>South Fork Road and Trail View, northeast of P...</td>\n",
       "    </tr>\n",
       "    <tr>\n",
       "      <th>15</th>\n",
       "      <td>Bullfrog Fire</td>\n",
       "      <td>False</td>\n",
       "      <td>2020-09-12T13:57:57Z</td>\n",
       "      <td>Fresno</td>\n",
       "      <td>1185</td>\n",
       "      <td>0</td>\n",
       "      <td>-119.027309</td>\n",
       "      <td>37.135474</td>\n",
       "      <td>Wildfire</td>\n",
       "      <td>True</td>\n",
       "      <td>False</td>\n",
       "      <td>Dinkey Lakes and Nelson Lake, SE of Bullfrog Lake</td>\n",
       "    </tr>\n",
       "    <tr>\n",
       "      <th>16</th>\n",
       "      <td>Wolf Fire</td>\n",
       "      <td>False</td>\n",
       "      <td>2020-09-22T11:28:09Z</td>\n",
       "      <td>Mariposa</td>\n",
       "      <td>2040</td>\n",
       "      <td>0</td>\n",
       "      <td>-119.643000</td>\n",
       "      <td>37.882000</td>\n",
       "      <td>Wildfire</td>\n",
       "      <td>True</td>\n",
       "      <td>False</td>\n",
       "      <td>north side of Tioga Road and White Wolf campgr...</td>\n",
       "    </tr>\n",
       "    <tr>\n",
       "      <th>165</th>\n",
       "      <td>Beach Fire</td>\n",
       "      <td>True</td>\n",
       "      <td>2020-08-17T12:31:38Z</td>\n",
       "      <td>Mono</td>\n",
       "      <td>0</td>\n",
       "      <td>0</td>\n",
       "      <td>-119.010655</td>\n",
       "      <td>37.919382</td>\n",
       "      <td>Wildfire</td>\n",
       "      <td>False</td>\n",
       "      <td>False</td>\n",
       "      <td>Hwy 120 and Forest Road 1N23, south of Mono Lake</td>\n",
       "    </tr>\n",
       "    <tr>\n",
       "      <th>179</th>\n",
       "      <td>W-5 Cold Springs</td>\n",
       "      <td>True</td>\n",
       "      <td>2020-08-23T08:24:24Z</td>\n",
       "      <td>Lassen</td>\n",
       "      <td>0</td>\n",
       "      <td>0</td>\n",
       "      <td>-120.281389</td>\n",
       "      <td>41.028611</td>\n",
       "      <td>Wildfire</td>\n",
       "      <td>False</td>\n",
       "      <td>False</td>\n",
       "      <td>Cold Spring Road, West of Cold Spring Mountain</td>\n",
       "    </tr>\n",
       "    <tr>\n",
       "      <th>183</th>\n",
       "      <td>Hobo Fire</td>\n",
       "      <td>True</td>\n",
       "      <td>2020-09-01T09:37:58Z</td>\n",
       "      <td>Trinity</td>\n",
       "      <td>413</td>\n",
       "      <td>0</td>\n",
       "      <td>-123.124610</td>\n",
       "      <td>40.821260</td>\n",
       "      <td>Wildfire</td>\n",
       "      <td>False</td>\n",
       "      <td>False</td>\n",
       "      <td>East Fork Rd and Barney Gulch Rd, north of Helena</td>\n",
       "    </tr>\n",
       "  </tbody>\n",
       "</table>\n",
       "</div>"
      ],
      "text/plain": [
       "                                  Name  Final                  Started  \\\n",
       "0                           Apple Fire  False     2020-07-31T18:08:39Z   \n",
       "2                   Red Salmon Complex  False  2020-08-18T09:49:34.58Z   \n",
       "3                        Blue Jay Fire  False     2020-08-18T10:16:11Z   \n",
       "4                   North Complex Fire  False     2020-08-18T21:21:53Z   \n",
       "5                           Dolan Fire  False     2020-08-19T09:23:03Z   \n",
       "7                           Slink Fire  False     2020-09-01T12:38:11Z   \n",
       "8                     Rattlesnake Fire  False     2020-09-03T12:36:39Z   \n",
       "9                         Moraine Fire  False     2020-08-21T21:00:00Z   \n",
       "11                      El Dorado Fire  False     2020-09-05T12:51:00Z   \n",
       "12                        Bobcat Fire   False     2020-09-06T14:42:02Z   \n",
       "13   Slater Fire (includes Devil Fire)  False     2020-09-08T06:43:00Z   \n",
       "14                           Fork Fire  False     2020-09-08T13:03:25Z   \n",
       "15                       Bullfrog Fire  False     2020-09-12T13:57:57Z   \n",
       "16                           Wolf Fire  False     2020-09-22T11:28:09Z   \n",
       "165                        Beach Fire    True     2020-08-17T12:31:38Z   \n",
       "179                   W-5 Cold Springs   True     2020-08-23T08:24:24Z   \n",
       "183                         Hobo Fire    True     2020-09-01T09:37:58Z   \n",
       "\n",
       "                        County AcresBurned  PercentContained   Longitude  \\\n",
       "0                    Riverside       33424                 0 -116.961700   \n",
       "2                     Humboldt      143923                 0 -123.407000   \n",
       "3                     Mariposa        6915                 0 -119.605810   \n",
       "4                Plumas, Butte         200                 0 -121.227180   \n",
       "5                     Monterey      124924                 0 -121.602000   \n",
       "7                         Mono           0                 0 -119.568000   \n",
       "8                       Tulare        7241                 0 -118.448000   \n",
       "9                       Tulare         988                 0 -118.557000   \n",
       "11   San Bernardino, Riverside       22744                 0 -116.986690   \n",
       "12                 Los Angeles           0                 0 -117.964838   \n",
       "13                    Siskiyou      156832                 0 -123.449630   \n",
       "14                   El Dorado        1673                 0 -120.394000   \n",
       "15                      Fresno        1185                 0 -119.027309   \n",
       "16                    Mariposa        2040                 0 -119.643000   \n",
       "165                       Mono           0                 0 -119.010655   \n",
       "179                     Lassen           0                 0 -120.281389   \n",
       "183                    Trinity         413                 0 -123.124610   \n",
       "\n",
       "      Latitude      Type  IsActive  CalFireIncident  \\\n",
       "0    33.991390  Wildfire      True            False   \n",
       "2    41.168000  Wildfire      True            False   \n",
       "3    37.844630  Wildfire      True            False   \n",
       "4    39.690720  Wildfire      True            False   \n",
       "5    36.123000  Wildfire      True            False   \n",
       "7    38.568000  Wildfire      True            False   \n",
       "8    36.420000  Wildfire      True            False   \n",
       "9    36.718000  Wildfire      True            False   \n",
       "11   34.080560  Wildfire      True            False   \n",
       "12   34.244649  Wildfire      True            False   \n",
       "13   41.868890  Wildfire      True            False   \n",
       "14   38.990000  Wildfire      True            False   \n",
       "15   37.135474  Wildfire      True            False   \n",
       "16   37.882000  Wildfire      True            False   \n",
       "165  37.919382  Wildfire     False            False   \n",
       "179  41.028611  Wildfire     False            False   \n",
       "183  40.821260  Wildfire     False            False   \n",
       "\n",
       "                                              Location  \n",
       "0    off of Oak Glen Road and Apple Tree Lane, Nort...  \n",
       "2      near Salmon Mountain, Northeast of Willow Creek  \n",
       "3           Near Tioga Road, North of Yosemite Valley   \n",
       "4                                 Flemmings Sheep Camp  \n",
       "5               Dolan Rd and Hwy 1, Ventana Wilderness  \n",
       "7       Slinkard Valley, west of Coleville, California  \n",
       "8    The Rattlesnake fire is burning in Sequoia Kin...  \n",
       "9    South of Palmer Peak , East of Avalanche Pass ...  \n",
       "11   Oak Glen Rd Road and Potato Canyon Road, West ...  \n",
       "12   Northeast of Cogswell Reservoir, San Gabriel C...  \n",
       "13   99-97 Cutoff and Yellow Butte Road, North of M...  \n",
       "14   South Fork Road and Trail View, northeast of P...  \n",
       "15   Dinkey Lakes and Nelson Lake, SE of Bullfrog Lake  \n",
       "16   north side of Tioga Road and White Wolf campgr...  \n",
       "165   Hwy 120 and Forest Road 1N23, south of Mono Lake  \n",
       "179    Cold Spring Road, West of Cold Spring Mountain   \n",
       "183  East Fork Rd and Barney Gulch Rd, north of Helena  "
      ]
     },
     "execution_count": 19,
     "metadata": {},
     "output_type": "execute_result"
    }
   ],
   "source": [
    "fire[fire['PercentContained'] == 0]"
   ]
  },
  {
   "cell_type": "markdown",
   "metadata": {},
   "source": [
    "There are still fires that don't have the updated burned acres here. I can only find it through individual searches on inciweb. I will update the percent containment as well.\n",
    "The links are:   \n",
    "[Slink Fire](https://inciweb.nwcg.gov/incident/article/7105/55963/)   \n",
    "[Bobcat Fire](https://inciweb.nwcg.gov/incident/7152/)   \n",
    "[Beach Fire](https://inciweb.nwcg.gov/incident/6987/)   \n",
    "[W-5 Cold Springs](https://inciweb.nwcg.gov/incident/7010/)\n",
    "\n",
    "For percent containment:  \n",
    "[Apple Fire, Red Salmon Complex, North Complex Fire, Dolan Fire, El Dorado Fire, Slater Fire (includes Devil Fire), Fork Fire, ](https://www.sfchronicle.com/projects/california-fire-map/)  \n",
    "[Blue Jay Fire](https://inciweb.nwcg.gov/incident/6888/)  \n",
    "[Rattlesnake Fire](https://inciweb.nwcg.gov/incident/7131/)  \n",
    "[Moraine Fire](https://inciweb.nwcg.gov/incident/7089/)  \n",
    "[Bullfrog Fire](https://inciweb.nwcg.gov/incident/7191/)  \n",
    "[Wolf Fire](https://inciweb.nwcg.gov/incident/7134/)\n",
    "[Hobo Fire](https://inciweb.nwcg.gov/incident/7126/)"
   ]
  },
  {
   "cell_type": "code",
   "execution_count": 20,
   "metadata": {},
   "outputs": [],
   "source": [
    "fire_update = {'Slink Fire': [26759, 90], 'Bobcat Fire ': [115796, 92], \n",
    "               'Beach Fire ': [3780, 100], 'W-5 Cold Springs': [84817, 100]}\n",
    "for key, value in fire_update.items():\n",
    "    index = list(fire[fire['Name'] == key].index)\n",
    "    fire.iloc[index[0], 4] = value[0]\n",
    "    fire.iloc[index[0], 5] = value[1]\n",
    "    \n",
    "containment_update = {'Apple Fire': 95, 'Red Salmon Complex': 75, 'Blue Jay Fire': 50, 'North Complex Fire': 95,\n",
    "                     'Dolan Fire': 98, 'Rattlesnake Fire': 40, 'Moraine Fire': 70, 'El Dorado Fire': 95,\n",
    "                     'Slater Fire (includes Devil Fire)': 85, 'Fork Fire': 85, 'Bullfrog Fire': 60, \n",
    "                     'Wolf Fire': 40, 'Hobo Fire ': 100}\n",
    "\n",
    "for key, value in containment_update.items():\n",
    "    index = list(fire[fire['Name'] == key].index)\n",
    "    fire.iloc[index[0], 5] = value\n"
   ]
  },
  {
   "cell_type": "code",
   "execution_count": 21,
   "metadata": {},
   "outputs": [
    {
     "data": {
      "text/html": [
       "<div>\n",
       "<style scoped>\n",
       "    .dataframe tbody tr th:only-of-type {\n",
       "        vertical-align: middle;\n",
       "    }\n",
       "\n",
       "    .dataframe tbody tr th {\n",
       "        vertical-align: top;\n",
       "    }\n",
       "\n",
       "    .dataframe thead th {\n",
       "        text-align: right;\n",
       "    }\n",
       "</style>\n",
       "<table border=\"1\" class=\"dataframe\">\n",
       "  <thead>\n",
       "    <tr style=\"text-align: right;\">\n",
       "      <th></th>\n",
       "      <th>Name</th>\n",
       "      <th>Final</th>\n",
       "      <th>Started</th>\n",
       "      <th>County</th>\n",
       "      <th>AcresBurned</th>\n",
       "      <th>PercentContained</th>\n",
       "      <th>Longitude</th>\n",
       "      <th>Latitude</th>\n",
       "      <th>Type</th>\n",
       "      <th>IsActive</th>\n",
       "      <th>CalFireIncident</th>\n",
       "      <th>Location</th>\n",
       "    </tr>\n",
       "  </thead>\n",
       "  <tbody>\n",
       "  </tbody>\n",
       "</table>\n",
       "</div>"
      ],
      "text/plain": [
       "Empty DataFrame\n",
       "Columns: [Name, Final, Started, County, AcresBurned, PercentContained, Longitude, Latitude, Type, IsActive, CalFireIncident, Location]\n",
       "Index: []"
      ]
     },
     "execution_count": 21,
     "metadata": {},
     "output_type": "execute_result"
    }
   ],
   "source": [
    "# verify\n",
    "fire[fire['AcresBurned'] == 0]"
   ]
  },
  {
   "cell_type": "code",
   "execution_count": 22,
   "metadata": {},
   "outputs": [
    {
     "data": {
      "text/html": [
       "<div>\n",
       "<style scoped>\n",
       "    .dataframe tbody tr th:only-of-type {\n",
       "        vertical-align: middle;\n",
       "    }\n",
       "\n",
       "    .dataframe tbody tr th {\n",
       "        vertical-align: top;\n",
       "    }\n",
       "\n",
       "    .dataframe thead th {\n",
       "        text-align: right;\n",
       "    }\n",
       "</style>\n",
       "<table border=\"1\" class=\"dataframe\">\n",
       "  <thead>\n",
       "    <tr style=\"text-align: right;\">\n",
       "      <th></th>\n",
       "      <th>Name</th>\n",
       "      <th>Final</th>\n",
       "      <th>Started</th>\n",
       "      <th>County</th>\n",
       "      <th>AcresBurned</th>\n",
       "      <th>PercentContained</th>\n",
       "      <th>Longitude</th>\n",
       "      <th>Latitude</th>\n",
       "      <th>Type</th>\n",
       "      <th>IsActive</th>\n",
       "      <th>CalFireIncident</th>\n",
       "      <th>Location</th>\n",
       "    </tr>\n",
       "  </thead>\n",
       "  <tbody>\n",
       "  </tbody>\n",
       "</table>\n",
       "</div>"
      ],
      "text/plain": [
       "Empty DataFrame\n",
       "Columns: [Name, Final, Started, County, AcresBurned, PercentContained, Longitude, Latitude, Type, IsActive, CalFireIncident, Location]\n",
       "Index: []"
      ]
     },
     "execution_count": 22,
     "metadata": {},
     "output_type": "execute_result"
    }
   ],
   "source": [
    "# verify\n",
    "fire[fire['PercentContained'] == 0]"
   ]
  },
  {
   "cell_type": "code",
   "execution_count": 23,
   "metadata": {},
   "outputs": [
    {
     "data": {
      "text/plain": [
       "Name                 object\n",
       "Final                  bool\n",
       "Started              object\n",
       "County               object\n",
       "AcresBurned           int64\n",
       "PercentContained      int64\n",
       "Longitude           float64\n",
       "Latitude            float64\n",
       "Type                 object\n",
       "IsActive               bool\n",
       "CalFireIncident        bool\n",
       "Location             object\n",
       "dtype: object"
      ]
     },
     "execution_count": 23,
     "metadata": {},
     "output_type": "execute_result"
    }
   ],
   "source": [
    "fire.astype({'AcresBurned': 'int64'}).dtypes"
   ]
  },
  {
   "cell_type": "code",
   "execution_count": 24,
   "metadata": {},
   "outputs": [
    {
     "name": "stdout",
     "output_type": "stream",
     "text": [
      "<class 'pandas.core.frame.DataFrame'>\n",
      "RangeIndex: 202 entries, 0 to 201\n",
      "Data columns (total 12 columns):\n",
      " #   Column            Non-Null Count  Dtype  \n",
      "---  ------            --------------  -----  \n",
      " 0   Name              202 non-null    object \n",
      " 1   Final             202 non-null    bool   \n",
      " 2   Started           202 non-null    object \n",
      " 3   County            202 non-null    object \n",
      " 4   AcresBurned       202 non-null    object \n",
      " 5   PercentContained  202 non-null    int64  \n",
      " 6   Longitude         202 non-null    float64\n",
      " 7   Latitude          202 non-null    float64\n",
      " 8   Type              202 non-null    object \n",
      " 9   IsActive          202 non-null    bool   \n",
      " 10  CalFireIncident   202 non-null    bool   \n",
      " 11  Location          202 non-null    object \n",
      "dtypes: bool(3), float64(2), int64(1), object(6)\n",
      "memory usage: 14.9+ KB\n"
     ]
    }
   ],
   "source": [
    "fire.info()"
   ]
  },
  {
   "cell_type": "code",
   "execution_count": 25,
   "metadata": {},
   "outputs": [],
   "source": [
    "# for some reason it's not letting the column to convert to int type, so I'm going to strip \n",
    "# any possible white spaces and convert back to int\n",
    "fire['AcresBurned'] = fire['AcresBurned'].apply(lambda x: int(str(x).split()[0]))"
   ]
  },
  {
   "cell_type": "code",
   "execution_count": 26,
   "metadata": {},
   "outputs": [
    {
     "name": "stdout",
     "output_type": "stream",
     "text": [
      "<class 'pandas.core.frame.DataFrame'>\n",
      "RangeIndex: 202 entries, 0 to 201\n",
      "Data columns (total 12 columns):\n",
      " #   Column            Non-Null Count  Dtype  \n",
      "---  ------            --------------  -----  \n",
      " 0   Name              202 non-null    object \n",
      " 1   Final             202 non-null    bool   \n",
      " 2   Started           202 non-null    object \n",
      " 3   County            202 non-null    object \n",
      " 4   AcresBurned       202 non-null    int64  \n",
      " 5   PercentContained  202 non-null    int64  \n",
      " 6   Longitude         202 non-null    float64\n",
      " 7   Latitude          202 non-null    float64\n",
      " 8   Type              202 non-null    object \n",
      " 9   IsActive          202 non-null    bool   \n",
      " 10  CalFireIncident   202 non-null    bool   \n",
      " 11  Location          202 non-null    object \n",
      "dtypes: bool(3), float64(2), int64(2), object(5)\n",
      "memory usage: 14.9+ KB\n"
     ]
    }
   ],
   "source": [
    "fire.info()"
   ]
  },
  {
   "cell_type": "code",
   "execution_count": 27,
   "metadata": {},
   "outputs": [
    {
     "data": {
      "text/plain": [
       "0.035565467125975414"
      ]
     },
     "execution_count": 27,
     "metadata": {},
     "output_type": "execute_result"
    }
   ],
   "source": [
    "# This is fraction of california that has burned this year so far.\n",
    "california_total_area = 99813760 # in acres; result from wikipedia (excludes water)\n",
    "burned_area_2020 = sum(fire['AcresBurned'])\n",
    "fraction_of_area_burned_2020 = burned_area_2020 / california_total_area\n",
    "fraction_of_area_burned_2020"
   ]
  },
  {
   "cell_type": "code",
   "execution_count": 28,
   "metadata": {},
   "outputs": [
    {
     "data": {
      "text/plain": [
       "3549923"
      ]
     },
     "execution_count": 28,
     "metadata": {},
     "output_type": "execute_result"
    }
   ],
   "source": [
    "burned_area_2020 # total acres burned"
   ]
  },
  {
   "cell_type": "code",
   "execution_count": 29,
   "metadata": {},
   "outputs": [
    {
     "data": {
      "image/png": "[encoded data removed]",
      "text/plain": [
       "<Figure size 72x216 with 1 Axes>"
      ]
     },
     "metadata": {},
     "output_type": "display_data"
    }
   ],
   "source": [
    "barh1 = california_total_area/california_total_area\n",
    "barh2 = burned_area_2020/california_total_area\n",
    "\n",
    "r = np.arange(barh1)\n",
    "\n",
    "plt.figure(figsize=(1, 3))\n",
    "plt.box(False)\n",
    "plt.bar(r, california_total_area/california_total_area, color='lightgrey')\n",
    "plt.bar(r, burned_area_2020/california_total_area, color='red')\n",
    "plt.title('Burned Area in California in 2020')\n",
    "\n",
    "# plt.text(x=r-0.6, y=barh1+0.01, s=str(california_total_area)+ ' acres')\n",
    "plt.text(x=r+0.5, y=barh2, s='3,549,923 acres')\n",
    "plt.text(x=r-0.1, y=barh2+0.02, s=str(int(fraction_of_area_burned_2020 *100))+'%')\n",
    "\n",
    "plt.yticks([])\n",
    "plt.xticks([])\n",
    "\n",
    "plt.savefig('../figures/area_burned', bbox_inches='tight');"
   ]
  },
  {
   "cell_type": "code",
   "execution_count": 30,
   "metadata": {},
   "outputs": [
    {
     "data": {
      "text/plain": [
       "202"
      ]
     },
     "execution_count": 30,
     "metadata": {},
     "output_type": "execute_result"
    }
   ],
   "source": [
    "# Number of fires this year\n",
    "len(fire)"
   ]
  },
  {
   "cell_type": "code",
   "execution_count": 31,
   "metadata": {},
   "outputs": [
    {
     "data": {
      "text/plain": [
       "19"
      ]
     },
     "execution_count": 31,
     "metadata": {},
     "output_type": "execute_result"
    }
   ],
   "source": [
    "# Number of active fires as of October 17th\n",
    "fire['IsActive'].sum()"
   ]
  },
  {
   "cell_type": "code",
   "execution_count": 32,
   "metadata": {},
   "outputs": [
    {
     "data": {
      "text/plain": [
       "(58, 14)"
      ]
     },
     "execution_count": 32,
     "metadata": {},
     "output_type": "execute_result"
    }
   ],
   "source": [
    "covid.shape"
   ]
  },
  {
   "cell_type": "code",
   "execution_count": 33,
   "metadata": {},
   "outputs": [
    {
     "data": {
      "text/plain": [
       "(59, 3)"
      ]
     },
     "execution_count": 33,
     "metadata": {},
     "output_type": "execute_result"
    }
   ],
   "source": [
    "population.shape"
   ]
  },
  {
   "cell_type": "code",
   "execution_count": 34,
   "metadata": {},
   "outputs": [],
   "source": [
    "# the last row is not a county so drop it\n",
    "population = population[:-1]"
   ]
  },
  {
   "cell_type": "code",
   "execution_count": 35,
   "metadata": {},
   "outputs": [
    {
     "data": {
      "text/plain": [
       "Rank          object\n",
       "County        object\n",
       "Population     int64\n",
       "dtype: object"
      ]
     },
     "execution_count": 35,
     "metadata": {},
     "output_type": "execute_result"
    }
   ],
   "source": [
    "# the last row is not a county so drop it\n",
    "population = population[population['County'].str.contains('County')]\n",
    "# change `Population` data to int\n",
    "population['Population'] = population['Population'].apply(lambda x: int(str(x).split()[0]))\n",
    "population.dtypes"
   ]
  },
  {
   "cell_type": "code",
   "execution_count": 36,
   "metadata": {},
   "outputs": [],
   "source": [
    "# fix county names so they don't contain 'County'\n",
    "population['county'] = population['County'].apply(lambda x: ' '.join(x.split()[:-1]))"
   ]
  },
  {
   "cell_type": "code",
   "execution_count": 37,
   "metadata": {},
   "outputs": [],
   "source": [
    "# drop 'Rank' and 'County' columns from population dataframe\n",
    "population.drop(columns=['Rank', 'County'], inplace=True)"
   ]
  },
  {
   "cell_type": "code",
   "execution_count": 38,
   "metadata": {},
   "outputs": [
    {
     "data": {
      "text/plain": [
       "(200, 6)"
      ]
     },
     "execution_count": 38,
     "metadata": {},
     "output_type": "execute_result"
    }
   ],
   "source": [
    "earthquake.shape"
   ]
  },
  {
   "cell_type": "code",
   "execution_count": 39,
   "metadata": {},
   "outputs": [
    {
     "name": "stdout",
     "output_type": "stream",
     "text": [
      "<class 'pandas.core.frame.DataFrame'>\n",
      "RangeIndex: 200 entries, 0 to 199\n",
      "Data columns (total 6 columns):\n",
      " #   Column          Non-Null Count  Dtype  \n",
      "---  ------          --------------  -----  \n",
      " 0   Event ID        200 non-null    object \n",
      " 1   Name/Epicenter  200 non-null    object \n",
      " 2   Date            200 non-null    object \n",
      " 3   Lat             200 non-null    float64\n",
      " 4   Lon             200 non-null    float64\n",
      " 5   Mag             200 non-null    float64\n",
      "dtypes: float64(3), object(3)\n",
      "memory usage: 9.5+ KB\n"
     ]
    }
   ],
   "source": [
    "earthquake.info()"
   ]
  },
  {
   "cell_type": "code",
   "execution_count": 40,
   "metadata": {},
   "outputs": [
    {
     "data": {
      "text/plain": [
       "200"
      ]
     },
     "execution_count": 40,
     "metadata": {},
     "output_type": "execute_result"
    }
   ],
   "source": [
    "# number of earthquakes\n",
    "len(earthquake)"
   ]
  },
  {
   "cell_type": "code",
   "execution_count": 46,
   "metadata": {},
   "outputs": [
    {
     "data": {
      "image/png": "[encoded data removed]",
      "text/plain": [
       "<Figure size 432x288 with 1 Axes>"
      ]
     },
     "metadata": {
      "needs_background": "light"
     },
     "output_type": "display_data"
    }
   ],
   "source": [
    "sns.distplot(earthquake['Mag'])\n",
    "plt.xlabel('Magnitude')\n",
    "plt.ylabel('Frequency')\n",
    "plt.title('Distribution of Earthquake Magnitudes')\n",
    "plt.savefig('../figures/magnitude_distribution', bbox_inches='tight');"
   ]
  },
  {
   "cell_type": "code",
   "execution_count": 35,
   "metadata": {},
   "outputs": [
    {
     "data": {
      "text/plain": [
       "Wildfire    202\n",
       "Name: Type, dtype: int64"
      ]
     },
     "execution_count": 35,
     "metadata": {},
     "output_type": "execute_result"
    }
   ],
   "source": [
    "fire['Type'].value_counts()"
   ]
  },
  {
   "cell_type": "code",
   "execution_count": 36,
   "metadata": {},
   "outputs": [],
   "source": [
    "# drop `Type` column because they are all wildfires\n",
    "fire.drop(columns = ['Type'], inplace = True)"
   ]
  },
  {
   "cell_type": "markdown",
   "metadata": {},
   "source": [
    "The goal here is to merge dataframes based on county column as a common key. Covid data is clean and ready to go. Some fires extend to multiple counties. We are going to base our analysis on the county level, so we need to preserve the fire information for each county. Here, we are going to separate the county to individual counties while copying the fire data where the fire spans to multiple counties."
   ]
  },
  {
   "cell_type": "code",
   "execution_count": 37,
   "metadata": {},
   "outputs": [],
   "source": [
    "# first change the `County` column from str to a list\n",
    "fire['County'] = fire['County'].apply(lambda x: x.split(', '))"
   ]
  },
  {
   "cell_type": "code",
   "execution_count": 38,
   "metadata": {},
   "outputs": [],
   "source": [
    "# modified from https://stackoverflow.com/questions/24029659/python-pandas-replicate-rows-in-dataframe\n",
    "# making copies of the rows with more than one county listed. The number of copies correspond to the number of counties\n",
    "reps = [len(county) if  len(county) > 1 else 1 for county in fire['County']]\n",
    "fire = fire.loc[np.repeat(fire.index.values, reps)]"
   ]
  },
  {
   "cell_type": "code",
   "execution_count": 39,
   "metadata": {},
   "outputs": [],
   "source": [
    "# reset index \n",
    "fire.reset_index(inplace=True, drop=True)"
   ]
  },
  {
   "cell_type": "code",
   "execution_count": 40,
   "metadata": {},
   "outputs": [],
   "source": [
    "# reassign single counties to the `County` column\n",
    "\n",
    "# index counter and an empty counties list\n",
    "index = 0\n",
    "counties = []\n",
    "\n",
    "# loop to have an index track to not go out of index range\n",
    "for indexer in range(len(fire)):\n",
    "    while index <= indexer:\n",
    "        \n",
    "        # if there is only a single county name, append that county name to the list\n",
    "        if len(fire.iloc[index, 3]) == 1:\n",
    "            counties.append(fire.iloc[index, 3][0])\n",
    "            index += 1\n",
    "            \n",
    "        # if there is more than one single county name, append each county name to the list\n",
    "        else:\n",
    "            for i in range(0, len(fire.iloc[index, 3])):\n",
    "                # append each indiviual county name of the multi-county list\n",
    "                counties.append(fire.iloc[index, 3][i])\n",
    "            # set the index, so that it goes to the next 'unique' item\n",
    "            index += len(fire.iloc[index, 3])\n",
    "\n",
    "# reassign `County` column to this new list\n",
    "fire['County'] = counties"
   ]
  },
  {
   "cell_type": "markdown",
   "metadata": {},
   "source": [
    "The earthquake dataset does not include county names, so we are making a new column with the county names assigned from latitude and longitude using the python `uszipcode` library."
   ]
  },
  {
   "cell_type": "code",
   "execution_count": 41,
   "metadata": {},
   "outputs": [],
   "source": [
    "# make a function to retrive the county name from lat and long \n",
    "def county_name(x):\n",
    "    '''Takes in latitude and longitude (as a literable) and returns the closest county name for the given coordinates'''\n",
    "    lat, long = x\n",
    "    search = SearchEngine()\n",
    "    result = search.by_coordinates(lat, long, radius=100)\n",
    "    # get the county name\n",
    "    try:\n",
    "        county = result[0].county\n",
    "        \n",
    "        # this is in 'XXXX County', so fix the format so that it's only the county name without 'County' at the end\n",
    "        county = county.split()\n",
    "        \n",
    "        # get everything but the last item (which is 'County')\n",
    "        county = county[:-1]\n",
    "        \n",
    "        # return a string\n",
    "        return ' '.join(county)\n",
    "        \n",
    "    except:\n",
    "        print(f'Something went wrong. Check your coordinates: {x}')    \n",
    "  "
   ]
  },
  {
   "cell_type": "code",
   "execution_count": 42,
   "metadata": {},
   "outputs": [],
   "source": [
    "counties = earthquake[['Lat', 'Lon']].apply(county_name, axis=1)"
   ]
  },
  {
   "cell_type": "code",
   "execution_count": 43,
   "metadata": {},
   "outputs": [],
   "source": [
    "# add a county column\n",
    "earthquake['county'] = counties"
   ]
  },
  {
   "cell_type": "code",
   "execution_count": 44,
   "metadata": {},
   "outputs": [],
   "source": [
    "# making dictionaries to change column names before merging\n",
    "\n",
    "covid_cols = {\n",
    "    'FIPS': 'fips',\n",
    "    'Admin2': 'county',\n",
    "    'Province_State': 'province_state',\n",
    "    'Country_Region': 'country',\n",
    "    'Last_Update': 'covid_last_update',\n",
    "    'Lat': 'county_latitude',\n",
    "    'Long_': 'county_longitudue',\n",
    "    'Confirmed': 'covid_confirmed',\n",
    "    'Deaths': 'covid_death',\n",
    "    'Recovered': 'covid_recovered',\n",
    "    'Active': 'covid_active',\n",
    "    'Combined_Key': 'combined_key',\n",
    "    'Incidence_Rate': 'covid_indidence_rate',\n",
    "    'Case-Fatality_Ratio': 'covid_case_fatality_ratio'\n",
    "}\n",
    "\n",
    "population_col = {'Population': 'county_population'}\n",
    "\n",
    "earthquake_cols = {\n",
    "    'Event ID': 'earthquake_id',\n",
    "    'Name/Epicenter': 'eipicenter',\n",
    "    'Date': 'earthquake_date',\n",
    "    'Lat': 'earthquake_latidute',\n",
    "    'Lon': 'earthquake_longitude',\n",
    "    'Mag': 'magnitude'\n",
    "}\n",
    "\n",
    "fire_cols = {\n",
    "    'Name': 'fire_name',\n",
    "    'Final': 'fire_is_final',\n",
    "    'Started': 'fire_started',\n",
    "    'County': 'county',\n",
    "    'AcresBurned': 'acres_burned',\n",
    "    'PercentContained': 'fire_percent_contained',\n",
    "    'Longitude': 'fire_longitude',\n",
    "    'Latitude': 'fire_latitude',\n",
    "    'IsActive': 'fire_is_active',\n",
    "    'CalFireIncident': 'is_calfireincident',\n",
    "    'Location': 'fire_location'\n",
    "}"
   ]
  },
  {
   "cell_type": "code",
   "execution_count": 45,
   "metadata": {},
   "outputs": [],
   "source": [
    "# rename all columns before merging\n",
    "covid.rename(columns=covid_cols, inplace=True)\n",
    "\n",
    "population.rename(columns=population_col, inplace=True)\n",
    "\n",
    "earthquake.rename(columns=earthquake_cols, inplace=True)\n",
    "\n",
    "fire.rename(columns=fire_cols, inplace=True)"
   ]
  },
  {
   "cell_type": "markdown",
   "metadata": {},
   "source": [
    "Merge all three dataframes using `county` as the common key. In order to keep all information, we are using outer merge."
   ]
  },
  {
   "cell_type": "code",
   "execution_count": 46,
   "metadata": {},
   "outputs": [],
   "source": [
    "# first merge the population data to covid data. this will be done as left join\n",
    "covid = pd.merge(covid, population, on='county', how='left')\n",
    "\n",
    "# merge covid and earthquake data\n",
    "covid_earthquake = pd.merge(covid, earthquake, how='outer', on='county')\n",
    "\n",
    "# merge fire data to the above\n",
    "all_3 = pd.merge(covid_earthquake, fire, how='outer', on='county')\n",
    "\n",
    "# write to file\n",
    "all_3.to_csv('../data/covid_fire_earthquake.csv', index=False)"
   ]
  },
  {
   "cell_type": "markdown",
   "metadata": {},
   "source": [
    "#### Summarize the all data on county-level"
   ]
  },
  {
   "cell_type": "code",
   "execution_count": 47,
   "metadata": {},
   "outputs": [],
   "source": [
    "# add per capitat number for covid\n",
    "covid['covid_death_per_capita'] = covid['covid_death'] / covid['county_population']\n",
    "covid['covid_confirmed_per_capita'] = covid['covid_confirmed'] / covid['county_population']\n",
    "covid['covid_active_cases_per_capita'] = covid['covid_active'] / covid['county_population']"
   ]
  },
  {
   "cell_type": "markdown",
   "metadata": {},
   "source": [
    "Here we want some county-level information on fires."
   ]
  },
  {
   "cell_type": "code",
   "execution_count": 48,
   "metadata": {},
   "outputs": [],
   "source": [
    "# find how many fires per county in 2020\n",
    "fires_per_county = fire.groupby('county')['fire_name'].size().to_frame()\n",
    "\n",
    "# add fire per county data to covid\n",
    "covid['fires_per_county_in_2020'] = covid.merge(fires_per_county, on='county', right_index=True)['fire_name']\n",
    "\n",
    "# fill NaNs with 0 since those are the ones that had no fires this year\n",
    "covid.fillna(0, inplace=True)"
   ]
  },
  {
   "cell_type": "code",
   "execution_count": 49,
   "metadata": {},
   "outputs": [],
   "source": [
    "# classify fires based on burned acres\n",
    "def class_fire(acres_burned):\n",
    "    if (acres_burned > 0) and (acres_burned <= 200_000):\n",
    "        return 1\n",
    "    elif acres_burned <= 400_000:\n",
    "        return 2\n",
    "    elif acres_burned <= 600_000:\n",
    "        return 2\n",
    "    elif acres_burned <= 800_000:\n",
    "        return 2\n",
    "    elif acres_burned <= 1_000_000:\n",
    "        return 5\n",
    "    else:\n",
    "        return 6\n",
    "\n",
    "# make a new column for fire classification\n",
    "fire['fire_class'] = fire['acres_burned'].apply(class_fire)"
   ]
  },
  {
   "cell_type": "code",
   "execution_count": 50,
   "metadata": {},
   "outputs": [],
   "source": [
    "# add number of active fires per county to the covid data\n",
    "# find how many fires per county in 2020\n",
    "active_fires = fire[fire['fire_is_active']].groupby('county').size().to_frame()\n",
    "\n",
    "# add fire per county data to covid\n",
    "covid['active_fires_per_county'] = covid.merge(active_fires, on='county', right_index=True)[0]\n",
    "\n",
    "# fill NaNs with 0 since those are the ones that had no fires this year\n",
    "covid.fillna(0, inplace=True)"
   ]
  },
  {
   "cell_type": "code",
   "execution_count": 51,
   "metadata": {},
   "outputs": [],
   "source": [
    "# change`fire_is_active` column to True = 1 and False =0\n",
    "fire['fire_is_active'] = np.where(fire['fire_is_active'] == True, 1, 0)"
   ]
  },
  {
   "cell_type": "markdown",
   "metadata": {},
   "source": [
    "We are going to give a score for fires. In this case, the score is based on the combination of number of fires, whether they are active or not, and the magnitude of the fire as classified above based on acres burned.\n",
    "$$ \\text{fire score} = \\text{number of fires} \\times \\text{active fire} + \\text{number of fires} \\times \\text{fire class} $$\n",
    "\n"
   ]
  },
  {
   "cell_type": "code",
   "execution_count": 52,
   "metadata": {},
   "outputs": [],
   "source": [
    "# getting (number of fires) × (fire class) \n",
    "fire_class_score = fire.groupby('county')['fire_class'].sum().to_frame()\n",
    "# getting (number of fires) × (active fire)\n",
    "fire_active_score = fire.groupby('county')['fire_is_active'].sum().to_frame()\n",
    "# calculate the scores\n",
    "fire_score = fire_class_score.merge(fire_active_score, on='county')\n",
    "fire_score['score'] = fire_score['fire_class'] + fire_score['fire_is_active']\n",
    "\n",
    "# get rid of unnecessary columns before merging\n",
    "fire_score.drop(columns=['fire_class', 'fire_is_active'], inplace=True)\n",
    "\n",
    "# add fire per county data to covid\n",
    "covid['fire_score'] = covid.merge(fire_score, on='county', right_index=True)['score']\n",
    "\n",
    "# fill NaNs with 0 since those are the ones that had no earthquakes this year\n",
    "covid.fillna(0, inplace=True)"
   ]
  },
  {
   "cell_type": "markdown",
   "metadata": {},
   "source": [
    "We also want county-level data on earthquakes"
   ]
  },
  {
   "cell_type": "code",
   "execution_count": 53,
   "metadata": {},
   "outputs": [],
   "source": [
    "# find how many earthquakes per county in 2020\n",
    "earthquakes_per_county = earthquake.groupby('county')['earthquake_id'].size().to_frame()\n",
    "\n",
    "# add fire per county data to covid\n",
    "covid['earthquakes_per_county_in_2020'] = covid.merge(earthquakes_per_county, on='county', right_index=True)['earthquake_id']\n",
    "\n",
    "# fill NaNs with 0 since those are the ones that had no earthquakes this year\n",
    "covid.fillna(0, inplace=True)"
   ]
  },
  {
   "cell_type": "markdown",
   "metadata": {},
   "source": [
    "We are going to classify earthquakes based on on their magnitude. "
   ]
  },
  {
   "cell_type": "code",
   "execution_count": 54,
   "metadata": {},
   "outputs": [],
   "source": [
    "def class_earthquake(magnitude):\n",
    "    if magnitude >= 6:\n",
    "        return 3 # Strong category\n",
    "    \n",
    "    elif magnitude >= 5:\n",
    "        return 2 # Moderate category\n",
    "    \n",
    "    else:\n",
    "        return 1 # Light category"
   ]
  },
  {
   "cell_type": "code",
   "execution_count": 55,
   "metadata": {},
   "outputs": [],
   "source": [
    "# make a column with earthquake classifications\n",
    "earthquake['earthquake_class'] = earthquake['magnitude'].apply(class_earthquake)"
   ]
  },
  {
   "cell_type": "markdown",
   "metadata": {},
   "source": [
    "We want to give some metric of comparison for each county. For this, we are using the classification based on the magnitude and the number of earthquakes. For example, a county that has 2 earthquake in the category of 1 (lighht) would get a score of 2 (1 * 2) or a county with 3 earthquake in the category of 1 and 1 in the category of 2 (moderate) would get a score of 5 (3 * 1 + 1 * 2)."
   ]
  },
  {
   "cell_type": "code",
   "execution_count": 56,
   "metadata": {},
   "outputs": [],
   "source": [
    "earthquake_score = earthquake.groupby('county')['earthquake_class'].sum().to_frame()\n",
    "\n",
    "# add fire per county data to covid\n",
    "covid['earthquakes_score'] = covid.merge(earthquake_score, on='county', right_index=True)['earthquake_class']\n",
    "\n",
    "# fill NaNs with 0 since those are the ones that had no earthquakes this year\n",
    "covid.fillna(0, inplace=True)"
   ]
  },
  {
   "cell_type": "code",
   "execution_count": null,
   "metadata": {},
   "outputs": [],
   "source": [
    "covid.drop(columns=['country', 'combined_key'], inplace = True)"
   ]
  },
  {
   "cell_type": "code",
   "execution_count": null,
   "metadata": {},
   "outputs": [],
   "source": [
    "pd.set_option('display.max_columns', 500)\n",
    "covid.head(2)"
   ]
  },
  {
   "cell_type": "code",
   "execution_count": null,
   "metadata": {},
   "outputs": [],
   "source": [
    "# change dtypes to appropriate ones\n",
    "covid = covid.astype({'fires_per_county_in_2020': 'int64',\n",
    "                      'active_fires_per_county': 'int64',\n",
    "                      'fire_score': 'int64',\n",
    "                      'earthquakes_per_county_in_2020': 'int64',\n",
    "                      'earthquakes_score': 'int64'})"
   ]
  },
  {
   "cell_type": "code",
   "execution_count": null,
   "metadata": {},
   "outputs": [],
   "source": [
    "covid.info()"
   ]
  },
  {
   "cell_type": "code",
   "execution_count": null,
   "metadata": {},
   "outputs": [],
   "source": [
    "# write to file\n",
    "#covid.to_csv('../data/covid_fire_earthquake_summary.csv', index=False)"
   ]
  },
  {
   "cell_type": "code",
   "execution_count": null,
   "metadata": {},
   "outputs": [],
   "source": []
  }
 ],
 "metadata": {
  "kernelspec": {
   "display_name": "Python 3",
   "language": "python",
   "name": "python3"
  },
  "language_info": {
   "codemirror_mode": {
    "name": "ipython",
    "version": 3
   },
   "file_extension": ".py",
   "mimetype": "text/x-python",
   "name": "python",
   "nbconvert_exporter": "python",
   "pygments_lexer": "ipython3",
   "version": "3.7.7"
  }
 },
 "nbformat": 4,
 "nbformat_minor": 4
}
