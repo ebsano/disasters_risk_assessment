{
 "cells": [
  {
   "cell_type": "code",
   "execution_count": 1,
   "metadata": {},
   "outputs": [],
   "source": [
    "%matplotlib inline\n",
    "import pandas as pd\n",
    "import numpy as np\n",
    "import matplotlib.pyplot as plt"
   ]
  },
  {
   "cell_type": "code",
   "execution_count": 5,
   "metadata": {},
   "outputs": [],
   "source": [
    "from sklearn.cluster import KMeans, DBSCAN\n",
    "from sklearn.metrics import silhouette_score, pairwise_distances\n",
    "from sklearn.preprocessing import StandardScaler, MinMaxScaler, normalize\n",
    "import seaborn as sns"
   ]
  },
  {
   "cell_type": "code",
   "execution_count": null,
   "metadata": {},
   "outputs": [],
   "source": [
    "# from sklearn import cluster\n",
    "# from sklearn import metrics\n",
    "# from sklearn.metrics import \n",
    "# matplotlib.style.use('ggplot') "
   ]
  },
  {
   "cell_type": "code",
   "execution_count": 6,
   "metadata": {},
   "outputs": [
    {
     "data": {
      "text/html": [
       "<div>\n",
       "<style scoped>\n",
       "    .dataframe tbody tr th:only-of-type {\n",
       "        vertical-align: middle;\n",
       "    }\n",
       "\n",
       "    .dataframe tbody tr th {\n",
       "        vertical-align: top;\n",
       "    }\n",
       "\n",
       "    .dataframe thead th {\n",
       "        text-align: right;\n",
       "    }\n",
       "</style>\n",
       "<table border=\"1\" class=\"dataframe\">\n",
       "  <thead>\n",
       "    <tr style=\"text-align: right;\">\n",
       "      <th></th>\n",
       "      <th>fips</th>\n",
       "      <th>county</th>\n",
       "      <th>province_state</th>\n",
       "      <th>covid_last_update</th>\n",
       "      <th>county_latitude</th>\n",
       "      <th>county_longitudue</th>\n",
       "      <th>covid_confirmed</th>\n",
       "      <th>covid_death</th>\n",
       "      <th>covid_recoverd</th>\n",
       "      <th>covid_active</th>\n",
       "      <th>...</th>\n",
       "      <th>covid_case_fatality_ratio</th>\n",
       "      <th>county_population</th>\n",
       "      <th>covid_death_per_capita</th>\n",
       "      <th>covid_confirmed_per_capita</th>\n",
       "      <th>covid_active_cases_per_capita</th>\n",
       "      <th>fires_per_county_in_2020</th>\n",
       "      <th>active_fires_per_county</th>\n",
       "      <th>fire_score</th>\n",
       "      <th>earthquakes_per_county_in_2020</th>\n",
       "      <th>earthquakes_score</th>\n",
       "    </tr>\n",
       "  </thead>\n",
       "  <tbody>\n",
       "    <tr>\n",
       "      <th>0</th>\n",
       "      <td>6001.0</td>\n",
       "      <td>Alameda</td>\n",
       "      <td>California</td>\n",
       "      <td>2020-10-17 04:24:12</td>\n",
       "      <td>37.646294</td>\n",
       "      <td>-121.892927</td>\n",
       "      <td>22408</td>\n",
       "      <td>439</td>\n",
       "      <td>0</td>\n",
       "      <td>21969.0</td>\n",
       "      <td>...</td>\n",
       "      <td>1.959122</td>\n",
       "      <td>1671329</td>\n",
       "      <td>0.000263</td>\n",
       "      <td>0.013407</td>\n",
       "      <td>0.013145</td>\n",
       "      <td>3</td>\n",
       "      <td>0</td>\n",
       "      <td>4</td>\n",
       "      <td>0</td>\n",
       "      <td>0</td>\n",
       "    </tr>\n",
       "    <tr>\n",
       "      <th>1</th>\n",
       "      <td>6003.0</td>\n",
       "      <td>Alpine</td>\n",
       "      <td>California</td>\n",
       "      <td>2020-10-17 04:24:12</td>\n",
       "      <td>38.596786</td>\n",
       "      <td>-119.822359</td>\n",
       "      <td>3</td>\n",
       "      <td>0</td>\n",
       "      <td>0</td>\n",
       "      <td>3.0</td>\n",
       "      <td>...</td>\n",
       "      <td>0.000000</td>\n",
       "      <td>1129</td>\n",
       "      <td>0.000000</td>\n",
       "      <td>0.002657</td>\n",
       "      <td>0.002657</td>\n",
       "      <td>0</td>\n",
       "      <td>0</td>\n",
       "      <td>0</td>\n",
       "      <td>0</td>\n",
       "      <td>0</td>\n",
       "    </tr>\n",
       "    <tr>\n",
       "      <th>2</th>\n",
       "      <td>6005.0</td>\n",
       "      <td>Amador</td>\n",
       "      <td>California</td>\n",
       "      <td>2020-10-17 04:24:12</td>\n",
       "      <td>38.445831</td>\n",
       "      <td>-120.656960</td>\n",
       "      <td>309</td>\n",
       "      <td>16</td>\n",
       "      <td>0</td>\n",
       "      <td>293.0</td>\n",
       "      <td>...</td>\n",
       "      <td>5.177994</td>\n",
       "      <td>39752</td>\n",
       "      <td>0.000402</td>\n",
       "      <td>0.007773</td>\n",
       "      <td>0.007371</td>\n",
       "      <td>2</td>\n",
       "      <td>0</td>\n",
       "      <td>2</td>\n",
       "      <td>0</td>\n",
       "      <td>0</td>\n",
       "    </tr>\n",
       "    <tr>\n",
       "      <th>3</th>\n",
       "      <td>6007.0</td>\n",
       "      <td>Butte</td>\n",
       "      <td>California</td>\n",
       "      <td>2020-10-17 04:24:12</td>\n",
       "      <td>39.667278</td>\n",
       "      <td>-121.600525</td>\n",
       "      <td>3000</td>\n",
       "      <td>50</td>\n",
       "      <td>0</td>\n",
       "      <td>2950.0</td>\n",
       "      <td>...</td>\n",
       "      <td>1.666667</td>\n",
       "      <td>219186</td>\n",
       "      <td>0.000228</td>\n",
       "      <td>0.013687</td>\n",
       "      <td>0.013459</td>\n",
       "      <td>9</td>\n",
       "      <td>1</td>\n",
       "      <td>11</td>\n",
       "      <td>0</td>\n",
       "      <td>0</td>\n",
       "    </tr>\n",
       "    <tr>\n",
       "      <th>4</th>\n",
       "      <td>6009.0</td>\n",
       "      <td>Calaveras</td>\n",
       "      <td>California</td>\n",
       "      <td>2020-10-17 04:24:12</td>\n",
       "      <td>38.205371</td>\n",
       "      <td>-120.552913</td>\n",
       "      <td>331</td>\n",
       "      <td>16</td>\n",
       "      <td>0</td>\n",
       "      <td>315.0</td>\n",
       "      <td>...</td>\n",
       "      <td>4.833837</td>\n",
       "      <td>45905</td>\n",
       "      <td>0.000349</td>\n",
       "      <td>0.007211</td>\n",
       "      <td>0.006862</td>\n",
       "      <td>3</td>\n",
       "      <td>0</td>\n",
       "      <td>3</td>\n",
       "      <td>0</td>\n",
       "      <td>0</td>\n",
       "    </tr>\n",
       "  </tbody>\n",
       "</table>\n",
       "<p>5 rows × 21 columns</p>\n",
       "</div>"
      ],
      "text/plain": [
       "     fips     county province_state    covid_last_update  county_latitude  \\\n",
       "0  6001.0    Alameda     California  2020-10-17 04:24:12        37.646294   \n",
       "1  6003.0     Alpine     California  2020-10-17 04:24:12        38.596786   \n",
       "2  6005.0     Amador     California  2020-10-17 04:24:12        38.445831   \n",
       "3  6007.0      Butte     California  2020-10-17 04:24:12        39.667278   \n",
       "4  6009.0  Calaveras     California  2020-10-17 04:24:12        38.205371   \n",
       "\n",
       "   county_longitudue  covid_confirmed  covid_death  covid_recoverd  \\\n",
       "0        -121.892927            22408          439               0   \n",
       "1        -119.822359                3            0               0   \n",
       "2        -120.656960              309           16               0   \n",
       "3        -121.600525             3000           50               0   \n",
       "4        -120.552913              331           16               0   \n",
       "\n",
       "   covid_active  ...  covid_case_fatality_ratio  county_population  \\\n",
       "0       21969.0  ...                   1.959122            1671329   \n",
       "1           3.0  ...                   0.000000               1129   \n",
       "2         293.0  ...                   5.177994              39752   \n",
       "3        2950.0  ...                   1.666667             219186   \n",
       "4         315.0  ...                   4.833837              45905   \n",
       "\n",
       "   covid_death_per_capita  covid_confirmed_per_capita  \\\n",
       "0                0.000263                    0.013407   \n",
       "1                0.000000                    0.002657   \n",
       "2                0.000402                    0.007773   \n",
       "3                0.000228                    0.013687   \n",
       "4                0.000349                    0.007211   \n",
       "\n",
       "   covid_active_cases_per_capita  fires_per_county_in_2020  \\\n",
       "0                       0.013145                         3   \n",
       "1                       0.002657                         0   \n",
       "2                       0.007371                         2   \n",
       "3                       0.013459                         9   \n",
       "4                       0.006862                         3   \n",
       "\n",
       "   active_fires_per_county  fire_score  earthquakes_per_county_in_2020  \\\n",
       "0                        0           4                               0   \n",
       "1                        0           0                               0   \n",
       "2                        0           2                               0   \n",
       "3                        1          11                               0   \n",
       "4                        0           3                               0   \n",
       "\n",
       "   earthquakes_score  \n",
       "0                  0  \n",
       "1                  0  \n",
       "2                  0  \n",
       "3                  0  \n",
       "4                  0  \n",
       "\n",
       "[5 rows x 21 columns]"
      ]
     },
     "execution_count": 6,
     "metadata": {},
     "output_type": "execute_result"
    }
   ],
   "source": [
    "cfe = pd.read_csv('../data/covid_fire_earthquake_summary.csv')\n",
    "cfe.head()"
   ]
  },
  {
   "cell_type": "code",
   "execution_count": 7,
   "metadata": {},
   "outputs": [
    {
     "name": "stdout",
     "output_type": "stream",
     "text": [
      "<class 'pandas.core.frame.DataFrame'>\n",
      "RangeIndex: 58 entries, 0 to 57\n",
      "Data columns (total 21 columns):\n",
      " #   Column                          Non-Null Count  Dtype  \n",
      "---  ------                          --------------  -----  \n",
      " 0   fips                            58 non-null     float64\n",
      " 1   county                          58 non-null     object \n",
      " 2   province_state                  58 non-null     object \n",
      " 3   covid_last_update               58 non-null     object \n",
      " 4   county_latitude                 58 non-null     float64\n",
      " 5   county_longitudue               58 non-null     float64\n",
      " 6   covid_confirmed                 58 non-null     int64  \n",
      " 7   covid_death                     58 non-null     int64  \n",
      " 8   covid_recoverd                  58 non-null     int64  \n",
      " 9   covid_active                    58 non-null     float64\n",
      " 10  covid_indidence_rate            58 non-null     float64\n",
      " 11  covid_case_fatality_ratio       58 non-null     float64\n",
      " 12  county_population               58 non-null     int64  \n",
      " 13  covid_death_per_capita          58 non-null     float64\n",
      " 14  covid_confirmed_per_capita      58 non-null     float64\n",
      " 15  covid_active_cases_per_capita   58 non-null     float64\n",
      " 16  fires_per_county_in_2020        58 non-null     int64  \n",
      " 17  active_fires_per_county         58 non-null     int64  \n",
      " 18  fire_score                      58 non-null     int64  \n",
      " 19  earthquakes_per_county_in_2020  58 non-null     int64  \n",
      " 20  earthquakes_score               58 non-null     int64  \n",
      "dtypes: float64(9), int64(9), object(3)\n",
      "memory usage: 9.6+ KB\n"
     ]
    }
   ],
   "source": [
    "cfe.info()"
   ]
  },
  {
   "cell_type": "code",
   "execution_count": 8,
   "metadata": {},
   "outputs": [
    {
     "data": {
      "text/plain": [
       "Index(['fips', 'county', 'province_state', 'covid_last_update',\n",
       "       'county_latitude', 'county_longitudue', 'covid_confirmed',\n",
       "       'covid_death', 'covid_recoverd', 'covid_active', 'covid_indidence_rate',\n",
       "       'covid_case_fatality_ratio', 'county_population',\n",
       "       'covid_death_per_capita', 'covid_confirmed_per_capita',\n",
       "       'covid_active_cases_per_capita', 'fires_per_county_in_2020',\n",
       "       'active_fires_per_county', 'fire_score',\n",
       "       'earthquakes_per_county_in_2020', 'earthquakes_score'],\n",
       "      dtype='object')"
      ]
     },
     "execution_count": 8,
     "metadata": {},
     "output_type": "execute_result"
    }
   ],
   "source": [
    "cfe.columns"
   ]
  },
  {
   "cell_type": "markdown",
   "metadata": {},
   "source": [
    "## \\#Keeping only numeric columns"
   ]
  },
  {
   "cell_type": "code",
   "execution_count": 9,
   "metadata": {},
   "outputs": [],
   "source": [
    "X = cfe.drop(columns = ['fips', 'county', 'province_state', 'covid_last_update'])"
   ]
  },
  {
   "cell_type": "markdown",
   "metadata": {},
   "source": [
    "## \\#Scaling"
   ]
  },
  {
   "cell_type": "code",
   "execution_count": 10,
   "metadata": {},
   "outputs": [],
   "source": [
    "ss = StandardScaler()\n",
    "X_sc = ss.fit_transform(X)"
   ]
  },
  {
   "cell_type": "markdown",
   "metadata": {},
   "source": [
    "## \\#KMeans"
   ]
  },
  {
   "cell_type": "code",
   "execution_count": 13,
   "metadata": {},
   "outputs": [],
   "source": [
    "def optimize_kmeans(krange, scaled_X):\n",
    "    \n",
    "    max_score= -1\n",
    "    \n",
    "    for i in range(2,krange):\n",
    "        kmeans = KMeans(n_clusters=i)\n",
    "        kmeans.fit(scaled_X)\n",
    "        score = silhouette_score(scaled_X, kmeans.labels_)\n",
    "        if score > max_score:\n",
    "            max_score = score\n",
    "            k = i    \n",
    "    print(f'StandardScaler silhouette score: {max_score} for optimal k of {k}')"
   ]
  },
  {
   "cell_type": "code",
   "execution_count": 14,
   "metadata": {},
   "outputs": [
    {
     "name": "stdout",
     "output_type": "stream",
     "text": [
      "StandardScaler silhouette score: 0.42945415594366265 for optimal k of 2\n"
     ]
    }
   ],
   "source": [
    "optimize_kmeans(10, X_sc)"
   ]
  },
  {
   "cell_type": "code",
   "execution_count": 15,
   "metadata": {},
   "outputs": [],
   "source": [
    "def kmeans_range(krange, scaled_X):\n",
    "    \n",
    "    for i in range(2,krange):\n",
    "        kmeans = KMeans(n_clusters=i)\n",
    "        kmeans.fit(scaled_X)\n",
    "        score = silhouette_score(scaled_X, kmeans.labels_)\n",
    "        k=i\n",
    "        print(f'StandardScaler silhouette score: {score} for optimal k of {k}')"
   ]
  },
  {
   "cell_type": "code",
   "execution_count": 17,
   "metadata": {},
   "outputs": [
    {
     "name": "stdout",
     "output_type": "stream",
     "text": [
      "StandardScaler silhouette score: 0.42945415594366265 for optimal k of 2\n",
      "StandardScaler silhouette score: 0.34145168294328876 for optimal k of 3\n",
      "StandardScaler silhouette score: 0.2916211486466191 for optimal k of 4\n",
      "StandardScaler silhouette score: 0.27796020085640616 for optimal k of 5\n",
      "StandardScaler silhouette score: 0.17114562258838356 for optimal k of 6\n",
      "StandardScaler silhouette score: 0.19488073716278653 for optimal k of 7\n",
      "StandardScaler silhouette score: 0.21173223514611286 for optimal k of 8\n",
      "StandardScaler silhouette score: 0.19127984137207238 for optimal k of 9\n"
     ]
    }
   ],
   "source": [
    "kmeans_range(10, X_sc)"
   ]
  },
  {
   "cell_type": "markdown",
   "metadata": {},
   "source": [
    "## \\#DBSCAN"
   ]
  },
  {
   "cell_type": "code",
   "execution_count": 21,
   "metadata": {},
   "outputs": [],
   "source": [
    "def DBSCAN_optimize(X_scaled, min_sample_range): \n",
    "   \n",
    "    max_score=-1     \n",
    "\n",
    "    for eps in np.linspace(.2, 5, 50):\n",
    "        for minsamples in range(2, min_sample_range):\n",
    "            \n",
    "            dbscan = DBSCAN(eps=eps, min_samples=minsamples)\n",
    "            dbscan.fit(X_scaled)\n",
    "            \n",
    "            if len(set(dbscan.labels_)) > 1:\n",
    "               \n",
    "                score = silhouette_score(X_scaled, dbscan.labels_)\n",
    "                nclusters = len(set(dbscan.labels_))\n",
    "                \n",
    "                if score > max_score:\n",
    "                    max_score = score\n",
    "                    best_eps = eps\n",
    "                    best_minsamples = minsamples\n",
    "                    best_clusters = nclusters\n",
    "    \n",
    "    print(f'Opitimal silhoute score: {round(max_score, 2)} with eps of: {round(best_eps, 2)}')\n",
    "    print(f'min_samples of: {best_minsamples} and {best_clusters} clusters.')\n",
    "    return "
   ]
  },
  {
   "cell_type": "code",
   "execution_count": 22,
   "metadata": {},
   "outputs": [
    {
     "name": "stdout",
     "output_type": "stream",
     "text": [
      "Opitimal silhoute score: 0.61 with eps of: 4.71\n",
      "min_samples of: 2 and 2 clusters.\n"
     ]
    }
   ],
   "source": [
    "DBSCAN_optimize(X_sc, 10)"
   ]
  },
  {
   "cell_type": "code",
   "execution_count": null,
   "metadata": {},
   "outputs": [],
   "source": []
  }
 ],
 "metadata": {
  "kernelspec": {
   "display_name": "Python 3",
   "language": "python",
   "name": "python3"
  },
  "language_info": {
   "codemirror_mode": {
    "name": "ipython",
    "version": 3
   },
   "file_extension": ".py",
   "mimetype": "text/x-python",
   "name": "python",
   "nbconvert_exporter": "python",
   "pygments_lexer": "ipython3",
   "version": "3.8.3"
  }
 },
 "nbformat": 4,
 "nbformat_minor": 4
}
