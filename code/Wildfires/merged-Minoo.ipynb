{
 "cells": [
  {
   "cell_type": "code",
   "execution_count": 1,
   "metadata": {},
   "outputs": [],
   "source": [
    "import pandas as pd\n",
    "import numpy as np\n",
    "import matplotlib.pyplot as plt\n",
    "from uszipcode import Zipcode, SearchEngine"
   ]
  },
  {
   "cell_type": "code",
   "execution_count": 2,
   "metadata": {},
   "outputs": [
    {
     "name": "stdout",
     "output_type": "stream",
     "text": [
      "Requirement already satisfied: uszipcode in /Users/minootaghavi/opt/anaconda3/lib/python3.8/site-packages (0.2.4)\n",
      "Requirement already satisfied: sqlalchemy in /Users/minootaghavi/opt/anaconda3/lib/python3.8/site-packages (from uszipcode) (1.3.18)\n",
      "Requirement already satisfied: requests in /Users/minootaghavi/opt/anaconda3/lib/python3.8/site-packages (from uszipcode) (2.24.0)\n",
      "Requirement already satisfied: pathlib-mate in /Users/minootaghavi/opt/anaconda3/lib/python3.8/site-packages (from uszipcode) (1.0.0)\n",
      "Requirement already satisfied: attrs in /Users/minootaghavi/opt/anaconda3/lib/python3.8/site-packages (from uszipcode) (19.3.0)\n",
      "Requirement already satisfied: certifi>=2017.4.17 in /Users/minootaghavi/opt/anaconda3/lib/python3.8/site-packages (from requests->uszipcode) (2020.6.20)\n",
      "Requirement already satisfied: urllib3!=1.25.0,!=1.25.1,<1.26,>=1.21.1 in /Users/minootaghavi/opt/anaconda3/lib/python3.8/site-packages (from requests->uszipcode) (1.25.9)\n",
      "Requirement already satisfied: idna<3,>=2.5 in /Users/minootaghavi/opt/anaconda3/lib/python3.8/site-packages (from requests->uszipcode) (2.10)\n",
      "Requirement already satisfied: chardet<4,>=3.0.2 in /Users/minootaghavi/opt/anaconda3/lib/python3.8/site-packages (from requests->uszipcode) (3.0.4)\n",
      "Requirement already satisfied: autopep8 in /Users/minootaghavi/opt/anaconda3/lib/python3.8/site-packages (from pathlib-mate->uszipcode) (1.5.3)\n",
      "Requirement already satisfied: six in /Users/minootaghavi/opt/anaconda3/lib/python3.8/site-packages (from pathlib-mate->uszipcode) (1.15.0)\n",
      "Requirement already satisfied: pycodestyle>=2.6.0 in /Users/minootaghavi/opt/anaconda3/lib/python3.8/site-packages (from autopep8->pathlib-mate->uszipcode) (2.6.0)\n",
      "Requirement already satisfied: toml in /Users/minootaghavi/opt/anaconda3/lib/python3.8/site-packages (from autopep8->pathlib-mate->uszipcode) (0.10.1)\n",
      "Note: you may need to restart the kernel to use updated packages.\n"
     ]
    }
   ],
   "source": [
    "pip install uszipcode"
   ]
  },
  {
   "cell_type": "code",
   "execution_count": 3,
   "metadata": {},
   "outputs": [],
   "source": [
    "covid = pd.read_csv('../data/california_covid.csv')\n",
    "earthquake = pd.read_csv('../data/earthquakes_CA.csv')\n",
    "fire = pd.read_csv('../data/fire_data.csv')"
   ]
  },
  {
   "cell_type": "code",
   "execution_count": 4,
   "metadata": {},
   "outputs": [
    {
     "data": {
      "text/html": [
       "<div>\n",
       "<style scoped>\n",
       "    .dataframe tbody tr th:only-of-type {\n",
       "        vertical-align: middle;\n",
       "    }\n",
       "\n",
       "    .dataframe tbody tr th {\n",
       "        vertical-align: top;\n",
       "    }\n",
       "\n",
       "    .dataframe thead th {\n",
       "        text-align: right;\n",
       "    }\n",
       "</style>\n",
       "<table border=\"1\" class=\"dataframe\">\n",
       "  <thead>\n",
       "    <tr style=\"text-align: right;\">\n",
       "      <th></th>\n",
       "      <th>FIPS</th>\n",
       "      <th>Admin2</th>\n",
       "      <th>Province_State</th>\n",
       "      <th>Country_Region</th>\n",
       "      <th>Last_Update</th>\n",
       "      <th>Lat</th>\n",
       "      <th>Long_</th>\n",
       "      <th>Confirmed</th>\n",
       "      <th>Deaths</th>\n",
       "      <th>Recovered</th>\n",
       "      <th>Active</th>\n",
       "      <th>Combined_Key</th>\n",
       "      <th>Incidence_Rate</th>\n",
       "      <th>Case-Fatality_Ratio</th>\n",
       "    </tr>\n",
       "  </thead>\n",
       "  <tbody>\n",
       "    <tr>\n",
       "      <th>0</th>\n",
       "      <td>6001.0</td>\n",
       "      <td>Alameda</td>\n",
       "      <td>California</td>\n",
       "      <td>US</td>\n",
       "      <td>2020-10-17 04:24:12</td>\n",
       "      <td>37.646294</td>\n",
       "      <td>-121.892927</td>\n",
       "      <td>22408</td>\n",
       "      <td>439</td>\n",
       "      <td>0</td>\n",
       "      <td>21969.0</td>\n",
       "      <td>Alameda, California, US</td>\n",
       "      <td>1340.729443</td>\n",
       "      <td>1.959122</td>\n",
       "    </tr>\n",
       "    <tr>\n",
       "      <th>1</th>\n",
       "      <td>6003.0</td>\n",
       "      <td>Alpine</td>\n",
       "      <td>California</td>\n",
       "      <td>US</td>\n",
       "      <td>2020-10-17 04:24:12</td>\n",
       "      <td>38.596786</td>\n",
       "      <td>-119.822359</td>\n",
       "      <td>3</td>\n",
       "      <td>0</td>\n",
       "      <td>0</td>\n",
       "      <td>3.0</td>\n",
       "      <td>Alpine, California, US</td>\n",
       "      <td>265.721878</td>\n",
       "      <td>0.000000</td>\n",
       "    </tr>\n",
       "  </tbody>\n",
       "</table>\n",
       "</div>"
      ],
      "text/plain": [
       "     FIPS   Admin2 Province_State Country_Region          Last_Update  \\\n",
       "0  6001.0  Alameda     California             US  2020-10-17 04:24:12   \n",
       "1  6003.0   Alpine     California             US  2020-10-17 04:24:12   \n",
       "\n",
       "         Lat       Long_  Confirmed  Deaths  Recovered   Active  \\\n",
       "0  37.646294 -121.892927      22408     439          0  21969.0   \n",
       "1  38.596786 -119.822359          3       0          0      3.0   \n",
       "\n",
       "              Combined_Key  Incidence_Rate  Case-Fatality_Ratio  \n",
       "0  Alameda, California, US     1340.729443             1.959122  \n",
       "1   Alpine, California, US      265.721878             0.000000  "
      ]
     },
     "execution_count": 4,
     "metadata": {},
     "output_type": "execute_result"
    }
   ],
   "source": [
    "covid.head(2)"
   ]
  },
  {
   "cell_type": "code",
   "execution_count": 5,
   "metadata": {},
   "outputs": [],
   "source": [
    "# bringing in county population data as a column to the covid dataframe\n",
    "population = pd.read_html('https://www.california-demographics.com/counties_by_population')[0]"
   ]
  },
  {
   "cell_type": "code",
   "execution_count": 6,
   "metadata": {},
   "outputs": [
    {
     "data": {
      "text/html": [
       "<div>\n",
       "<style scoped>\n",
       "    .dataframe tbody tr th:only-of-type {\n",
       "        vertical-align: middle;\n",
       "    }\n",
       "\n",
       "    .dataframe tbody tr th {\n",
       "        vertical-align: top;\n",
       "    }\n",
       "\n",
       "    .dataframe thead th {\n",
       "        text-align: right;\n",
       "    }\n",
       "</style>\n",
       "<table border=\"1\" class=\"dataframe\">\n",
       "  <thead>\n",
       "    <tr style=\"text-align: right;\">\n",
       "      <th></th>\n",
       "      <th>Rank</th>\n",
       "      <th>County</th>\n",
       "      <th>Population</th>\n",
       "    </tr>\n",
       "  </thead>\n",
       "  <tbody>\n",
       "    <tr>\n",
       "      <th>0</th>\n",
       "      <td>1</td>\n",
       "      <td>Los Angeles County</td>\n",
       "      <td>10039107</td>\n",
       "    </tr>\n",
       "    <tr>\n",
       "      <th>1</th>\n",
       "      <td>2</td>\n",
       "      <td>San Diego County</td>\n",
       "      <td>3338330</td>\n",
       "    </tr>\n",
       "  </tbody>\n",
       "</table>\n",
       "</div>"
      ],
      "text/plain": [
       "  Rank              County Population\n",
       "0    1  Los Angeles County   10039107\n",
       "1    2    San Diego County    3338330"
      ]
     },
     "execution_count": 6,
     "metadata": {},
     "output_type": "execute_result"
    }
   ],
   "source": [
    "population.head(2)"
   ]
  },
  {
   "cell_type": "code",
   "execution_count": 7,
   "metadata": {},
   "outputs": [
    {
     "data": {
      "text/html": [
       "<div>\n",
       "<style scoped>\n",
       "    .dataframe tbody tr th:only-of-type {\n",
       "        vertical-align: middle;\n",
       "    }\n",
       "\n",
       "    .dataframe tbody tr th {\n",
       "        vertical-align: top;\n",
       "    }\n",
       "\n",
       "    .dataframe thead th {\n",
       "        text-align: right;\n",
       "    }\n",
       "</style>\n",
       "<table border=\"1\" class=\"dataframe\">\n",
       "  <thead>\n",
       "    <tr style=\"text-align: right;\">\n",
       "      <th></th>\n",
       "      <th>Event ID</th>\n",
       "      <th>Name/Epicenter</th>\n",
       "      <th>Date</th>\n",
       "      <th>Lat</th>\n",
       "      <th>Lon</th>\n",
       "      <th>Mag</th>\n",
       "    </tr>\n",
       "  </thead>\n",
       "  <tbody>\n",
       "    <tr>\n",
       "      <th>0</th>\n",
       "      <td>73472891</td>\n",
       "      <td>10 km (6.25 mi) ESE of Willits, CA</td>\n",
       "      <td>2020-10-19</td>\n",
       "      <td>39.36</td>\n",
       "      <td>-123.25</td>\n",
       "      <td>3.4</td>\n",
       "    </tr>\n",
       "    <tr>\n",
       "      <th>1</th>\n",
       "      <td>73472896</td>\n",
       "      <td>11 km (6.875 mi) ESE of Willits, CA</td>\n",
       "      <td>2020-10-19</td>\n",
       "      <td>39.37</td>\n",
       "      <td>-123.24</td>\n",
       "      <td>3.8</td>\n",
       "    </tr>\n",
       "  </tbody>\n",
       "</table>\n",
       "</div>"
      ],
      "text/plain": [
       "   Event ID                       Name/Epicenter        Date    Lat     Lon  \\\n",
       "0  73472891   10 km (6.25 mi) ESE of Willits, CA  2020-10-19  39.36 -123.25   \n",
       "1  73472896  11 km (6.875 mi) ESE of Willits, CA  2020-10-19  39.37 -123.24   \n",
       "\n",
       "   Mag  \n",
       "0  3.4  \n",
       "1  3.8  "
      ]
     },
     "execution_count": 7,
     "metadata": {},
     "output_type": "execute_result"
    }
   ],
   "source": [
    "earthquake.head(2)"
   ]
  },
  {
   "cell_type": "code",
   "execution_count": 8,
   "metadata": {},
   "outputs": [
    {
     "data": {
      "text/html": [
       "<div>\n",
       "<style scoped>\n",
       "    .dataframe tbody tr th:only-of-type {\n",
       "        vertical-align: middle;\n",
       "    }\n",
       "\n",
       "    .dataframe tbody tr th {\n",
       "        vertical-align: top;\n",
       "    }\n",
       "\n",
       "    .dataframe thead th {\n",
       "        text-align: right;\n",
       "    }\n",
       "</style>\n",
       "<table border=\"1\" class=\"dataframe\">\n",
       "  <thead>\n",
       "    <tr style=\"text-align: right;\">\n",
       "      <th></th>\n",
       "      <th>Name</th>\n",
       "      <th>Final</th>\n",
       "      <th>Started</th>\n",
       "      <th>County</th>\n",
       "      <th>AcresBurned</th>\n",
       "      <th>PercentContained</th>\n",
       "      <th>Longitude</th>\n",
       "      <th>Latitude</th>\n",
       "      <th>Type</th>\n",
       "      <th>IsActive</th>\n",
       "      <th>CalFireIncident</th>\n",
       "      <th>Location</th>\n",
       "    </tr>\n",
       "  </thead>\n",
       "  <tbody>\n",
       "    <tr>\n",
       "      <th>0</th>\n",
       "      <td>Apple Fire</td>\n",
       "      <td>False</td>\n",
       "      <td>2020-07-31T18:08:39Z</td>\n",
       "      <td>Riverside</td>\n",
       "      <td>0</td>\n",
       "      <td>0</td>\n",
       "      <td>-116.9617</td>\n",
       "      <td>33.99139</td>\n",
       "      <td>Wildfire</td>\n",
       "      <td>True</td>\n",
       "      <td>False</td>\n",
       "      <td>off of Oak Glen Road and Apple Tree Lane, Nort...</td>\n",
       "    </tr>\n",
       "    <tr>\n",
       "      <th>1</th>\n",
       "      <td>August Complex (includes Doe Fire)</td>\n",
       "      <td>False</td>\n",
       "      <td>2020-08-16T20:37:26Z</td>\n",
       "      <td>Mendocino, Humboldt, Trinity, Tehama, Glenn, L...</td>\n",
       "      <td>1032209</td>\n",
       "      <td>80</td>\n",
       "      <td>-122.6730</td>\n",
       "      <td>39.77600</td>\n",
       "      <td>Wildfire</td>\n",
       "      <td>True</td>\n",
       "      <td>True</td>\n",
       "      <td>Mendocino, Humboldt, Trinity, Tehama, Glenn, ...</td>\n",
       "    </tr>\n",
       "  </tbody>\n",
       "</table>\n",
       "</div>"
      ],
      "text/plain": [
       "                                 Name  Final               Started  \\\n",
       "0                          Apple Fire  False  2020-07-31T18:08:39Z   \n",
       "1  August Complex (includes Doe Fire)  False  2020-08-16T20:37:26Z   \n",
       "\n",
       "                                              County  AcresBurned  \\\n",
       "0                                          Riverside            0   \n",
       "1  Mendocino, Humboldt, Trinity, Tehama, Glenn, L...      1032209   \n",
       "\n",
       "   PercentContained  Longitude  Latitude      Type  IsActive  CalFireIncident  \\\n",
       "0                 0  -116.9617  33.99139  Wildfire      True            False   \n",
       "1                80  -122.6730  39.77600  Wildfire      True             True   \n",
       "\n",
       "                                            Location  \n",
       "0  off of Oak Glen Road and Apple Tree Lane, Nort...  \n",
       "1   Mendocino, Humboldt, Trinity, Tehama, Glenn, ...  "
      ]
     },
     "execution_count": 8,
     "metadata": {},
     "output_type": "execute_result"
    }
   ],
   "source": [
    "fire.head(2)"
   ]
  },
  {
   "cell_type": "code",
   "execution_count": 9,
   "metadata": {},
   "outputs": [
    {
     "data": {
      "text/plain": [
       "(58, 14)"
      ]
     },
     "execution_count": 9,
     "metadata": {},
     "output_type": "execute_result"
    }
   ],
   "source": [
    "covid.shape"
   ]
  },
  {
   "cell_type": "code",
   "execution_count": 10,
   "metadata": {},
   "outputs": [
    {
     "data": {
      "text/plain": [
       "(59, 3)"
      ]
     },
     "execution_count": 10,
     "metadata": {},
     "output_type": "execute_result"
    }
   ],
   "source": [
    "population.shape"
   ]
  },
  {
   "cell_type": "code",
   "execution_count": 11,
   "metadata": {},
   "outputs": [],
   "source": [
    "population = population[population['County'].str.contains('County')]"
   ]
  },
  {
   "cell_type": "code",
   "execution_count": 12,
   "metadata": {},
   "outputs": [],
   "source": [
    "# fix county names so they don't contain 'County'\n",
    "population['county'] = population['County'].apply(lambda x: ' '.join(x.split()[:-1]))"
   ]
  },
  {
   "cell_type": "code",
   "execution_count": 13,
   "metadata": {},
   "outputs": [],
   "source": [
    "# drop 'Rank' and 'County' columns from population dataframe\n",
    "population.drop(columns=['Rank', 'County'], inplace=True)"
   ]
  },
  {
   "cell_type": "code",
   "execution_count": 14,
   "metadata": {},
   "outputs": [
    {
     "data": {
      "text/plain": [
       "(200, 6)"
      ]
     },
     "execution_count": 14,
     "metadata": {},
     "output_type": "execute_result"
    }
   ],
   "source": [
    "earthquake.shape"
   ]
  },
  {
   "cell_type": "code",
   "execution_count": 15,
   "metadata": {},
   "outputs": [
    {
     "data": {
      "text/plain": [
       "(202, 12)"
      ]
     },
     "execution_count": 15,
     "metadata": {},
     "output_type": "execute_result"
    }
   ],
   "source": [
    "fire.shape"
   ]
  },
  {
   "cell_type": "code",
   "execution_count": 16,
   "metadata": {},
   "outputs": [
    {
     "data": {
      "text/plain": [
       "Wildfire    202\n",
       "Name: Type, dtype: int64"
      ]
     },
     "execution_count": 16,
     "metadata": {},
     "output_type": "execute_result"
    }
   ],
   "source": [
    "fire['Type'].value_counts()\n"
   ]
  },
  {
   "cell_type": "code",
   "execution_count": 17,
   "metadata": {},
   "outputs": [],
   "source": [
    "# drop `Type` column because they are all wildfires\n",
    "fire.drop(columns = ['Type'], inplace = True)"
   ]
  },
  {
   "cell_type": "markdown",
   "metadata": {},
   "source": [
    "\n",
    "The goal here is to merge dataframes based on county column as a common key. Covid data is clean and ready to go. Some fires extend to multiple counties. We are going to base our analysis on the county level, so we need to preserve the fire information for each county. Here, we are going to separate the county to individual counties while copying the fire data where the fire spans to multiple counties."
   ]
  },
  {
   "cell_type": "code",
   "execution_count": 18,
   "metadata": {},
   "outputs": [],
   "source": [
    "# first change the `County` column from str to a list\n",
    "fire['County'] = fire['County'].apply(lambda x: x.split(', '))"
   ]
  },
  {
   "cell_type": "code",
   "execution_count": 19,
   "metadata": {},
   "outputs": [],
   "source": [
    "\n",
    "# modified from https://stackoverflow.com/questions/24029659/python-pandas-replicate-rows-in-dataframe\n",
    "# making copies of the rows with more than one county listed. The number of copies correspond to the number of counties\n",
    "reps = [len(county) if  len(county) > 1 else 1 for county in fire['County']]\n",
    "fire = fire.loc[np.repeat(fire.index.values, reps)]"
   ]
  },
  {
   "cell_type": "code",
   "execution_count": 20,
   "metadata": {},
   "outputs": [],
   "source": [
    "# reset index \n",
    "fire.reset_index(inplace=True, drop=True)"
   ]
  },
  {
   "cell_type": "code",
   "execution_count": 21,
   "metadata": {},
   "outputs": [],
   "source": [
    "# reassign single counties to the `County` column\n",
    "\n",
    "# index counter and an empty counties list\n",
    "index = 0\n",
    "counties = []\n",
    "\n",
    "# loop to have an index track to not go out of index range\n",
    "for indexer in range(len(fire)):\n",
    "    while index <= indexer:\n",
    "        \n",
    "        # if there is only a single county name, append that county name to the list\n",
    "        if len(fire.iloc[index, 3]) == 1:\n",
    "            counties.append(fire.iloc[index, 3][0])\n",
    "            index += 1\n",
    "            \n",
    "        # if there is more than one single county name, append each county name to the list\n",
    "        else:\n",
    "            for i in range(0, len(fire.iloc[index, 3])):\n",
    "                # append each indiviual county name of the multi-county list\n",
    "                counties.append(fire.iloc[index, 3][i])\n",
    "            # set the index, so that it goes to the next 'unique' item\n",
    "            index += len(fire.iloc[index, 3])\n",
    "\n",
    "# reassign `County` column to this new list\n",
    "fire['County'] = counties\n"
   ]
  },
  {
   "cell_type": "markdown",
   "metadata": {},
   "source": [
    "The earthquake dataset does not include county names, so we are making a new column with the county names assigned from latitude and longitude using the python uszipcode library."
   ]
  },
  {
   "cell_type": "code",
   "execution_count": 22,
   "metadata": {},
   "outputs": [],
   "source": [
    "# make a function to retrive the county name from lat and long \n",
    "def county_name(x):\n",
    "    '''Takes in latitude and longitude (as a literable) and returns the closest county name for the given coordinates'''\n",
    "    lat, long = x\n",
    "    search = SearchEngine()\n",
    "    result = search.by_coordinates(lat, long, radius=100)\n",
    "    # get the county name\n",
    "    try:\n",
    "        county = result[0].county\n",
    "        \n",
    "        # this is in 'XXXX County', so fix the format so that it's only the county name without 'County' at the end\n",
    "        county = county.split()\n",
    "        \n",
    "        # get everything but the last item (which is 'County')\n",
    "        county = county[:-1]\n",
    "        \n",
    "        # return a string\n",
    "        return ' '.join(county)\n",
    "        \n",
    "    except:\n",
    "        print(f'Something went wrong. Check your coordinates: {x}')"
   ]
  },
  {
   "cell_type": "code",
   "execution_count": 23,
   "metadata": {},
   "outputs": [],
   "source": [
    "counties = earthquake[['Lat', 'Lon']].apply(county_name, axis=1)"
   ]
  },
  {
   "cell_type": "code",
   "execution_count": 24,
   "metadata": {},
   "outputs": [],
   "source": [
    "\n",
    "# add a county column\n",
    "earthquake['county'] = counties"
   ]
  },
  {
   "cell_type": "code",
   "execution_count": 25,
   "metadata": {},
   "outputs": [],
   "source": [
    "# making dictionaries to change column names before merging\n",
    "\n",
    "covid_cols = {\n",
    "    'FIPS': 'fips',\n",
    "    'Admin2': 'county',\n",
    "    'Province_State': 'province_state',\n",
    "    'Country_Region': 'country',\n",
    "    'Last_Update': 'covid_last_update',\n",
    "    'Lat': 'covid_latitude',\n",
    "    'Long_': 'covid_longitudue',\n",
    "    'Confirmed': 'covid_confirmed',\n",
    "    'Deaths': 'covid_death',\n",
    "    'Recovered': 'covid_recoverd',\n",
    "    'Active': 'covid_active',\n",
    "    'Combined_Key': 'combined_key',\n",
    "    'Incidence_Rate': 'covid_indidence_rate',\n",
    "    'Case-Fatality_Ratio': 'covid_case_fatality_ratio',\n",
    "    'Population': 'county_population'\n",
    "}\n",
    "\n",
    "earthquake_cols = {\n",
    "    'Event ID': 'earthquake_id',\n",
    "    'Name/Epicenter': 'eipicenter',\n",
    "    'Date': 'earthquake_date',\n",
    "    'Lat': 'earthquake_latidute',\n",
    "    'Lon': 'earthquake_longitude',\n",
    "    'Mag': 'magnitude'\n",
    "}\n",
    "\n",
    "fire_cols = {\n",
    "    'Name': 'fire_name',\n",
    "    'Final': 'fire_is_final',\n",
    "    'Started': 'fire_started',\n",
    "    'County': 'county',\n",
    "    'AcresBurned': 'acres_burned',\n",
    "    'PercentContained': 'fire_percent_contained',\n",
    "    'Longitude': 'fire_longitude',\n",
    "    'Latitude': 'fire_latitude',\n",
    "    'IsActive': 'fire_is_active',\n",
    "    'CalFireIncident': 'is_calfireincident',\n",
    "    'Location': 'fire_location'\n",
    "}"
   ]
  },
  {
   "cell_type": "code",
   "execution_count": 26,
   "metadata": {},
   "outputs": [],
   "source": [
    "covid.rename(columns=covid_cols, inplace=True)"
   ]
  },
  {
   "cell_type": "code",
   "execution_count": 27,
   "metadata": {},
   "outputs": [],
   "source": [
    "earthquake.rename(columns=earthquake_cols, inplace=True)"
   ]
  },
  {
   "cell_type": "code",
   "execution_count": 28,
   "metadata": {},
   "outputs": [],
   "source": [
    "fire.rename(columns=fire_cols, inplace=True)"
   ]
  },
  {
   "cell_type": "markdown",
   "metadata": {},
   "source": [
    "Merge all three dataframes using county as the common key. In order to keep all information, we are using outer merge."
   ]
  },
  {
   "cell_type": "code",
   "execution_count": 29,
   "metadata": {},
   "outputs": [],
   "source": [
    "\n",
    "# first merge the population data to covid data. this will be done as left join\n",
    "covid = pd.merge(covid, population, on='county', how='left')"
   ]
  },
  {
   "cell_type": "code",
   "execution_count": 30,
   "metadata": {},
   "outputs": [],
   "source": [
    "covid_earthquake = pd.merge(covid, earthquake, how='outer', on='county')"
   ]
  },
  {
   "cell_type": "code",
   "execution_count": 31,
   "metadata": {},
   "outputs": [],
   "source": [
    "all_3 = pd.merge(covid_earthquake, fire, how='outer', on='county')"
   ]
  },
  {
   "cell_type": "code",
   "execution_count": 32,
   "metadata": {},
   "outputs": [],
   "source": [
    "all_3.to_csv('../data/covid_fire_earthquake.csv')"
   ]
  },
  {
   "cell_type": "code",
   "execution_count": 33,
   "metadata": {},
   "outputs": [],
   "source": [
    "df= pd.read_csv('../data/covid_fire_earthquake.csv')"
   ]
  },
  {
   "cell_type": "code",
   "execution_count": 34,
   "metadata": {},
   "outputs": [],
   "source": [
    "pd.set_option('display.max_columns', None)"
   ]
  },
  {
   "cell_type": "code",
   "execution_count": 35,
   "metadata": {},
   "outputs": [
    {
     "data": {
      "text/html": [
       "<div>\n",
       "<style scoped>\n",
       "    .dataframe tbody tr th:only-of-type {\n",
       "        vertical-align: middle;\n",
       "    }\n",
       "\n",
       "    .dataframe tbody tr th {\n",
       "        vertical-align: top;\n",
       "    }\n",
       "\n",
       "    .dataframe thead th {\n",
       "        text-align: right;\n",
       "    }\n",
       "</style>\n",
       "<table border=\"1\" class=\"dataframe\">\n",
       "  <thead>\n",
       "    <tr style=\"text-align: right;\">\n",
       "      <th></th>\n",
       "      <th>Unnamed: 0</th>\n",
       "      <th>fips</th>\n",
       "      <th>county</th>\n",
       "      <th>province_state</th>\n",
       "      <th>country</th>\n",
       "      <th>covid_last_update</th>\n",
       "      <th>covid_latitude</th>\n",
       "      <th>covid_longitudue</th>\n",
       "      <th>covid_confirmed</th>\n",
       "      <th>covid_death</th>\n",
       "      <th>covid_recoverd</th>\n",
       "      <th>covid_active</th>\n",
       "      <th>combined_key</th>\n",
       "      <th>covid_indidence_rate</th>\n",
       "      <th>covid_case_fatality_ratio</th>\n",
       "      <th>Population</th>\n",
       "      <th>earthquake_id</th>\n",
       "      <th>eipicenter</th>\n",
       "      <th>earthquake_date</th>\n",
       "      <th>earthquake_latidute</th>\n",
       "      <th>earthquake_longitude</th>\n",
       "      <th>magnitude</th>\n",
       "      <th>fire_name</th>\n",
       "      <th>fire_is_final</th>\n",
       "      <th>fire_started</th>\n",
       "      <th>acres_burned</th>\n",
       "      <th>fire_percent_contained</th>\n",
       "      <th>fire_longitude</th>\n",
       "      <th>fire_latitude</th>\n",
       "      <th>fire_is_active</th>\n",
       "      <th>is_calfireincident</th>\n",
       "      <th>fire_location</th>\n",
       "    </tr>\n",
       "  </thead>\n",
       "  <tbody>\n",
       "    <tr>\n",
       "      <th>0</th>\n",
       "      <td>0</td>\n",
       "      <td>6001.0</td>\n",
       "      <td>Alameda</td>\n",
       "      <td>California</td>\n",
       "      <td>US</td>\n",
       "      <td>2020-10-17 04:24:12</td>\n",
       "      <td>37.646294</td>\n",
       "      <td>-121.892927</td>\n",
       "      <td>22408.0</td>\n",
       "      <td>439.0</td>\n",
       "      <td>0.0</td>\n",
       "      <td>21969.0</td>\n",
       "      <td>Alameda, California, US</td>\n",
       "      <td>1340.729443</td>\n",
       "      <td>1.959122</td>\n",
       "      <td>1671329.0</td>\n",
       "      <td>NaN</td>\n",
       "      <td>NaN</td>\n",
       "      <td>NaN</td>\n",
       "      <td>NaN</td>\n",
       "      <td>NaN</td>\n",
       "      <td>NaN</td>\n",
       "      <td>Sheridan Fire</td>\n",
       "      <td>True</td>\n",
       "      <td>2020-07-04T15:04:41Z</td>\n",
       "      <td>108.0</td>\n",
       "      <td>100.0</td>\n",
       "      <td>-121.876277</td>\n",
       "      <td>37.536015</td>\n",
       "      <td>False</td>\n",
       "      <td>True</td>\n",
       "      <td>Sheridan Road, south of Sunol in Santa Clara c...</td>\n",
       "    </tr>\n",
       "    <tr>\n",
       "      <th>1</th>\n",
       "      <td>1</td>\n",
       "      <td>6001.0</td>\n",
       "      <td>Alameda</td>\n",
       "      <td>California</td>\n",
       "      <td>US</td>\n",
       "      <td>2020-10-17 04:24:12</td>\n",
       "      <td>37.646294</td>\n",
       "      <td>-121.892927</td>\n",
       "      <td>22408.0</td>\n",
       "      <td>439.0</td>\n",
       "      <td>0.0</td>\n",
       "      <td>21969.0</td>\n",
       "      <td>Alameda, California, US</td>\n",
       "      <td>1340.729443</td>\n",
       "      <td>1.959122</td>\n",
       "      <td>1671329.0</td>\n",
       "      <td>NaN</td>\n",
       "      <td>NaN</td>\n",
       "      <td>NaN</td>\n",
       "      <td>NaN</td>\n",
       "      <td>NaN</td>\n",
       "      <td>NaN</td>\n",
       "      <td>Hollow Fire</td>\n",
       "      <td>True</td>\n",
       "      <td>2020-07-16T18:14:18Z</td>\n",
       "      <td>253.0</td>\n",
       "      <td>100.0</td>\n",
       "      <td>-121.593740</td>\n",
       "      <td>37.640440</td>\n",
       "      <td>False</td>\n",
       "      <td>True</td>\n",
       "      <td>Tesla Road and McLaughlin Road, Southeast of L...</td>\n",
       "    </tr>\n",
       "  </tbody>\n",
       "</table>\n",
       "</div>"
      ],
      "text/plain": [
       "   Unnamed: 0    fips   county province_state country    covid_last_update  \\\n",
       "0           0  6001.0  Alameda     California      US  2020-10-17 04:24:12   \n",
       "1           1  6001.0  Alameda     California      US  2020-10-17 04:24:12   \n",
       "\n",
       "   covid_latitude  covid_longitudue  covid_confirmed  covid_death  \\\n",
       "0       37.646294       -121.892927          22408.0        439.0   \n",
       "1       37.646294       -121.892927          22408.0        439.0   \n",
       "\n",
       "   covid_recoverd  covid_active             combined_key  \\\n",
       "0             0.0       21969.0  Alameda, California, US   \n",
       "1             0.0       21969.0  Alameda, California, US   \n",
       "\n",
       "   covid_indidence_rate  covid_case_fatality_ratio  Population earthquake_id  \\\n",
       "0           1340.729443                   1.959122   1671329.0           NaN   \n",
       "1           1340.729443                   1.959122   1671329.0           NaN   \n",
       "\n",
       "  eipicenter earthquake_date  earthquake_latidute  earthquake_longitude  \\\n",
       "0        NaN             NaN                  NaN                   NaN   \n",
       "1        NaN             NaN                  NaN                   NaN   \n",
       "\n",
       "   magnitude      fire_name fire_is_final          fire_started  acres_burned  \\\n",
       "0        NaN  Sheridan Fire          True  2020-07-04T15:04:41Z         108.0   \n",
       "1        NaN    Hollow Fire          True  2020-07-16T18:14:18Z         253.0   \n",
       "\n",
       "   fire_percent_contained  fire_longitude  fire_latitude fire_is_active  \\\n",
       "0                   100.0     -121.876277      37.536015          False   \n",
       "1                   100.0     -121.593740      37.640440          False   \n",
       "\n",
       "  is_calfireincident                                      fire_location  \n",
       "0               True  Sheridan Road, south of Sunol in Santa Clara c...  \n",
       "1               True  Tesla Road and McLaughlin Road, Southeast of L...  "
      ]
     },
     "execution_count": 35,
     "metadata": {},
     "output_type": "execute_result"
    }
   ],
   "source": [
    "df.head(2)"
   ]
  },
  {
   "cell_type": "code",
   "execution_count": 36,
   "metadata": {},
   "outputs": [
    {
     "data": {
      "text/plain": [
       "Index(['Unnamed: 0', 'fips', 'county', 'province_state', 'country',\n",
       "       'covid_last_update', 'covid_latitude', 'covid_longitudue',\n",
       "       'covid_confirmed', 'covid_death', 'covid_recoverd', 'covid_active',\n",
       "       'combined_key', 'covid_indidence_rate', 'covid_case_fatality_ratio',\n",
       "       'Population', 'earthquake_id', 'eipicenter', 'earthquake_date',\n",
       "       'earthquake_latidute', 'earthquake_longitude', 'magnitude', 'fire_name',\n",
       "       'fire_is_final', 'fire_started', 'acres_burned',\n",
       "       'fire_percent_contained', 'fire_longitude', 'fire_latitude',\n",
       "       'fire_is_active', 'is_calfireincident', 'fire_location'],\n",
       "      dtype='object')"
      ]
     },
     "execution_count": 36,
     "metadata": {},
     "output_type": "execute_result"
    }
   ],
   "source": [
    "df.columns"
   ]
  },
  {
   "cell_type": "code",
   "execution_count": 37,
   "metadata": {},
   "outputs": [
    {
     "data": {
      "text/plain": [
       "Unnamed: 0                     0\n",
       "fips                           3\n",
       "county                         0\n",
       "province_state                 3\n",
       "country                        3\n",
       "covid_last_update              3\n",
       "covid_latitude                 3\n",
       "covid_longitudue               3\n",
       "covid_confirmed                3\n",
       "covid_death                    3\n",
       "covid_recoverd                 3\n",
       "covid_active                   3\n",
       "combined_key                   3\n",
       "covid_indidence_rate           3\n",
       "covid_case_fatality_ratio      3\n",
       "Population                     3\n",
       "earthquake_id                142\n",
       "eipicenter                   142\n",
       "earthquake_date              142\n",
       "earthquake_latidute          142\n",
       "earthquake_longitude         142\n",
       "magnitude                    142\n",
       "fire_name                     36\n",
       "fire_is_final                 36\n",
       "fire_started                  36\n",
       "acres_burned                  36\n",
       "fire_percent_contained        36\n",
       "fire_longitude                36\n",
       "fire_latitude                 36\n",
       "fire_is_active                36\n",
       "is_calfireincident            36\n",
       "fire_location                 36\n",
       "dtype: int64"
      ]
     },
     "execution_count": 37,
     "metadata": {},
     "output_type": "execute_result"
    }
   ],
   "source": [
    "df.isnull().sum()"
   ]
  },
  {
   "cell_type": "code",
   "execution_count": 38,
   "metadata": {},
   "outputs": [],
   "source": [
    "# get number of acutal covid death by country \n",
    "#make a copy of our df\n",
    "df_eda=df"
   ]
  },
  {
   "cell_type": "code",
   "execution_count": 39,
   "metadata": {},
   "outputs": [],
   "source": [
    "import seaborn as sns"
   ]
  },
  {
   "cell_type": "code",
   "execution_count": 40,
   "metadata": {},
   "outputs": [
    {
     "name": "stderr",
     "output_type": "stream",
     "text": [
      "<ipython-input-40-a3cdc07839a2>:1: FutureWarning: Indexing with multiple keys (implicitly converted to a tuple of keys) will be deprecated, use a list instead.\n",
      "  covid_eda= df_eda.groupby(['county'])['covid_death', 'covid_recoverd', 'covid_active'].sum().reset_index()\n"
     ]
    },
    {
     "data": {
      "image/png": "[encoded data removed]",
      "text/plain": [
       "<Figure size 3600x720 with 1 Axes>"
      ]
     },
     "metadata": {
      "needs_background": "light"
     },
     "output_type": "display_data"
    }
   ],
   "source": [
    "covid_eda= df_eda.groupby(['county'])['covid_death', 'covid_recoverd', 'covid_active'].sum().reset_index()\n",
    "covid_eda= covid_eda.sort_values(by='covid_death', ascending=False)\n",
    "covid_eda= covid_eda[covid_eda['covid_death']>150]\n",
    " \n",
    "plt.figure(figsize=(50, 10))\n",
    "plt.plot(covid_eda['county'], covid_eda['covid_death'],color='red')\n",
    "plt.plot(covid_eda['county'], covid_eda['covid_recoverd'],color='green')\n",
    "plt.plot(covid_eda['county'], covid_eda['covid_active'], color='blue')\n",
    "\n",
    " \n",
    "plt.title('Total Deaths(>150), Recovered and Active Cases by County')\n",
    "plt.show()"
   ]
  },
  {
   "cell_type": "code",
   "execution_count": 41,
   "metadata": {},
   "outputs": [
    {
     "data": {
      "image/png": "[encoded data removed]",
      "text/plain": [
       "<Figure size 720x720 with 1 Axes>"
      ]
     },
     "metadata": {
      "needs_background": "light"
     },
     "output_type": "display_data"
    }
   ],
   "source": [
    "#plotting the initial horaizontal barchart \n",
    "fig, ax = plt.subplots(figsize=(10, 10))\n",
    "ax.barh(df_eda['county'], df_eda['covid_death'])\n",
    "plt.xlabel('Number of Death Cases')\n",
    "plt.ylabel('County');"
   ]
  },
  {
   "cell_type": "code",
   "execution_count": null,
   "metadata": {},
   "outputs": [],
   "source": [
    "df_covid=df_eda()"
   ]
  },
  {
   "cell_type": "code",
   "execution_count": null,
   "metadata": {},
   "outputs": [],
   "source": [
    "sns.heatmap(df_eda.corr()[['county']])"
   ]
  }
 ],
 "metadata": {
  "kernelspec": {
   "display_name": "Python 3",
   "language": "python",
   "name": "python3"
  },
  "language_info": {
   "codemirror_mode": {
    "name": "ipython",
    "version": 3
   },
   "file_extension": ".py",
   "mimetype": "text/x-python",
   "name": "python",
   "nbconvert_exporter": "python",
   "pygments_lexer": "ipython3",
   "version": "3.8.3"
  }
 },
 "nbformat": 4,
 "nbformat_minor": 4
}
