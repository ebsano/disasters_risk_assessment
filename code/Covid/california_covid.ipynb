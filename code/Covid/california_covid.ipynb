{
 "cells": [
  {
   "cell_type": "markdown",
   "metadata": {},
   "source": [
    "# COVID-19 Data Collection (California)"
   ]
  },
  {
   "cell_type": "code",
   "execution_count": 2,
   "metadata": {},
   "outputs": [],
   "source": [
    "import pandas as pd\n",
    "import numpy as np\n",
    "import matplotlib.pyplot as plt"
   ]
  },
  {
   "cell_type": "markdown",
   "metadata": {},
   "source": [
    "## Data Collection"
   ]
  },
  {
   "cell_type": "code",
   "execution_count": 3,
   "metadata": {},
   "outputs": [],
   "source": [
    "# data collected from John Hopkins Coronavirus Resource Center github\n",
    "# this is aggregated data from multiple sources updated Oct 16 2020\n",
    "url = 'https://raw.githubusercontent.com/CSSEGISandData/COVID-19/master/csse_covid_19_data/csse_covid_19_daily_reports/10-16-2020.csv'\n",
    "\n",
    "covid = pd.read_csv(url)"
   ]
  },
  {
   "cell_type": "code",
   "execution_count": 4,
   "metadata": {},
   "outputs": [
    {
     "data": {
      "text/html": [
       "<div>\n",
       "<style scoped>\n",
       "    .dataframe tbody tr th:only-of-type {\n",
       "        vertical-align: middle;\n",
       "    }\n",
       "\n",
       "    .dataframe tbody tr th {\n",
       "        vertical-align: top;\n",
       "    }\n",
       "\n",
       "    .dataframe thead th {\n",
       "        text-align: right;\n",
       "    }\n",
       "</style>\n",
       "<table border=\"1\" class=\"dataframe\">\n",
       "  <thead>\n",
       "    <tr style=\"text-align: right;\">\n",
       "      <th></th>\n",
       "      <th>FIPS</th>\n",
       "      <th>Admin2</th>\n",
       "      <th>Province_State</th>\n",
       "      <th>Country_Region</th>\n",
       "      <th>Last_Update</th>\n",
       "      <th>Lat</th>\n",
       "      <th>Long_</th>\n",
       "      <th>Confirmed</th>\n",
       "      <th>Deaths</th>\n",
       "      <th>Recovered</th>\n",
       "      <th>Active</th>\n",
       "      <th>Combined_Key</th>\n",
       "      <th>Incidence_Rate</th>\n",
       "      <th>Case-Fatality_Ratio</th>\n",
       "    </tr>\n",
       "  </thead>\n",
       "  <tbody>\n",
       "    <tr>\n",
       "      <th>0</th>\n",
       "      <td>NaN</td>\n",
       "      <td>NaN</td>\n",
       "      <td>NaN</td>\n",
       "      <td>Afghanistan</td>\n",
       "      <td>2020-10-17 04:24:12</td>\n",
       "      <td>33.93911</td>\n",
       "      <td>67.709953</td>\n",
       "      <td>40073</td>\n",
       "      <td>1485</td>\n",
       "      <td>33516</td>\n",
       "      <td>5072.0</td>\n",
       "      <td>Afghanistan</td>\n",
       "      <td>102.940426</td>\n",
       "      <td>3.705737</td>\n",
       "    </tr>\n",
       "    <tr>\n",
       "      <th>1</th>\n",
       "      <td>NaN</td>\n",
       "      <td>NaN</td>\n",
       "      <td>NaN</td>\n",
       "      <td>Albania</td>\n",
       "      <td>2020-10-17 04:24:12</td>\n",
       "      <td>41.15330</td>\n",
       "      <td>20.168300</td>\n",
       "      <td>16501</td>\n",
       "      <td>443</td>\n",
       "      <td>9957</td>\n",
       "      <td>6101.0</td>\n",
       "      <td>Albania</td>\n",
       "      <td>573.389395</td>\n",
       "      <td>2.684686</td>\n",
       "    </tr>\n",
       "    <tr>\n",
       "      <th>2</th>\n",
       "      <td>NaN</td>\n",
       "      <td>NaN</td>\n",
       "      <td>NaN</td>\n",
       "      <td>Algeria</td>\n",
       "      <td>2020-10-17 04:24:12</td>\n",
       "      <td>28.03390</td>\n",
       "      <td>1.659600</td>\n",
       "      <td>53998</td>\n",
       "      <td>1841</td>\n",
       "      <td>37856</td>\n",
       "      <td>14301.0</td>\n",
       "      <td>Algeria</td>\n",
       "      <td>123.139602</td>\n",
       "      <td>3.409386</td>\n",
       "    </tr>\n",
       "    <tr>\n",
       "      <th>3</th>\n",
       "      <td>NaN</td>\n",
       "      <td>NaN</td>\n",
       "      <td>NaN</td>\n",
       "      <td>Andorra</td>\n",
       "      <td>2020-10-17 04:24:12</td>\n",
       "      <td>42.50630</td>\n",
       "      <td>1.521800</td>\n",
       "      <td>3377</td>\n",
       "      <td>59</td>\n",
       "      <td>2057</td>\n",
       "      <td>1261.0</td>\n",
       "      <td>Andorra</td>\n",
       "      <td>4370.672361</td>\n",
       "      <td>1.747113</td>\n",
       "    </tr>\n",
       "    <tr>\n",
       "      <th>4</th>\n",
       "      <td>NaN</td>\n",
       "      <td>NaN</td>\n",
       "      <td>NaN</td>\n",
       "      <td>Angola</td>\n",
       "      <td>2020-10-17 04:24:12</td>\n",
       "      <td>-11.20270</td>\n",
       "      <td>17.873900</td>\n",
       "      <td>7222</td>\n",
       "      <td>234</td>\n",
       "      <td>3012</td>\n",
       "      <td>3976.0</td>\n",
       "      <td>Angola</td>\n",
       "      <td>21.973897</td>\n",
       "      <td>3.240100</td>\n",
       "    </tr>\n",
       "  </tbody>\n",
       "</table>\n",
       "</div>"
      ],
      "text/plain": [
       "   FIPS Admin2 Province_State Country_Region          Last_Update       Lat  \\\n",
       "0   NaN    NaN            NaN    Afghanistan  2020-10-17 04:24:12  33.93911   \n",
       "1   NaN    NaN            NaN        Albania  2020-10-17 04:24:12  41.15330   \n",
       "2   NaN    NaN            NaN        Algeria  2020-10-17 04:24:12  28.03390   \n",
       "3   NaN    NaN            NaN        Andorra  2020-10-17 04:24:12  42.50630   \n",
       "4   NaN    NaN            NaN         Angola  2020-10-17 04:24:12 -11.20270   \n",
       "\n",
       "       Long_  Confirmed  Deaths  Recovered   Active Combined_Key  \\\n",
       "0  67.709953      40073    1485      33516   5072.0  Afghanistan   \n",
       "1  20.168300      16501     443       9957   6101.0      Albania   \n",
       "2   1.659600      53998    1841      37856  14301.0      Algeria   \n",
       "3   1.521800       3377      59       2057   1261.0      Andorra   \n",
       "4  17.873900       7222     234       3012   3976.0       Angola   \n",
       "\n",
       "   Incidence_Rate  Case-Fatality_Ratio  \n",
       "0      102.940426             3.705737  \n",
       "1      573.389395             2.684686  \n",
       "2      123.139602             3.409386  \n",
       "3     4370.672361             1.747113  \n",
       "4       21.973897             3.240100  "
      ]
     },
     "execution_count": 4,
     "metadata": {},
     "output_type": "execute_result"
    }
   ],
   "source": [
    "covid.head()"
   ]
  },
  {
   "cell_type": "code",
   "execution_count": 5,
   "metadata": {},
   "outputs": [],
   "source": [
    "# The data contain from information from all over the world. Get rid of everything but California data\n",
    "covid_ca = covid[covid['Province_State'] == 'California'] "
   ]
  },
  {
   "cell_type": "code",
   "execution_count": 6,
   "metadata": {},
   "outputs": [
    {
     "data": {
      "text/html": [
       "<div>\n",
       "<style scoped>\n",
       "    .dataframe tbody tr th:only-of-type {\n",
       "        vertical-align: middle;\n",
       "    }\n",
       "\n",
       "    .dataframe tbody tr th {\n",
       "        vertical-align: top;\n",
       "    }\n",
       "\n",
       "    .dataframe thead th {\n",
       "        text-align: right;\n",
       "    }\n",
       "</style>\n",
       "<table border=\"1\" class=\"dataframe\">\n",
       "  <thead>\n",
       "    <tr style=\"text-align: right;\">\n",
       "      <th></th>\n",
       "      <th>FIPS</th>\n",
       "      <th>Admin2</th>\n",
       "      <th>Province_State</th>\n",
       "      <th>Country_Region</th>\n",
       "      <th>Last_Update</th>\n",
       "      <th>Lat</th>\n",
       "      <th>Long_</th>\n",
       "      <th>Confirmed</th>\n",
       "      <th>Deaths</th>\n",
       "      <th>Recovered</th>\n",
       "      <th>Active</th>\n",
       "      <th>Combined_Key</th>\n",
       "      <th>Incidence_Rate</th>\n",
       "      <th>Case-Fatality_Ratio</th>\n",
       "    </tr>\n",
       "  </thead>\n",
       "  <tbody>\n",
       "    <tr>\n",
       "      <th>822</th>\n",
       "      <td>6001.0</td>\n",
       "      <td>Alameda</td>\n",
       "      <td>California</td>\n",
       "      <td>US</td>\n",
       "      <td>2020-10-17 04:24:12</td>\n",
       "      <td>37.646294</td>\n",
       "      <td>-121.892927</td>\n",
       "      <td>22408</td>\n",
       "      <td>439</td>\n",
       "      <td>0</td>\n",
       "      <td>21969.0</td>\n",
       "      <td>Alameda, California, US</td>\n",
       "      <td>1340.729443</td>\n",
       "      <td>1.959122</td>\n",
       "    </tr>\n",
       "    <tr>\n",
       "      <th>823</th>\n",
       "      <td>6003.0</td>\n",
       "      <td>Alpine</td>\n",
       "      <td>California</td>\n",
       "      <td>US</td>\n",
       "      <td>2020-10-17 04:24:12</td>\n",
       "      <td>38.596786</td>\n",
       "      <td>-119.822359</td>\n",
       "      <td>3</td>\n",
       "      <td>0</td>\n",
       "      <td>0</td>\n",
       "      <td>3.0</td>\n",
       "      <td>Alpine, California, US</td>\n",
       "      <td>265.721878</td>\n",
       "      <td>0.000000</td>\n",
       "    </tr>\n",
       "    <tr>\n",
       "      <th>824</th>\n",
       "      <td>6005.0</td>\n",
       "      <td>Amador</td>\n",
       "      <td>California</td>\n",
       "      <td>US</td>\n",
       "      <td>2020-10-17 04:24:12</td>\n",
       "      <td>38.445831</td>\n",
       "      <td>-120.656960</td>\n",
       "      <td>309</td>\n",
       "      <td>16</td>\n",
       "      <td>0</td>\n",
       "      <td>293.0</td>\n",
       "      <td>Amador, California, US</td>\n",
       "      <td>777.319380</td>\n",
       "      <td>5.177994</td>\n",
       "    </tr>\n",
       "    <tr>\n",
       "      <th>825</th>\n",
       "      <td>6007.0</td>\n",
       "      <td>Butte</td>\n",
       "      <td>California</td>\n",
       "      <td>US</td>\n",
       "      <td>2020-10-17 04:24:12</td>\n",
       "      <td>39.667278</td>\n",
       "      <td>-121.600525</td>\n",
       "      <td>3000</td>\n",
       "      <td>50</td>\n",
       "      <td>0</td>\n",
       "      <td>2950.0</td>\n",
       "      <td>Butte, California, US</td>\n",
       "      <td>1368.700556</td>\n",
       "      <td>1.666667</td>\n",
       "    </tr>\n",
       "    <tr>\n",
       "      <th>826</th>\n",
       "      <td>6009.0</td>\n",
       "      <td>Calaveras</td>\n",
       "      <td>California</td>\n",
       "      <td>US</td>\n",
       "      <td>2020-10-17 04:24:12</td>\n",
       "      <td>38.205371</td>\n",
       "      <td>-120.552913</td>\n",
       "      <td>331</td>\n",
       "      <td>16</td>\n",
       "      <td>0</td>\n",
       "      <td>315.0</td>\n",
       "      <td>Calaveras, California, US</td>\n",
       "      <td>721.054351</td>\n",
       "      <td>4.833837</td>\n",
       "    </tr>\n",
       "  </tbody>\n",
       "</table>\n",
       "</div>"
      ],
      "text/plain": [
       "       FIPS     Admin2 Province_State Country_Region          Last_Update  \\\n",
       "822  6001.0    Alameda     California             US  2020-10-17 04:24:12   \n",
       "823  6003.0     Alpine     California             US  2020-10-17 04:24:12   \n",
       "824  6005.0     Amador     California             US  2020-10-17 04:24:12   \n",
       "825  6007.0      Butte     California             US  2020-10-17 04:24:12   \n",
       "826  6009.0  Calaveras     California             US  2020-10-17 04:24:12   \n",
       "\n",
       "           Lat       Long_  Confirmed  Deaths  Recovered   Active  \\\n",
       "822  37.646294 -121.892927      22408     439          0  21969.0   \n",
       "823  38.596786 -119.822359          3       0          0      3.0   \n",
       "824  38.445831 -120.656960        309      16          0    293.0   \n",
       "825  39.667278 -121.600525       3000      50          0   2950.0   \n",
       "826  38.205371 -120.552913        331      16          0    315.0   \n",
       "\n",
       "                  Combined_Key  Incidence_Rate  Case-Fatality_Ratio  \n",
       "822    Alameda, California, US     1340.729443             1.959122  \n",
       "823     Alpine, California, US      265.721878             0.000000  \n",
       "824     Amador, California, US      777.319380             5.177994  \n",
       "825      Butte, California, US     1368.700556             1.666667  \n",
       "826  Calaveras, California, US      721.054351             4.833837  "
      ]
     },
     "execution_count": 6,
     "metadata": {},
     "output_type": "execute_result"
    }
   ],
   "source": [
    "covid_ca.head()"
   ]
  },
  {
   "cell_type": "code",
   "execution_count": 7,
   "metadata": {},
   "outputs": [
    {
     "name": "stdout",
     "output_type": "stream",
     "text": [
      "<class 'pandas.core.frame.DataFrame'>\n",
      "Int64Index: 59 entries, 822 to 880\n",
      "Data columns (total 14 columns):\n",
      " #   Column               Non-Null Count  Dtype  \n",
      "---  ------               --------------  -----  \n",
      " 0   FIPS                 59 non-null     float64\n",
      " 1   Admin2               59 non-null     object \n",
      " 2   Province_State       59 non-null     object \n",
      " 3   Country_Region       59 non-null     object \n",
      " 4   Last_Update          59 non-null     object \n",
      " 5   Lat                  58 non-null     float64\n",
      " 6   Long_                58 non-null     float64\n",
      " 7   Confirmed            59 non-null     int64  \n",
      " 8   Deaths               59 non-null     int64  \n",
      " 9   Recovered            59 non-null     int64  \n",
      " 10  Active               59 non-null     float64\n",
      " 11  Combined_Key         59 non-null     object \n",
      " 12  Incidence_Rate       58 non-null     float64\n",
      " 13  Case-Fatality_Ratio  58 non-null     float64\n",
      "dtypes: float64(6), int64(3), object(5)\n",
      "memory usage: 6.9+ KB\n"
     ]
    }
   ],
   "source": [
    "covid_ca.info()"
   ]
  },
  {
   "cell_type": "code",
   "execution_count": 8,
   "metadata": {},
   "outputs": [
    {
     "data": {
      "text/html": [
       "<div>\n",
       "<style scoped>\n",
       "    .dataframe tbody tr th:only-of-type {\n",
       "        vertical-align: middle;\n",
       "    }\n",
       "\n",
       "    .dataframe tbody tr th {\n",
       "        vertical-align: top;\n",
       "    }\n",
       "\n",
       "    .dataframe thead th {\n",
       "        text-align: right;\n",
       "    }\n",
       "</style>\n",
       "<table border=\"1\" class=\"dataframe\">\n",
       "  <thead>\n",
       "    <tr style=\"text-align: right;\">\n",
       "      <th></th>\n",
       "      <th>FIPS</th>\n",
       "      <th>Admin2</th>\n",
       "      <th>Province_State</th>\n",
       "      <th>Country_Region</th>\n",
       "      <th>Last_Update</th>\n",
       "      <th>Lat</th>\n",
       "      <th>Long_</th>\n",
       "      <th>Confirmed</th>\n",
       "      <th>Deaths</th>\n",
       "      <th>Recovered</th>\n",
       "      <th>Active</th>\n",
       "      <th>Combined_Key</th>\n",
       "      <th>Incidence_Rate</th>\n",
       "      <th>Case-Fatality_Ratio</th>\n",
       "    </tr>\n",
       "  </thead>\n",
       "  <tbody>\n",
       "    <tr>\n",
       "      <th>877</th>\n",
       "      <td>90006.0</td>\n",
       "      <td>Unassigned</td>\n",
       "      <td>California</td>\n",
       "      <td>US</td>\n",
       "      <td>2020-10-17 04:24:12</td>\n",
       "      <td>NaN</td>\n",
       "      <td>NaN</td>\n",
       "      <td>0</td>\n",
       "      <td>0</td>\n",
       "      <td>0</td>\n",
       "      <td>0.0</td>\n",
       "      <td>Unassigned, California, US</td>\n",
       "      <td>NaN</td>\n",
       "      <td>NaN</td>\n",
       "    </tr>\n",
       "  </tbody>\n",
       "</table>\n",
       "</div>"
      ],
      "text/plain": [
       "        FIPS      Admin2 Province_State Country_Region          Last_Update  \\\n",
       "877  90006.0  Unassigned     California             US  2020-10-17 04:24:12   \n",
       "\n",
       "     Lat  Long_  Confirmed  Deaths  Recovered  Active  \\\n",
       "877  NaN    NaN          0       0          0     0.0   \n",
       "\n",
       "                   Combined_Key  Incidence_Rate  Case-Fatality_Ratio  \n",
       "877  Unassigned, California, US             NaN                  NaN  "
      ]
     },
     "execution_count": 8,
     "metadata": {},
     "output_type": "execute_result"
    }
   ],
   "source": [
    "covid_ca[covid_ca['Incidence_Rate'].isna()]"
   ]
  },
  {
   "cell_type": "code",
   "execution_count": 9,
   "metadata": {},
   "outputs": [],
   "source": [
    "# I'm getting rid of this row containing data from unassigned regions.\n",
    "covid_ca = covid_ca[covid_ca['Incidence_Rate'].isna() == False]"
   ]
  },
  {
   "cell_type": "code",
   "execution_count": 10,
   "metadata": {},
   "outputs": [
    {
     "data": {
      "text/plain": [
       "FIPS                   0\n",
       "Admin2                 0\n",
       "Province_State         0\n",
       "Country_Region         0\n",
       "Last_Update            0\n",
       "Lat                    0\n",
       "Long_                  0\n",
       "Confirmed              0\n",
       "Deaths                 0\n",
       "Recovered              0\n",
       "Active                 0\n",
       "Combined_Key           0\n",
       "Incidence_Rate         0\n",
       "Case-Fatality_Ratio    0\n",
       "dtype: int64"
      ]
     },
     "execution_count": 10,
     "metadata": {},
     "output_type": "execute_result"
    }
   ],
   "source": [
    "covid_ca.isna().sum()"
   ]
  },
  {
   "cell_type": "code",
   "execution_count": 11,
   "metadata": {},
   "outputs": [
    {
     "data": {
      "image/png": "[encoded data removed]",
      "text/plain": [
       "<Figure size 720x360 with 1 Axes>"
      ]
     },
     "metadata": {
      "needs_background": "light"
     },
     "output_type": "display_data"
    }
   ],
   "source": [
    "plt.figure(figsize=(10, 5))\n",
    "plt.bar(covid_ca['Admin2'], covid_ca['Confirmed'])\n",
    "plt.xticks(rotation=90)\n",
    "plt.xlabel('County')\n",
    "plt.ylabel('Number of Confirmed Cases');"
   ]
  },
  {
   "cell_type": "markdown",
   "metadata": {},
   "source": [
    "Maybe we can put categories to each count depending on the number of cases. (e.g. 'extreme hotspot', 'hotspot' etc) "
   ]
  },
  {
   "cell_type": "code",
   "execution_count": 12,
   "metadata": {},
   "outputs": [],
   "source": [
    "# write data to file\n",
    "covid_ca.to_csv('../../data/california_covid.csv', index=False)"
   ]
  },
  {
   "cell_type": "code",
   "execution_count": null,
   "metadata": {},
   "outputs": [],
   "source": []
  }
 ],
 "metadata": {
  "kernelspec": {
   "display_name": "Python 3",
   "language": "python",
   "name": "python3"
  },
  "language_info": {
   "codemirror_mode": {
    "name": "ipython",
    "version": 3
   },
   "file_extension": ".py",
   "mimetype": "text/x-python",
   "name": "python",
   "nbconvert_exporter": "python",
   "pygments_lexer": "ipython3",
   "version": "3.7.7"
  }
 },
 "nbformat": 4,
 "nbformat_minor": 4
}
